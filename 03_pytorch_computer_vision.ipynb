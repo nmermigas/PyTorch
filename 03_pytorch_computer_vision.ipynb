{
  "nbformat": 4,
  "nbformat_minor": 0,
  "metadata": {
    "colab": {
      "provenance": [],
      "gpuType": "T4",
      "authorship_tag": "ABX9TyODGSR9wgU50ula5bEbH/hQ",
      "include_colab_link": true
    },
    "kernelspec": {
      "name": "python3",
      "display_name": "Python 3"
    },
    "language_info": {
      "name": "python"
    },
    "widgets": {
      "application/vnd.jupyter.widget-state+json": {
        "06f0e7a666374acc91fa6e4fd86c2583": {
          "model_module": "@jupyter-widgets/controls",
          "model_name": "HBoxModel",
          "model_module_version": "1.5.0",
          "state": {
            "_dom_classes": [],
            "_model_module": "@jupyter-widgets/controls",
            "_model_module_version": "1.5.0",
            "_model_name": "HBoxModel",
            "_view_count": null,
            "_view_module": "@jupyter-widgets/controls",
            "_view_module_version": "1.5.0",
            "_view_name": "HBoxView",
            "box_style": "",
            "children": [
              "IPY_MODEL_5acaffe76f334b3ab2763bf29f62608e",
              "IPY_MODEL_b6af4e90a0c24385a021f7049d66df54",
              "IPY_MODEL_7d36e4edf1a942bab6654d5edfd0405b"
            ],
            "layout": "IPY_MODEL_e1f9d0da4d764a8e90c83226a8408606"
          }
        },
        "5acaffe76f334b3ab2763bf29f62608e": {
          "model_module": "@jupyter-widgets/controls",
          "model_name": "HTMLModel",
          "model_module_version": "1.5.0",
          "state": {
            "_dom_classes": [],
            "_model_module": "@jupyter-widgets/controls",
            "_model_module_version": "1.5.0",
            "_model_name": "HTMLModel",
            "_view_count": null,
            "_view_module": "@jupyter-widgets/controls",
            "_view_module_version": "1.5.0",
            "_view_name": "HTMLView",
            "description": "",
            "description_tooltip": null,
            "layout": "IPY_MODEL_46dab344e1ae43dca72c7a6ba40af8ce",
            "placeholder": "​",
            "style": "IPY_MODEL_e6ca7cacf38b476cbbd6adde861e3143",
            "value": "100%"
          }
        },
        "b6af4e90a0c24385a021f7049d66df54": {
          "model_module": "@jupyter-widgets/controls",
          "model_name": "FloatProgressModel",
          "model_module_version": "1.5.0",
          "state": {
            "_dom_classes": [],
            "_model_module": "@jupyter-widgets/controls",
            "_model_module_version": "1.5.0",
            "_model_name": "FloatProgressModel",
            "_view_count": null,
            "_view_module": "@jupyter-widgets/controls",
            "_view_module_version": "1.5.0",
            "_view_name": "ProgressView",
            "bar_style": "success",
            "description": "",
            "description_tooltip": null,
            "layout": "IPY_MODEL_09ab146a5f0340268736ca5eb3b86c4a",
            "max": 3,
            "min": 0,
            "orientation": "horizontal",
            "style": "IPY_MODEL_540a0ef251a44b5a810691b3839a069d",
            "value": 3
          }
        },
        "7d36e4edf1a942bab6654d5edfd0405b": {
          "model_module": "@jupyter-widgets/controls",
          "model_name": "HTMLModel",
          "model_module_version": "1.5.0",
          "state": {
            "_dom_classes": [],
            "_model_module": "@jupyter-widgets/controls",
            "_model_module_version": "1.5.0",
            "_model_name": "HTMLModel",
            "_view_count": null,
            "_view_module": "@jupyter-widgets/controls",
            "_view_module_version": "1.5.0",
            "_view_name": "HTMLView",
            "description": "",
            "description_tooltip": null,
            "layout": "IPY_MODEL_505e33983f884671bb0e51a4857deb37",
            "placeholder": "​",
            "style": "IPY_MODEL_2bd62c15c56f414489498922e6d489db",
            "value": " 3/3 [00:26&lt;00:00,  8.59s/it]"
          }
        },
        "e1f9d0da4d764a8e90c83226a8408606": {
          "model_module": "@jupyter-widgets/base",
          "model_name": "LayoutModel",
          "model_module_version": "1.2.0",
          "state": {
            "_model_module": "@jupyter-widgets/base",
            "_model_module_version": "1.2.0",
            "_model_name": "LayoutModel",
            "_view_count": null,
            "_view_module": "@jupyter-widgets/base",
            "_view_module_version": "1.2.0",
            "_view_name": "LayoutView",
            "align_content": null,
            "align_items": null,
            "align_self": null,
            "border": null,
            "bottom": null,
            "display": null,
            "flex": null,
            "flex_flow": null,
            "grid_area": null,
            "grid_auto_columns": null,
            "grid_auto_flow": null,
            "grid_auto_rows": null,
            "grid_column": null,
            "grid_gap": null,
            "grid_row": null,
            "grid_template_areas": null,
            "grid_template_columns": null,
            "grid_template_rows": null,
            "height": null,
            "justify_content": null,
            "justify_items": null,
            "left": null,
            "margin": null,
            "max_height": null,
            "max_width": null,
            "min_height": null,
            "min_width": null,
            "object_fit": null,
            "object_position": null,
            "order": null,
            "overflow": null,
            "overflow_x": null,
            "overflow_y": null,
            "padding": null,
            "right": null,
            "top": null,
            "visibility": null,
            "width": null
          }
        },
        "46dab344e1ae43dca72c7a6ba40af8ce": {
          "model_module": "@jupyter-widgets/base",
          "model_name": "LayoutModel",
          "model_module_version": "1.2.0",
          "state": {
            "_model_module": "@jupyter-widgets/base",
            "_model_module_version": "1.2.0",
            "_model_name": "LayoutModel",
            "_view_count": null,
            "_view_module": "@jupyter-widgets/base",
            "_view_module_version": "1.2.0",
            "_view_name": "LayoutView",
            "align_content": null,
            "align_items": null,
            "align_self": null,
            "border": null,
            "bottom": null,
            "display": null,
            "flex": null,
            "flex_flow": null,
            "grid_area": null,
            "grid_auto_columns": null,
            "grid_auto_flow": null,
            "grid_auto_rows": null,
            "grid_column": null,
            "grid_gap": null,
            "grid_row": null,
            "grid_template_areas": null,
            "grid_template_columns": null,
            "grid_template_rows": null,
            "height": null,
            "justify_content": null,
            "justify_items": null,
            "left": null,
            "margin": null,
            "max_height": null,
            "max_width": null,
            "min_height": null,
            "min_width": null,
            "object_fit": null,
            "object_position": null,
            "order": null,
            "overflow": null,
            "overflow_x": null,
            "overflow_y": null,
            "padding": null,
            "right": null,
            "top": null,
            "visibility": null,
            "width": null
          }
        },
        "e6ca7cacf38b476cbbd6adde861e3143": {
          "model_module": "@jupyter-widgets/controls",
          "model_name": "DescriptionStyleModel",
          "model_module_version": "1.5.0",
          "state": {
            "_model_module": "@jupyter-widgets/controls",
            "_model_module_version": "1.5.0",
            "_model_name": "DescriptionStyleModel",
            "_view_count": null,
            "_view_module": "@jupyter-widgets/base",
            "_view_module_version": "1.2.0",
            "_view_name": "StyleView",
            "description_width": ""
          }
        },
        "09ab146a5f0340268736ca5eb3b86c4a": {
          "model_module": "@jupyter-widgets/base",
          "model_name": "LayoutModel",
          "model_module_version": "1.2.0",
          "state": {
            "_model_module": "@jupyter-widgets/base",
            "_model_module_version": "1.2.0",
            "_model_name": "LayoutModel",
            "_view_count": null,
            "_view_module": "@jupyter-widgets/base",
            "_view_module_version": "1.2.0",
            "_view_name": "LayoutView",
            "align_content": null,
            "align_items": null,
            "align_self": null,
            "border": null,
            "bottom": null,
            "display": null,
            "flex": null,
            "flex_flow": null,
            "grid_area": null,
            "grid_auto_columns": null,
            "grid_auto_flow": null,
            "grid_auto_rows": null,
            "grid_column": null,
            "grid_gap": null,
            "grid_row": null,
            "grid_template_areas": null,
            "grid_template_columns": null,
            "grid_template_rows": null,
            "height": null,
            "justify_content": null,
            "justify_items": null,
            "left": null,
            "margin": null,
            "max_height": null,
            "max_width": null,
            "min_height": null,
            "min_width": null,
            "object_fit": null,
            "object_position": null,
            "order": null,
            "overflow": null,
            "overflow_x": null,
            "overflow_y": null,
            "padding": null,
            "right": null,
            "top": null,
            "visibility": null,
            "width": null
          }
        },
        "540a0ef251a44b5a810691b3839a069d": {
          "model_module": "@jupyter-widgets/controls",
          "model_name": "ProgressStyleModel",
          "model_module_version": "1.5.0",
          "state": {
            "_model_module": "@jupyter-widgets/controls",
            "_model_module_version": "1.5.0",
            "_model_name": "ProgressStyleModel",
            "_view_count": null,
            "_view_module": "@jupyter-widgets/base",
            "_view_module_version": "1.2.0",
            "_view_name": "StyleView",
            "bar_color": null,
            "description_width": ""
          }
        },
        "505e33983f884671bb0e51a4857deb37": {
          "model_module": "@jupyter-widgets/base",
          "model_name": "LayoutModel",
          "model_module_version": "1.2.0",
          "state": {
            "_model_module": "@jupyter-widgets/base",
            "_model_module_version": "1.2.0",
            "_model_name": "LayoutModel",
            "_view_count": null,
            "_view_module": "@jupyter-widgets/base",
            "_view_module_version": "1.2.0",
            "_view_name": "LayoutView",
            "align_content": null,
            "align_items": null,
            "align_self": null,
            "border": null,
            "bottom": null,
            "display": null,
            "flex": null,
            "flex_flow": null,
            "grid_area": null,
            "grid_auto_columns": null,
            "grid_auto_flow": null,
            "grid_auto_rows": null,
            "grid_column": null,
            "grid_gap": null,
            "grid_row": null,
            "grid_template_areas": null,
            "grid_template_columns": null,
            "grid_template_rows": null,
            "height": null,
            "justify_content": null,
            "justify_items": null,
            "left": null,
            "margin": null,
            "max_height": null,
            "max_width": null,
            "min_height": null,
            "min_width": null,
            "object_fit": null,
            "object_position": null,
            "order": null,
            "overflow": null,
            "overflow_x": null,
            "overflow_y": null,
            "padding": null,
            "right": null,
            "top": null,
            "visibility": null,
            "width": null
          }
        },
        "2bd62c15c56f414489498922e6d489db": {
          "model_module": "@jupyter-widgets/controls",
          "model_name": "DescriptionStyleModel",
          "model_module_version": "1.5.0",
          "state": {
            "_model_module": "@jupyter-widgets/controls",
            "_model_module_version": "1.5.0",
            "_model_name": "DescriptionStyleModel",
            "_view_count": null,
            "_view_module": "@jupyter-widgets/base",
            "_view_module_version": "1.2.0",
            "_view_name": "StyleView",
            "description_width": ""
          }
        },
        "18261e9931884b13b88cd8192985fe1f": {
          "model_module": "@jupyter-widgets/controls",
          "model_name": "HBoxModel",
          "model_module_version": "1.5.0",
          "state": {
            "_dom_classes": [],
            "_model_module": "@jupyter-widgets/controls",
            "_model_module_version": "1.5.0",
            "_model_name": "HBoxModel",
            "_view_count": null,
            "_view_module": "@jupyter-widgets/controls",
            "_view_module_version": "1.5.0",
            "_view_name": "HBoxView",
            "box_style": "",
            "children": [
              "IPY_MODEL_879d03b70aee4eb3a7db42e2dfa712ae",
              "IPY_MODEL_753326c1b76f4c3bb4bf73aa15ee4601",
              "IPY_MODEL_d1dd4c01f8cb4c06ac3bc95f570bfbe5"
            ],
            "layout": "IPY_MODEL_6bc87cae375f461981fc8aa2184d4e1b"
          }
        },
        "879d03b70aee4eb3a7db42e2dfa712ae": {
          "model_module": "@jupyter-widgets/controls",
          "model_name": "HTMLModel",
          "model_module_version": "1.5.0",
          "state": {
            "_dom_classes": [],
            "_model_module": "@jupyter-widgets/controls",
            "_model_module_version": "1.5.0",
            "_model_name": "HTMLModel",
            "_view_count": null,
            "_view_module": "@jupyter-widgets/controls",
            "_view_module_version": "1.5.0",
            "_view_name": "HTMLView",
            "description": "",
            "description_tooltip": null,
            "layout": "IPY_MODEL_a955da9f40ab47249ac682acf15d700f",
            "placeholder": "​",
            "style": "IPY_MODEL_6e32d91012e44238af0734b8ead6660a",
            "value": "100%"
          }
        },
        "753326c1b76f4c3bb4bf73aa15ee4601": {
          "model_module": "@jupyter-widgets/controls",
          "model_name": "FloatProgressModel",
          "model_module_version": "1.5.0",
          "state": {
            "_dom_classes": [],
            "_model_module": "@jupyter-widgets/controls",
            "_model_module_version": "1.5.0",
            "_model_name": "FloatProgressModel",
            "_view_count": null,
            "_view_module": "@jupyter-widgets/controls",
            "_view_module_version": "1.5.0",
            "_view_name": "ProgressView",
            "bar_style": "success",
            "description": "",
            "description_tooltip": null,
            "layout": "IPY_MODEL_abb9ce2eb1f242f4a6196aed7a98aaa7",
            "max": 313,
            "min": 0,
            "orientation": "horizontal",
            "style": "IPY_MODEL_7108a871387943b0a67693c758312ab5",
            "value": 313
          }
        },
        "d1dd4c01f8cb4c06ac3bc95f570bfbe5": {
          "model_module": "@jupyter-widgets/controls",
          "model_name": "HTMLModel",
          "model_module_version": "1.5.0",
          "state": {
            "_dom_classes": [],
            "_model_module": "@jupyter-widgets/controls",
            "_model_module_version": "1.5.0",
            "_model_name": "HTMLModel",
            "_view_count": null,
            "_view_module": "@jupyter-widgets/controls",
            "_view_module_version": "1.5.0",
            "_view_name": "HTMLView",
            "description": "",
            "description_tooltip": null,
            "layout": "IPY_MODEL_91f58810db0149e68187df3a641931df",
            "placeholder": "​",
            "style": "IPY_MODEL_06c351e3fd774249a3a996b8fd393f17",
            "value": " 313/313 [00:01&lt;00:00, 293.97it/s]"
          }
        },
        "6bc87cae375f461981fc8aa2184d4e1b": {
          "model_module": "@jupyter-widgets/base",
          "model_name": "LayoutModel",
          "model_module_version": "1.2.0",
          "state": {
            "_model_module": "@jupyter-widgets/base",
            "_model_module_version": "1.2.0",
            "_model_name": "LayoutModel",
            "_view_count": null,
            "_view_module": "@jupyter-widgets/base",
            "_view_module_version": "1.2.0",
            "_view_name": "LayoutView",
            "align_content": null,
            "align_items": null,
            "align_self": null,
            "border": null,
            "bottom": null,
            "display": null,
            "flex": null,
            "flex_flow": null,
            "grid_area": null,
            "grid_auto_columns": null,
            "grid_auto_flow": null,
            "grid_auto_rows": null,
            "grid_column": null,
            "grid_gap": null,
            "grid_row": null,
            "grid_template_areas": null,
            "grid_template_columns": null,
            "grid_template_rows": null,
            "height": null,
            "justify_content": null,
            "justify_items": null,
            "left": null,
            "margin": null,
            "max_height": null,
            "max_width": null,
            "min_height": null,
            "min_width": null,
            "object_fit": null,
            "object_position": null,
            "order": null,
            "overflow": null,
            "overflow_x": null,
            "overflow_y": null,
            "padding": null,
            "right": null,
            "top": null,
            "visibility": null,
            "width": null
          }
        },
        "a955da9f40ab47249ac682acf15d700f": {
          "model_module": "@jupyter-widgets/base",
          "model_name": "LayoutModel",
          "model_module_version": "1.2.0",
          "state": {
            "_model_module": "@jupyter-widgets/base",
            "_model_module_version": "1.2.0",
            "_model_name": "LayoutModel",
            "_view_count": null,
            "_view_module": "@jupyter-widgets/base",
            "_view_module_version": "1.2.0",
            "_view_name": "LayoutView",
            "align_content": null,
            "align_items": null,
            "align_self": null,
            "border": null,
            "bottom": null,
            "display": null,
            "flex": null,
            "flex_flow": null,
            "grid_area": null,
            "grid_auto_columns": null,
            "grid_auto_flow": null,
            "grid_auto_rows": null,
            "grid_column": null,
            "grid_gap": null,
            "grid_row": null,
            "grid_template_areas": null,
            "grid_template_columns": null,
            "grid_template_rows": null,
            "height": null,
            "justify_content": null,
            "justify_items": null,
            "left": null,
            "margin": null,
            "max_height": null,
            "max_width": null,
            "min_height": null,
            "min_width": null,
            "object_fit": null,
            "object_position": null,
            "order": null,
            "overflow": null,
            "overflow_x": null,
            "overflow_y": null,
            "padding": null,
            "right": null,
            "top": null,
            "visibility": null,
            "width": null
          }
        },
        "6e32d91012e44238af0734b8ead6660a": {
          "model_module": "@jupyter-widgets/controls",
          "model_name": "DescriptionStyleModel",
          "model_module_version": "1.5.0",
          "state": {
            "_model_module": "@jupyter-widgets/controls",
            "_model_module_version": "1.5.0",
            "_model_name": "DescriptionStyleModel",
            "_view_count": null,
            "_view_module": "@jupyter-widgets/base",
            "_view_module_version": "1.2.0",
            "_view_name": "StyleView",
            "description_width": ""
          }
        },
        "abb9ce2eb1f242f4a6196aed7a98aaa7": {
          "model_module": "@jupyter-widgets/base",
          "model_name": "LayoutModel",
          "model_module_version": "1.2.0",
          "state": {
            "_model_module": "@jupyter-widgets/base",
            "_model_module_version": "1.2.0",
            "_model_name": "LayoutModel",
            "_view_count": null,
            "_view_module": "@jupyter-widgets/base",
            "_view_module_version": "1.2.0",
            "_view_name": "LayoutView",
            "align_content": null,
            "align_items": null,
            "align_self": null,
            "border": null,
            "bottom": null,
            "display": null,
            "flex": null,
            "flex_flow": null,
            "grid_area": null,
            "grid_auto_columns": null,
            "grid_auto_flow": null,
            "grid_auto_rows": null,
            "grid_column": null,
            "grid_gap": null,
            "grid_row": null,
            "grid_template_areas": null,
            "grid_template_columns": null,
            "grid_template_rows": null,
            "height": null,
            "justify_content": null,
            "justify_items": null,
            "left": null,
            "margin": null,
            "max_height": null,
            "max_width": null,
            "min_height": null,
            "min_width": null,
            "object_fit": null,
            "object_position": null,
            "order": null,
            "overflow": null,
            "overflow_x": null,
            "overflow_y": null,
            "padding": null,
            "right": null,
            "top": null,
            "visibility": null,
            "width": null
          }
        },
        "7108a871387943b0a67693c758312ab5": {
          "model_module": "@jupyter-widgets/controls",
          "model_name": "ProgressStyleModel",
          "model_module_version": "1.5.0",
          "state": {
            "_model_module": "@jupyter-widgets/controls",
            "_model_module_version": "1.5.0",
            "_model_name": "ProgressStyleModel",
            "_view_count": null,
            "_view_module": "@jupyter-widgets/base",
            "_view_module_version": "1.2.0",
            "_view_name": "StyleView",
            "bar_color": null,
            "description_width": ""
          }
        },
        "91f58810db0149e68187df3a641931df": {
          "model_module": "@jupyter-widgets/base",
          "model_name": "LayoutModel",
          "model_module_version": "1.2.0",
          "state": {
            "_model_module": "@jupyter-widgets/base",
            "_model_module_version": "1.2.0",
            "_model_name": "LayoutModel",
            "_view_count": null,
            "_view_module": "@jupyter-widgets/base",
            "_view_module_version": "1.2.0",
            "_view_name": "LayoutView",
            "align_content": null,
            "align_items": null,
            "align_self": null,
            "border": null,
            "bottom": null,
            "display": null,
            "flex": null,
            "flex_flow": null,
            "grid_area": null,
            "grid_auto_columns": null,
            "grid_auto_flow": null,
            "grid_auto_rows": null,
            "grid_column": null,
            "grid_gap": null,
            "grid_row": null,
            "grid_template_areas": null,
            "grid_template_columns": null,
            "grid_template_rows": null,
            "height": null,
            "justify_content": null,
            "justify_items": null,
            "left": null,
            "margin": null,
            "max_height": null,
            "max_width": null,
            "min_height": null,
            "min_width": null,
            "object_fit": null,
            "object_position": null,
            "order": null,
            "overflow": null,
            "overflow_x": null,
            "overflow_y": null,
            "padding": null,
            "right": null,
            "top": null,
            "visibility": null,
            "width": null
          }
        },
        "06c351e3fd774249a3a996b8fd393f17": {
          "model_module": "@jupyter-widgets/controls",
          "model_name": "DescriptionStyleModel",
          "model_module_version": "1.5.0",
          "state": {
            "_model_module": "@jupyter-widgets/controls",
            "_model_module_version": "1.5.0",
            "_model_name": "DescriptionStyleModel",
            "_view_count": null,
            "_view_module": "@jupyter-widgets/base",
            "_view_module_version": "1.2.0",
            "_view_name": "StyleView",
            "description_width": ""
          }
        },
        "820547b466df48e7ae4d1aa0d1655f50": {
          "model_module": "@jupyter-widgets/controls",
          "model_name": "HBoxModel",
          "model_module_version": "1.5.0",
          "state": {
            "_dom_classes": [],
            "_model_module": "@jupyter-widgets/controls",
            "_model_module_version": "1.5.0",
            "_model_name": "HBoxModel",
            "_view_count": null,
            "_view_module": "@jupyter-widgets/controls",
            "_view_module_version": "1.5.0",
            "_view_name": "HBoxView",
            "box_style": "",
            "children": [
              "IPY_MODEL_7a4f5f55f75342cd8c39efd4d54c5f2d",
              "IPY_MODEL_dd389a2620fc436dbe6a408c0f5cdddd",
              "IPY_MODEL_8d6756eae2244484aabc5d72608d43d2"
            ],
            "layout": "IPY_MODEL_4b8f3044b22f4347b45e995de1b41a3a"
          }
        },
        "7a4f5f55f75342cd8c39efd4d54c5f2d": {
          "model_module": "@jupyter-widgets/controls",
          "model_name": "HTMLModel",
          "model_module_version": "1.5.0",
          "state": {
            "_dom_classes": [],
            "_model_module": "@jupyter-widgets/controls",
            "_model_module_version": "1.5.0",
            "_model_name": "HTMLModel",
            "_view_count": null,
            "_view_module": "@jupyter-widgets/controls",
            "_view_module_version": "1.5.0",
            "_view_name": "HTMLView",
            "description": "",
            "description_tooltip": null,
            "layout": "IPY_MODEL_6d0fcf86242b41aa9d07f2e88b0e5324",
            "placeholder": "​",
            "style": "IPY_MODEL_f546b1d53c8149ce9341011dad253f18",
            "value": "100%"
          }
        },
        "dd389a2620fc436dbe6a408c0f5cdddd": {
          "model_module": "@jupyter-widgets/controls",
          "model_name": "FloatProgressModel",
          "model_module_version": "1.5.0",
          "state": {
            "_dom_classes": [],
            "_model_module": "@jupyter-widgets/controls",
            "_model_module_version": "1.5.0",
            "_model_name": "FloatProgressModel",
            "_view_count": null,
            "_view_module": "@jupyter-widgets/controls",
            "_view_module_version": "1.5.0",
            "_view_name": "ProgressView",
            "bar_style": "success",
            "description": "",
            "description_tooltip": null,
            "layout": "IPY_MODEL_482f0a9cb7c84e7c8e9458e6a9e7ba01",
            "max": 3,
            "min": 0,
            "orientation": "horizontal",
            "style": "IPY_MODEL_746dfcf431194c01b24775fab239c83e",
            "value": 3
          }
        },
        "8d6756eae2244484aabc5d72608d43d2": {
          "model_module": "@jupyter-widgets/controls",
          "model_name": "HTMLModel",
          "model_module_version": "1.5.0",
          "state": {
            "_dom_classes": [],
            "_model_module": "@jupyter-widgets/controls",
            "_model_module_version": "1.5.0",
            "_model_name": "HTMLModel",
            "_view_count": null,
            "_view_module": "@jupyter-widgets/controls",
            "_view_module_version": "1.5.0",
            "_view_name": "HTMLView",
            "description": "",
            "description_tooltip": null,
            "layout": "IPY_MODEL_a9f6ffba997e406e8ec580900a1f54ad",
            "placeholder": "​",
            "style": "IPY_MODEL_898623151c5441fdaf442a5bce6d1370",
            "value": " 3/3 [01:00&lt;00:00, 18.37s/it]"
          }
        },
        "4b8f3044b22f4347b45e995de1b41a3a": {
          "model_module": "@jupyter-widgets/base",
          "model_name": "LayoutModel",
          "model_module_version": "1.2.0",
          "state": {
            "_model_module": "@jupyter-widgets/base",
            "_model_module_version": "1.2.0",
            "_model_name": "LayoutModel",
            "_view_count": null,
            "_view_module": "@jupyter-widgets/base",
            "_view_module_version": "1.2.0",
            "_view_name": "LayoutView",
            "align_content": null,
            "align_items": null,
            "align_self": null,
            "border": null,
            "bottom": null,
            "display": null,
            "flex": null,
            "flex_flow": null,
            "grid_area": null,
            "grid_auto_columns": null,
            "grid_auto_flow": null,
            "grid_auto_rows": null,
            "grid_column": null,
            "grid_gap": null,
            "grid_row": null,
            "grid_template_areas": null,
            "grid_template_columns": null,
            "grid_template_rows": null,
            "height": null,
            "justify_content": null,
            "justify_items": null,
            "left": null,
            "margin": null,
            "max_height": null,
            "max_width": null,
            "min_height": null,
            "min_width": null,
            "object_fit": null,
            "object_position": null,
            "order": null,
            "overflow": null,
            "overflow_x": null,
            "overflow_y": null,
            "padding": null,
            "right": null,
            "top": null,
            "visibility": null,
            "width": null
          }
        },
        "6d0fcf86242b41aa9d07f2e88b0e5324": {
          "model_module": "@jupyter-widgets/base",
          "model_name": "LayoutModel",
          "model_module_version": "1.2.0",
          "state": {
            "_model_module": "@jupyter-widgets/base",
            "_model_module_version": "1.2.0",
            "_model_name": "LayoutModel",
            "_view_count": null,
            "_view_module": "@jupyter-widgets/base",
            "_view_module_version": "1.2.0",
            "_view_name": "LayoutView",
            "align_content": null,
            "align_items": null,
            "align_self": null,
            "border": null,
            "bottom": null,
            "display": null,
            "flex": null,
            "flex_flow": null,
            "grid_area": null,
            "grid_auto_columns": null,
            "grid_auto_flow": null,
            "grid_auto_rows": null,
            "grid_column": null,
            "grid_gap": null,
            "grid_row": null,
            "grid_template_areas": null,
            "grid_template_columns": null,
            "grid_template_rows": null,
            "height": null,
            "justify_content": null,
            "justify_items": null,
            "left": null,
            "margin": null,
            "max_height": null,
            "max_width": null,
            "min_height": null,
            "min_width": null,
            "object_fit": null,
            "object_position": null,
            "order": null,
            "overflow": null,
            "overflow_x": null,
            "overflow_y": null,
            "padding": null,
            "right": null,
            "top": null,
            "visibility": null,
            "width": null
          }
        },
        "f546b1d53c8149ce9341011dad253f18": {
          "model_module": "@jupyter-widgets/controls",
          "model_name": "DescriptionStyleModel",
          "model_module_version": "1.5.0",
          "state": {
            "_model_module": "@jupyter-widgets/controls",
            "_model_module_version": "1.5.0",
            "_model_name": "DescriptionStyleModel",
            "_view_count": null,
            "_view_module": "@jupyter-widgets/base",
            "_view_module_version": "1.2.0",
            "_view_name": "StyleView",
            "description_width": ""
          }
        },
        "482f0a9cb7c84e7c8e9458e6a9e7ba01": {
          "model_module": "@jupyter-widgets/base",
          "model_name": "LayoutModel",
          "model_module_version": "1.2.0",
          "state": {
            "_model_module": "@jupyter-widgets/base",
            "_model_module_version": "1.2.0",
            "_model_name": "LayoutModel",
            "_view_count": null,
            "_view_module": "@jupyter-widgets/base",
            "_view_module_version": "1.2.0",
            "_view_name": "LayoutView",
            "align_content": null,
            "align_items": null,
            "align_self": null,
            "border": null,
            "bottom": null,
            "display": null,
            "flex": null,
            "flex_flow": null,
            "grid_area": null,
            "grid_auto_columns": null,
            "grid_auto_flow": null,
            "grid_auto_rows": null,
            "grid_column": null,
            "grid_gap": null,
            "grid_row": null,
            "grid_template_areas": null,
            "grid_template_columns": null,
            "grid_template_rows": null,
            "height": null,
            "justify_content": null,
            "justify_items": null,
            "left": null,
            "margin": null,
            "max_height": null,
            "max_width": null,
            "min_height": null,
            "min_width": null,
            "object_fit": null,
            "object_position": null,
            "order": null,
            "overflow": null,
            "overflow_x": null,
            "overflow_y": null,
            "padding": null,
            "right": null,
            "top": null,
            "visibility": null,
            "width": null
          }
        },
        "746dfcf431194c01b24775fab239c83e": {
          "model_module": "@jupyter-widgets/controls",
          "model_name": "ProgressStyleModel",
          "model_module_version": "1.5.0",
          "state": {
            "_model_module": "@jupyter-widgets/controls",
            "_model_module_version": "1.5.0",
            "_model_name": "ProgressStyleModel",
            "_view_count": null,
            "_view_module": "@jupyter-widgets/base",
            "_view_module_version": "1.2.0",
            "_view_name": "StyleView",
            "bar_color": null,
            "description_width": ""
          }
        },
        "a9f6ffba997e406e8ec580900a1f54ad": {
          "model_module": "@jupyter-widgets/base",
          "model_name": "LayoutModel",
          "model_module_version": "1.2.0",
          "state": {
            "_model_module": "@jupyter-widgets/base",
            "_model_module_version": "1.2.0",
            "_model_name": "LayoutModel",
            "_view_count": null,
            "_view_module": "@jupyter-widgets/base",
            "_view_module_version": "1.2.0",
            "_view_name": "LayoutView",
            "align_content": null,
            "align_items": null,
            "align_self": null,
            "border": null,
            "bottom": null,
            "display": null,
            "flex": null,
            "flex_flow": null,
            "grid_area": null,
            "grid_auto_columns": null,
            "grid_auto_flow": null,
            "grid_auto_rows": null,
            "grid_column": null,
            "grid_gap": null,
            "grid_row": null,
            "grid_template_areas": null,
            "grid_template_columns": null,
            "grid_template_rows": null,
            "height": null,
            "justify_content": null,
            "justify_items": null,
            "left": null,
            "margin": null,
            "max_height": null,
            "max_width": null,
            "min_height": null,
            "min_width": null,
            "object_fit": null,
            "object_position": null,
            "order": null,
            "overflow": null,
            "overflow_x": null,
            "overflow_y": null,
            "padding": null,
            "right": null,
            "top": null,
            "visibility": null,
            "width": null
          }
        },
        "898623151c5441fdaf442a5bce6d1370": {
          "model_module": "@jupyter-widgets/controls",
          "model_name": "DescriptionStyleModel",
          "model_module_version": "1.5.0",
          "state": {
            "_model_module": "@jupyter-widgets/controls",
            "_model_module_version": "1.5.0",
            "_model_name": "DescriptionStyleModel",
            "_view_count": null,
            "_view_module": "@jupyter-widgets/base",
            "_view_module_version": "1.2.0",
            "_view_name": "StyleView",
            "description_width": ""
          }
        },
        "f7cf3b42faac4e7eb1713cb55b69aaf6": {
          "model_module": "@jupyter-widgets/controls",
          "model_name": "HBoxModel",
          "model_module_version": "1.5.0",
          "state": {
            "_dom_classes": [],
            "_model_module": "@jupyter-widgets/controls",
            "_model_module_version": "1.5.0",
            "_model_name": "HBoxModel",
            "_view_count": null,
            "_view_module": "@jupyter-widgets/controls",
            "_view_module_version": "1.5.0",
            "_view_name": "HBoxView",
            "box_style": "",
            "children": [
              "IPY_MODEL_3e1fd1c4f148488ba891115096236bbc",
              "IPY_MODEL_75df0700716848f199d30b816a21947d",
              "IPY_MODEL_c042ead3f23145e5988d751e576b5b64"
            ],
            "layout": "IPY_MODEL_0a0abb9935ed429482606e86f79c9324"
          }
        },
        "3e1fd1c4f148488ba891115096236bbc": {
          "model_module": "@jupyter-widgets/controls",
          "model_name": "HTMLModel",
          "model_module_version": "1.5.0",
          "state": {
            "_dom_classes": [],
            "_model_module": "@jupyter-widgets/controls",
            "_model_module_version": "1.5.0",
            "_model_name": "HTMLModel",
            "_view_count": null,
            "_view_module": "@jupyter-widgets/controls",
            "_view_module_version": "1.5.0",
            "_view_name": "HTMLView",
            "description": "",
            "description_tooltip": null,
            "layout": "IPY_MODEL_6f966cff2adb46959c493b29995b05e7",
            "placeholder": "​",
            "style": "IPY_MODEL_62ad4fb4877f42388852e2eb5e4eba25",
            "value": "100%"
          }
        },
        "75df0700716848f199d30b816a21947d": {
          "model_module": "@jupyter-widgets/controls",
          "model_name": "FloatProgressModel",
          "model_module_version": "1.5.0",
          "state": {
            "_dom_classes": [],
            "_model_module": "@jupyter-widgets/controls",
            "_model_module_version": "1.5.0",
            "_model_name": "FloatProgressModel",
            "_view_count": null,
            "_view_module": "@jupyter-widgets/controls",
            "_view_module_version": "1.5.0",
            "_view_name": "ProgressView",
            "bar_style": "success",
            "description": "",
            "description_tooltip": null,
            "layout": "IPY_MODEL_c1d0501a20d747849bd85409420e6ce7",
            "max": 313,
            "min": 0,
            "orientation": "horizontal",
            "style": "IPY_MODEL_cbe85314baba43ac9b2f86692a6abcc7",
            "value": 313
          }
        },
        "c042ead3f23145e5988d751e576b5b64": {
          "model_module": "@jupyter-widgets/controls",
          "model_name": "HTMLModel",
          "model_module_version": "1.5.0",
          "state": {
            "_dom_classes": [],
            "_model_module": "@jupyter-widgets/controls",
            "_model_module_version": "1.5.0",
            "_model_name": "HTMLModel",
            "_view_count": null,
            "_view_module": "@jupyter-widgets/controls",
            "_view_module_version": "1.5.0",
            "_view_name": "HTMLView",
            "description": "",
            "description_tooltip": null,
            "layout": "IPY_MODEL_faf18a2b75fa4cfd8a0ecfe0f445ddf7",
            "placeholder": "​",
            "style": "IPY_MODEL_e79d6081deb8456eaa3950a9f4df79d2",
            "value": " 313/313 [00:01&lt;00:00, 278.46it/s]"
          }
        },
        "0a0abb9935ed429482606e86f79c9324": {
          "model_module": "@jupyter-widgets/base",
          "model_name": "LayoutModel",
          "model_module_version": "1.2.0",
          "state": {
            "_model_module": "@jupyter-widgets/base",
            "_model_module_version": "1.2.0",
            "_model_name": "LayoutModel",
            "_view_count": null,
            "_view_module": "@jupyter-widgets/base",
            "_view_module_version": "1.2.0",
            "_view_name": "LayoutView",
            "align_content": null,
            "align_items": null,
            "align_self": null,
            "border": null,
            "bottom": null,
            "display": null,
            "flex": null,
            "flex_flow": null,
            "grid_area": null,
            "grid_auto_columns": null,
            "grid_auto_flow": null,
            "grid_auto_rows": null,
            "grid_column": null,
            "grid_gap": null,
            "grid_row": null,
            "grid_template_areas": null,
            "grid_template_columns": null,
            "grid_template_rows": null,
            "height": null,
            "justify_content": null,
            "justify_items": null,
            "left": null,
            "margin": null,
            "max_height": null,
            "max_width": null,
            "min_height": null,
            "min_width": null,
            "object_fit": null,
            "object_position": null,
            "order": null,
            "overflow": null,
            "overflow_x": null,
            "overflow_y": null,
            "padding": null,
            "right": null,
            "top": null,
            "visibility": null,
            "width": null
          }
        },
        "6f966cff2adb46959c493b29995b05e7": {
          "model_module": "@jupyter-widgets/base",
          "model_name": "LayoutModel",
          "model_module_version": "1.2.0",
          "state": {
            "_model_module": "@jupyter-widgets/base",
            "_model_module_version": "1.2.0",
            "_model_name": "LayoutModel",
            "_view_count": null,
            "_view_module": "@jupyter-widgets/base",
            "_view_module_version": "1.2.0",
            "_view_name": "LayoutView",
            "align_content": null,
            "align_items": null,
            "align_self": null,
            "border": null,
            "bottom": null,
            "display": null,
            "flex": null,
            "flex_flow": null,
            "grid_area": null,
            "grid_auto_columns": null,
            "grid_auto_flow": null,
            "grid_auto_rows": null,
            "grid_column": null,
            "grid_gap": null,
            "grid_row": null,
            "grid_template_areas": null,
            "grid_template_columns": null,
            "grid_template_rows": null,
            "height": null,
            "justify_content": null,
            "justify_items": null,
            "left": null,
            "margin": null,
            "max_height": null,
            "max_width": null,
            "min_height": null,
            "min_width": null,
            "object_fit": null,
            "object_position": null,
            "order": null,
            "overflow": null,
            "overflow_x": null,
            "overflow_y": null,
            "padding": null,
            "right": null,
            "top": null,
            "visibility": null,
            "width": null
          }
        },
        "62ad4fb4877f42388852e2eb5e4eba25": {
          "model_module": "@jupyter-widgets/controls",
          "model_name": "DescriptionStyleModel",
          "model_module_version": "1.5.0",
          "state": {
            "_model_module": "@jupyter-widgets/controls",
            "_model_module_version": "1.5.0",
            "_model_name": "DescriptionStyleModel",
            "_view_count": null,
            "_view_module": "@jupyter-widgets/base",
            "_view_module_version": "1.2.0",
            "_view_name": "StyleView",
            "description_width": ""
          }
        },
        "c1d0501a20d747849bd85409420e6ce7": {
          "model_module": "@jupyter-widgets/base",
          "model_name": "LayoutModel",
          "model_module_version": "1.2.0",
          "state": {
            "_model_module": "@jupyter-widgets/base",
            "_model_module_version": "1.2.0",
            "_model_name": "LayoutModel",
            "_view_count": null,
            "_view_module": "@jupyter-widgets/base",
            "_view_module_version": "1.2.0",
            "_view_name": "LayoutView",
            "align_content": null,
            "align_items": null,
            "align_self": null,
            "border": null,
            "bottom": null,
            "display": null,
            "flex": null,
            "flex_flow": null,
            "grid_area": null,
            "grid_auto_columns": null,
            "grid_auto_flow": null,
            "grid_auto_rows": null,
            "grid_column": null,
            "grid_gap": null,
            "grid_row": null,
            "grid_template_areas": null,
            "grid_template_columns": null,
            "grid_template_rows": null,
            "height": null,
            "justify_content": null,
            "justify_items": null,
            "left": null,
            "margin": null,
            "max_height": null,
            "max_width": null,
            "min_height": null,
            "min_width": null,
            "object_fit": null,
            "object_position": null,
            "order": null,
            "overflow": null,
            "overflow_x": null,
            "overflow_y": null,
            "padding": null,
            "right": null,
            "top": null,
            "visibility": null,
            "width": null
          }
        },
        "cbe85314baba43ac9b2f86692a6abcc7": {
          "model_module": "@jupyter-widgets/controls",
          "model_name": "ProgressStyleModel",
          "model_module_version": "1.5.0",
          "state": {
            "_model_module": "@jupyter-widgets/controls",
            "_model_module_version": "1.5.0",
            "_model_name": "ProgressStyleModel",
            "_view_count": null,
            "_view_module": "@jupyter-widgets/base",
            "_view_module_version": "1.2.0",
            "_view_name": "StyleView",
            "bar_color": null,
            "description_width": ""
          }
        },
        "faf18a2b75fa4cfd8a0ecfe0f445ddf7": {
          "model_module": "@jupyter-widgets/base",
          "model_name": "LayoutModel",
          "model_module_version": "1.2.0",
          "state": {
            "_model_module": "@jupyter-widgets/base",
            "_model_module_version": "1.2.0",
            "_model_name": "LayoutModel",
            "_view_count": null,
            "_view_module": "@jupyter-widgets/base",
            "_view_module_version": "1.2.0",
            "_view_name": "LayoutView",
            "align_content": null,
            "align_items": null,
            "align_self": null,
            "border": null,
            "bottom": null,
            "display": null,
            "flex": null,
            "flex_flow": null,
            "grid_area": null,
            "grid_auto_columns": null,
            "grid_auto_flow": null,
            "grid_auto_rows": null,
            "grid_column": null,
            "grid_gap": null,
            "grid_row": null,
            "grid_template_areas": null,
            "grid_template_columns": null,
            "grid_template_rows": null,
            "height": null,
            "justify_content": null,
            "justify_items": null,
            "left": null,
            "margin": null,
            "max_height": null,
            "max_width": null,
            "min_height": null,
            "min_width": null,
            "object_fit": null,
            "object_position": null,
            "order": null,
            "overflow": null,
            "overflow_x": null,
            "overflow_y": null,
            "padding": null,
            "right": null,
            "top": null,
            "visibility": null,
            "width": null
          }
        },
        "e79d6081deb8456eaa3950a9f4df79d2": {
          "model_module": "@jupyter-widgets/controls",
          "model_name": "DescriptionStyleModel",
          "model_module_version": "1.5.0",
          "state": {
            "_model_module": "@jupyter-widgets/controls",
            "_model_module_version": "1.5.0",
            "_model_name": "DescriptionStyleModel",
            "_view_count": null,
            "_view_module": "@jupyter-widgets/base",
            "_view_module_version": "1.2.0",
            "_view_name": "StyleView",
            "description_width": ""
          }
        },
        "5f40d8d2fdad40d99b0dc382d5c1ed65": {
          "model_module": "@jupyter-widgets/controls",
          "model_name": "HBoxModel",
          "model_module_version": "1.5.0",
          "state": {
            "_dom_classes": [],
            "_model_module": "@jupyter-widgets/controls",
            "_model_module_version": "1.5.0",
            "_model_name": "HBoxModel",
            "_view_count": null,
            "_view_module": "@jupyter-widgets/controls",
            "_view_module_version": "1.5.0",
            "_view_name": "HBoxView",
            "box_style": "",
            "children": [
              "IPY_MODEL_bd1d3091f31b49fb984cc0faabb04ef4",
              "IPY_MODEL_f55a9c93b05f4f06b59a2ecdd29b59f5",
              "IPY_MODEL_460cbed35eb24a93869d7a64bef179dc"
            ],
            "layout": "IPY_MODEL_1cb29b75eb2c471588176cd6d2af5a7b"
          }
        },
        "bd1d3091f31b49fb984cc0faabb04ef4": {
          "model_module": "@jupyter-widgets/controls",
          "model_name": "HTMLModel",
          "model_module_version": "1.5.0",
          "state": {
            "_dom_classes": [],
            "_model_module": "@jupyter-widgets/controls",
            "_model_module_version": "1.5.0",
            "_model_name": "HTMLModel",
            "_view_count": null,
            "_view_module": "@jupyter-widgets/controls",
            "_view_module_version": "1.5.0",
            "_view_name": "HTMLView",
            "description": "",
            "description_tooltip": null,
            "layout": "IPY_MODEL_7b654c0a37bb40099ec46441534bd827",
            "placeholder": "​",
            "style": "IPY_MODEL_64d950e4d1a24b8dbc262cf55475c7e0",
            "value": "100%"
          }
        },
        "f55a9c93b05f4f06b59a2ecdd29b59f5": {
          "model_module": "@jupyter-widgets/controls",
          "model_name": "FloatProgressModel",
          "model_module_version": "1.5.0",
          "state": {
            "_dom_classes": [],
            "_model_module": "@jupyter-widgets/controls",
            "_model_module_version": "1.5.0",
            "_model_name": "FloatProgressModel",
            "_view_count": null,
            "_view_module": "@jupyter-widgets/controls",
            "_view_module_version": "1.5.0",
            "_view_name": "ProgressView",
            "bar_style": "success",
            "description": "",
            "description_tooltip": null,
            "layout": "IPY_MODEL_d1610b28e8b4422b99a8f1fbc109815d",
            "max": 3,
            "min": 0,
            "orientation": "horizontal",
            "style": "IPY_MODEL_0e54ad2c4b964eea91732c2710e1474b",
            "value": 3
          }
        },
        "460cbed35eb24a93869d7a64bef179dc": {
          "model_module": "@jupyter-widgets/controls",
          "model_name": "HTMLModel",
          "model_module_version": "1.5.0",
          "state": {
            "_dom_classes": [],
            "_model_module": "@jupyter-widgets/controls",
            "_model_module_version": "1.5.0",
            "_model_name": "HTMLModel",
            "_view_count": null,
            "_view_module": "@jupyter-widgets/controls",
            "_view_module_version": "1.5.0",
            "_view_name": "HTMLView",
            "description": "",
            "description_tooltip": null,
            "layout": "IPY_MODEL_655b2412e4384e92a7d8bc57fd00f739",
            "placeholder": "​",
            "style": "IPY_MODEL_0fbbc5e64f9641549d6f5037ceb8635b",
            "value": " 3/3 [00:40&lt;00:00, 14.12s/it]"
          }
        },
        "1cb29b75eb2c471588176cd6d2af5a7b": {
          "model_module": "@jupyter-widgets/base",
          "model_name": "LayoutModel",
          "model_module_version": "1.2.0",
          "state": {
            "_model_module": "@jupyter-widgets/base",
            "_model_module_version": "1.2.0",
            "_model_name": "LayoutModel",
            "_view_count": null,
            "_view_module": "@jupyter-widgets/base",
            "_view_module_version": "1.2.0",
            "_view_name": "LayoutView",
            "align_content": null,
            "align_items": null,
            "align_self": null,
            "border": null,
            "bottom": null,
            "display": null,
            "flex": null,
            "flex_flow": null,
            "grid_area": null,
            "grid_auto_columns": null,
            "grid_auto_flow": null,
            "grid_auto_rows": null,
            "grid_column": null,
            "grid_gap": null,
            "grid_row": null,
            "grid_template_areas": null,
            "grid_template_columns": null,
            "grid_template_rows": null,
            "height": null,
            "justify_content": null,
            "justify_items": null,
            "left": null,
            "margin": null,
            "max_height": null,
            "max_width": null,
            "min_height": null,
            "min_width": null,
            "object_fit": null,
            "object_position": null,
            "order": null,
            "overflow": null,
            "overflow_x": null,
            "overflow_y": null,
            "padding": null,
            "right": null,
            "top": null,
            "visibility": null,
            "width": null
          }
        },
        "7b654c0a37bb40099ec46441534bd827": {
          "model_module": "@jupyter-widgets/base",
          "model_name": "LayoutModel",
          "model_module_version": "1.2.0",
          "state": {
            "_model_module": "@jupyter-widgets/base",
            "_model_module_version": "1.2.0",
            "_model_name": "LayoutModel",
            "_view_count": null,
            "_view_module": "@jupyter-widgets/base",
            "_view_module_version": "1.2.0",
            "_view_name": "LayoutView",
            "align_content": null,
            "align_items": null,
            "align_self": null,
            "border": null,
            "bottom": null,
            "display": null,
            "flex": null,
            "flex_flow": null,
            "grid_area": null,
            "grid_auto_columns": null,
            "grid_auto_flow": null,
            "grid_auto_rows": null,
            "grid_column": null,
            "grid_gap": null,
            "grid_row": null,
            "grid_template_areas": null,
            "grid_template_columns": null,
            "grid_template_rows": null,
            "height": null,
            "justify_content": null,
            "justify_items": null,
            "left": null,
            "margin": null,
            "max_height": null,
            "max_width": null,
            "min_height": null,
            "min_width": null,
            "object_fit": null,
            "object_position": null,
            "order": null,
            "overflow": null,
            "overflow_x": null,
            "overflow_y": null,
            "padding": null,
            "right": null,
            "top": null,
            "visibility": null,
            "width": null
          }
        },
        "64d950e4d1a24b8dbc262cf55475c7e0": {
          "model_module": "@jupyter-widgets/controls",
          "model_name": "DescriptionStyleModel",
          "model_module_version": "1.5.0",
          "state": {
            "_model_module": "@jupyter-widgets/controls",
            "_model_module_version": "1.5.0",
            "_model_name": "DescriptionStyleModel",
            "_view_count": null,
            "_view_module": "@jupyter-widgets/base",
            "_view_module_version": "1.2.0",
            "_view_name": "StyleView",
            "description_width": ""
          }
        },
        "d1610b28e8b4422b99a8f1fbc109815d": {
          "model_module": "@jupyter-widgets/base",
          "model_name": "LayoutModel",
          "model_module_version": "1.2.0",
          "state": {
            "_model_module": "@jupyter-widgets/base",
            "_model_module_version": "1.2.0",
            "_model_name": "LayoutModel",
            "_view_count": null,
            "_view_module": "@jupyter-widgets/base",
            "_view_module_version": "1.2.0",
            "_view_name": "LayoutView",
            "align_content": null,
            "align_items": null,
            "align_self": null,
            "border": null,
            "bottom": null,
            "display": null,
            "flex": null,
            "flex_flow": null,
            "grid_area": null,
            "grid_auto_columns": null,
            "grid_auto_flow": null,
            "grid_auto_rows": null,
            "grid_column": null,
            "grid_gap": null,
            "grid_row": null,
            "grid_template_areas": null,
            "grid_template_columns": null,
            "grid_template_rows": null,
            "height": null,
            "justify_content": null,
            "justify_items": null,
            "left": null,
            "margin": null,
            "max_height": null,
            "max_width": null,
            "min_height": null,
            "min_width": null,
            "object_fit": null,
            "object_position": null,
            "order": null,
            "overflow": null,
            "overflow_x": null,
            "overflow_y": null,
            "padding": null,
            "right": null,
            "top": null,
            "visibility": null,
            "width": null
          }
        },
        "0e54ad2c4b964eea91732c2710e1474b": {
          "model_module": "@jupyter-widgets/controls",
          "model_name": "ProgressStyleModel",
          "model_module_version": "1.5.0",
          "state": {
            "_model_module": "@jupyter-widgets/controls",
            "_model_module_version": "1.5.0",
            "_model_name": "ProgressStyleModel",
            "_view_count": null,
            "_view_module": "@jupyter-widgets/base",
            "_view_module_version": "1.2.0",
            "_view_name": "StyleView",
            "bar_color": null,
            "description_width": ""
          }
        },
        "655b2412e4384e92a7d8bc57fd00f739": {
          "model_module": "@jupyter-widgets/base",
          "model_name": "LayoutModel",
          "model_module_version": "1.2.0",
          "state": {
            "_model_module": "@jupyter-widgets/base",
            "_model_module_version": "1.2.0",
            "_model_name": "LayoutModel",
            "_view_count": null,
            "_view_module": "@jupyter-widgets/base",
            "_view_module_version": "1.2.0",
            "_view_name": "LayoutView",
            "align_content": null,
            "align_items": null,
            "align_self": null,
            "border": null,
            "bottom": null,
            "display": null,
            "flex": null,
            "flex_flow": null,
            "grid_area": null,
            "grid_auto_columns": null,
            "grid_auto_flow": null,
            "grid_auto_rows": null,
            "grid_column": null,
            "grid_gap": null,
            "grid_row": null,
            "grid_template_areas": null,
            "grid_template_columns": null,
            "grid_template_rows": null,
            "height": null,
            "justify_content": null,
            "justify_items": null,
            "left": null,
            "margin": null,
            "max_height": null,
            "max_width": null,
            "min_height": null,
            "min_width": null,
            "object_fit": null,
            "object_position": null,
            "order": null,
            "overflow": null,
            "overflow_x": null,
            "overflow_y": null,
            "padding": null,
            "right": null,
            "top": null,
            "visibility": null,
            "width": null
          }
        },
        "0fbbc5e64f9641549d6f5037ceb8635b": {
          "model_module": "@jupyter-widgets/controls",
          "model_name": "DescriptionStyleModel",
          "model_module_version": "1.5.0",
          "state": {
            "_model_module": "@jupyter-widgets/controls",
            "_model_module_version": "1.5.0",
            "_model_name": "DescriptionStyleModel",
            "_view_count": null,
            "_view_module": "@jupyter-widgets/base",
            "_view_module_version": "1.2.0",
            "_view_name": "StyleView",
            "description_width": ""
          }
        },
        "a4e95983cadf48be9146d6770d697191": {
          "model_module": "@jupyter-widgets/controls",
          "model_name": "HBoxModel",
          "model_module_version": "1.5.0",
          "state": {
            "_dom_classes": [],
            "_model_module": "@jupyter-widgets/controls",
            "_model_module_version": "1.5.0",
            "_model_name": "HBoxModel",
            "_view_count": null,
            "_view_module": "@jupyter-widgets/controls",
            "_view_module_version": "1.5.0",
            "_view_name": "HBoxView",
            "box_style": "",
            "children": [
              "IPY_MODEL_271ac7b61e424d6cab0e1a0d91b18a36",
              "IPY_MODEL_726b5fa7b844448eb650b29ac7a3ce7c",
              "IPY_MODEL_b7ef8d95b1b7473580ab49c0098c316f"
            ],
            "layout": "IPY_MODEL_eb37ccf8468e4f37a9e8bb76a1a5ab40"
          }
        },
        "271ac7b61e424d6cab0e1a0d91b18a36": {
          "model_module": "@jupyter-widgets/controls",
          "model_name": "HTMLModel",
          "model_module_version": "1.5.0",
          "state": {
            "_dom_classes": [],
            "_model_module": "@jupyter-widgets/controls",
            "_model_module_version": "1.5.0",
            "_model_name": "HTMLModel",
            "_view_count": null,
            "_view_module": "@jupyter-widgets/controls",
            "_view_module_version": "1.5.0",
            "_view_name": "HTMLView",
            "description": "",
            "description_tooltip": null,
            "layout": "IPY_MODEL_bedd3c5fa2794733b69752de2af33837",
            "placeholder": "​",
            "style": "IPY_MODEL_2544af41b44248798594fca978d48c10",
            "value": "100%"
          }
        },
        "726b5fa7b844448eb650b29ac7a3ce7c": {
          "model_module": "@jupyter-widgets/controls",
          "model_name": "FloatProgressModel",
          "model_module_version": "1.5.0",
          "state": {
            "_dom_classes": [],
            "_model_module": "@jupyter-widgets/controls",
            "_model_module_version": "1.5.0",
            "_model_name": "FloatProgressModel",
            "_view_count": null,
            "_view_module": "@jupyter-widgets/controls",
            "_view_module_version": "1.5.0",
            "_view_name": "ProgressView",
            "bar_style": "success",
            "description": "",
            "description_tooltip": null,
            "layout": "IPY_MODEL_9ec421384c2144dd9d12c12ac5c16bcc",
            "max": 313,
            "min": 0,
            "orientation": "horizontal",
            "style": "IPY_MODEL_5d74ac06efaa490ca833322eba538030",
            "value": 313
          }
        },
        "b7ef8d95b1b7473580ab49c0098c316f": {
          "model_module": "@jupyter-widgets/controls",
          "model_name": "HTMLModel",
          "model_module_version": "1.5.0",
          "state": {
            "_dom_classes": [],
            "_model_module": "@jupyter-widgets/controls",
            "_model_module_version": "1.5.0",
            "_model_name": "HTMLModel",
            "_view_count": null,
            "_view_module": "@jupyter-widgets/controls",
            "_view_module_version": "1.5.0",
            "_view_name": "HTMLView",
            "description": "",
            "description_tooltip": null,
            "layout": "IPY_MODEL_9fee1680745d4f3b828e7f1ae5b66fc0",
            "placeholder": "​",
            "style": "IPY_MODEL_67ca5d80b32141bcaf06e24d964276a2",
            "value": " 313/313 [00:01&lt;00:00, 214.76it/s]"
          }
        },
        "eb37ccf8468e4f37a9e8bb76a1a5ab40": {
          "model_module": "@jupyter-widgets/base",
          "model_name": "LayoutModel",
          "model_module_version": "1.2.0",
          "state": {
            "_model_module": "@jupyter-widgets/base",
            "_model_module_version": "1.2.0",
            "_model_name": "LayoutModel",
            "_view_count": null,
            "_view_module": "@jupyter-widgets/base",
            "_view_module_version": "1.2.0",
            "_view_name": "LayoutView",
            "align_content": null,
            "align_items": null,
            "align_self": null,
            "border": null,
            "bottom": null,
            "display": null,
            "flex": null,
            "flex_flow": null,
            "grid_area": null,
            "grid_auto_columns": null,
            "grid_auto_flow": null,
            "grid_auto_rows": null,
            "grid_column": null,
            "grid_gap": null,
            "grid_row": null,
            "grid_template_areas": null,
            "grid_template_columns": null,
            "grid_template_rows": null,
            "height": null,
            "justify_content": null,
            "justify_items": null,
            "left": null,
            "margin": null,
            "max_height": null,
            "max_width": null,
            "min_height": null,
            "min_width": null,
            "object_fit": null,
            "object_position": null,
            "order": null,
            "overflow": null,
            "overflow_x": null,
            "overflow_y": null,
            "padding": null,
            "right": null,
            "top": null,
            "visibility": null,
            "width": null
          }
        },
        "bedd3c5fa2794733b69752de2af33837": {
          "model_module": "@jupyter-widgets/base",
          "model_name": "LayoutModel",
          "model_module_version": "1.2.0",
          "state": {
            "_model_module": "@jupyter-widgets/base",
            "_model_module_version": "1.2.0",
            "_model_name": "LayoutModel",
            "_view_count": null,
            "_view_module": "@jupyter-widgets/base",
            "_view_module_version": "1.2.0",
            "_view_name": "LayoutView",
            "align_content": null,
            "align_items": null,
            "align_self": null,
            "border": null,
            "bottom": null,
            "display": null,
            "flex": null,
            "flex_flow": null,
            "grid_area": null,
            "grid_auto_columns": null,
            "grid_auto_flow": null,
            "grid_auto_rows": null,
            "grid_column": null,
            "grid_gap": null,
            "grid_row": null,
            "grid_template_areas": null,
            "grid_template_columns": null,
            "grid_template_rows": null,
            "height": null,
            "justify_content": null,
            "justify_items": null,
            "left": null,
            "margin": null,
            "max_height": null,
            "max_width": null,
            "min_height": null,
            "min_width": null,
            "object_fit": null,
            "object_position": null,
            "order": null,
            "overflow": null,
            "overflow_x": null,
            "overflow_y": null,
            "padding": null,
            "right": null,
            "top": null,
            "visibility": null,
            "width": null
          }
        },
        "2544af41b44248798594fca978d48c10": {
          "model_module": "@jupyter-widgets/controls",
          "model_name": "DescriptionStyleModel",
          "model_module_version": "1.5.0",
          "state": {
            "_model_module": "@jupyter-widgets/controls",
            "_model_module_version": "1.5.0",
            "_model_name": "DescriptionStyleModel",
            "_view_count": null,
            "_view_module": "@jupyter-widgets/base",
            "_view_module_version": "1.2.0",
            "_view_name": "StyleView",
            "description_width": ""
          }
        },
        "9ec421384c2144dd9d12c12ac5c16bcc": {
          "model_module": "@jupyter-widgets/base",
          "model_name": "LayoutModel",
          "model_module_version": "1.2.0",
          "state": {
            "_model_module": "@jupyter-widgets/base",
            "_model_module_version": "1.2.0",
            "_model_name": "LayoutModel",
            "_view_count": null,
            "_view_module": "@jupyter-widgets/base",
            "_view_module_version": "1.2.0",
            "_view_name": "LayoutView",
            "align_content": null,
            "align_items": null,
            "align_self": null,
            "border": null,
            "bottom": null,
            "display": null,
            "flex": null,
            "flex_flow": null,
            "grid_area": null,
            "grid_auto_columns": null,
            "grid_auto_flow": null,
            "grid_auto_rows": null,
            "grid_column": null,
            "grid_gap": null,
            "grid_row": null,
            "grid_template_areas": null,
            "grid_template_columns": null,
            "grid_template_rows": null,
            "height": null,
            "justify_content": null,
            "justify_items": null,
            "left": null,
            "margin": null,
            "max_height": null,
            "max_width": null,
            "min_height": null,
            "min_width": null,
            "object_fit": null,
            "object_position": null,
            "order": null,
            "overflow": null,
            "overflow_x": null,
            "overflow_y": null,
            "padding": null,
            "right": null,
            "top": null,
            "visibility": null,
            "width": null
          }
        },
        "5d74ac06efaa490ca833322eba538030": {
          "model_module": "@jupyter-widgets/controls",
          "model_name": "ProgressStyleModel",
          "model_module_version": "1.5.0",
          "state": {
            "_model_module": "@jupyter-widgets/controls",
            "_model_module_version": "1.5.0",
            "_model_name": "ProgressStyleModel",
            "_view_count": null,
            "_view_module": "@jupyter-widgets/base",
            "_view_module_version": "1.2.0",
            "_view_name": "StyleView",
            "bar_color": null,
            "description_width": ""
          }
        },
        "9fee1680745d4f3b828e7f1ae5b66fc0": {
          "model_module": "@jupyter-widgets/base",
          "model_name": "LayoutModel",
          "model_module_version": "1.2.0",
          "state": {
            "_model_module": "@jupyter-widgets/base",
            "_model_module_version": "1.2.0",
            "_model_name": "LayoutModel",
            "_view_count": null,
            "_view_module": "@jupyter-widgets/base",
            "_view_module_version": "1.2.0",
            "_view_name": "LayoutView",
            "align_content": null,
            "align_items": null,
            "align_self": null,
            "border": null,
            "bottom": null,
            "display": null,
            "flex": null,
            "flex_flow": null,
            "grid_area": null,
            "grid_auto_columns": null,
            "grid_auto_flow": null,
            "grid_auto_rows": null,
            "grid_column": null,
            "grid_gap": null,
            "grid_row": null,
            "grid_template_areas": null,
            "grid_template_columns": null,
            "grid_template_rows": null,
            "height": null,
            "justify_content": null,
            "justify_items": null,
            "left": null,
            "margin": null,
            "max_height": null,
            "max_width": null,
            "min_height": null,
            "min_width": null,
            "object_fit": null,
            "object_position": null,
            "order": null,
            "overflow": null,
            "overflow_x": null,
            "overflow_y": null,
            "padding": null,
            "right": null,
            "top": null,
            "visibility": null,
            "width": null
          }
        },
        "67ca5d80b32141bcaf06e24d964276a2": {
          "model_module": "@jupyter-widgets/controls",
          "model_name": "DescriptionStyleModel",
          "model_module_version": "1.5.0",
          "state": {
            "_model_module": "@jupyter-widgets/controls",
            "_model_module_version": "1.5.0",
            "_model_name": "DescriptionStyleModel",
            "_view_count": null,
            "_view_module": "@jupyter-widgets/base",
            "_view_module_version": "1.2.0",
            "_view_name": "StyleView",
            "description_width": ""
          }
        },
        "ab68f021c070467abaaeda27e40c3ab6": {
          "model_module": "@jupyter-widgets/controls",
          "model_name": "HBoxModel",
          "model_module_version": "1.5.0",
          "state": {
            "_dom_classes": [],
            "_model_module": "@jupyter-widgets/controls",
            "_model_module_version": "1.5.0",
            "_model_name": "HBoxModel",
            "_view_count": null,
            "_view_module": "@jupyter-widgets/controls",
            "_view_module_version": "1.5.0",
            "_view_name": "HBoxView",
            "box_style": "",
            "children": [
              "IPY_MODEL_5c7a0fab3e564412b402070c81a175ab",
              "IPY_MODEL_a4f5a5f8212648adbcdbaf677d734598",
              "IPY_MODEL_3a1a00612c3140d88fb2ce4e5ff7cee3"
            ],
            "layout": "IPY_MODEL_20a0fdc3ce3b4d0ba4d27cd30148affd"
          }
        },
        "5c7a0fab3e564412b402070c81a175ab": {
          "model_module": "@jupyter-widgets/controls",
          "model_name": "HTMLModel",
          "model_module_version": "1.5.0",
          "state": {
            "_dom_classes": [],
            "_model_module": "@jupyter-widgets/controls",
            "_model_module_version": "1.5.0",
            "_model_name": "HTMLModel",
            "_view_count": null,
            "_view_module": "@jupyter-widgets/controls",
            "_view_module_version": "1.5.0",
            "_view_name": "HTMLView",
            "description": "",
            "description_tooltip": null,
            "layout": "IPY_MODEL_1294ae8fee8f4a07ab28347351aece3e",
            "placeholder": "​",
            "style": "IPY_MODEL_ab9d253b8875455fa55af36bd499b826",
            "value": "100%"
          }
        },
        "a4f5a5f8212648adbcdbaf677d734598": {
          "model_module": "@jupyter-widgets/controls",
          "model_name": "FloatProgressModel",
          "model_module_version": "1.5.0",
          "state": {
            "_dom_classes": [],
            "_model_module": "@jupyter-widgets/controls",
            "_model_module_version": "1.5.0",
            "_model_name": "FloatProgressModel",
            "_view_count": null,
            "_view_module": "@jupyter-widgets/controls",
            "_view_module_version": "1.5.0",
            "_view_name": "ProgressView",
            "bar_style": "success",
            "description": "",
            "description_tooltip": null,
            "layout": "IPY_MODEL_1408abe034894b27bcc706f804e475f4",
            "max": 313,
            "min": 0,
            "orientation": "horizontal",
            "style": "IPY_MODEL_0c799ab5424642f787faea68a7abd026",
            "value": 313
          }
        },
        "3a1a00612c3140d88fb2ce4e5ff7cee3": {
          "model_module": "@jupyter-widgets/controls",
          "model_name": "HTMLModel",
          "model_module_version": "1.5.0",
          "state": {
            "_dom_classes": [],
            "_model_module": "@jupyter-widgets/controls",
            "_model_module_version": "1.5.0",
            "_model_name": "HTMLModel",
            "_view_count": null,
            "_view_module": "@jupyter-widgets/controls",
            "_view_module_version": "1.5.0",
            "_view_name": "HTMLView",
            "description": "",
            "description_tooltip": null,
            "layout": "IPY_MODEL_0e9cec6f8ac74f5b94e36decc6f4ea7e",
            "placeholder": "​",
            "style": "IPY_MODEL_6565db994bfc4b58af3e012df1a55522",
            "value": " 313/313 [00:01&lt;00:00, 200.57it/s]"
          }
        },
        "20a0fdc3ce3b4d0ba4d27cd30148affd": {
          "model_module": "@jupyter-widgets/base",
          "model_name": "LayoutModel",
          "model_module_version": "1.2.0",
          "state": {
            "_model_module": "@jupyter-widgets/base",
            "_model_module_version": "1.2.0",
            "_model_name": "LayoutModel",
            "_view_count": null,
            "_view_module": "@jupyter-widgets/base",
            "_view_module_version": "1.2.0",
            "_view_name": "LayoutView",
            "align_content": null,
            "align_items": null,
            "align_self": null,
            "border": null,
            "bottom": null,
            "display": null,
            "flex": null,
            "flex_flow": null,
            "grid_area": null,
            "grid_auto_columns": null,
            "grid_auto_flow": null,
            "grid_auto_rows": null,
            "grid_column": null,
            "grid_gap": null,
            "grid_row": null,
            "grid_template_areas": null,
            "grid_template_columns": null,
            "grid_template_rows": null,
            "height": null,
            "justify_content": null,
            "justify_items": null,
            "left": null,
            "margin": null,
            "max_height": null,
            "max_width": null,
            "min_height": null,
            "min_width": null,
            "object_fit": null,
            "object_position": null,
            "order": null,
            "overflow": null,
            "overflow_x": null,
            "overflow_y": null,
            "padding": null,
            "right": null,
            "top": null,
            "visibility": null,
            "width": null
          }
        },
        "1294ae8fee8f4a07ab28347351aece3e": {
          "model_module": "@jupyter-widgets/base",
          "model_name": "LayoutModel",
          "model_module_version": "1.2.0",
          "state": {
            "_model_module": "@jupyter-widgets/base",
            "_model_module_version": "1.2.0",
            "_model_name": "LayoutModel",
            "_view_count": null,
            "_view_module": "@jupyter-widgets/base",
            "_view_module_version": "1.2.0",
            "_view_name": "LayoutView",
            "align_content": null,
            "align_items": null,
            "align_self": null,
            "border": null,
            "bottom": null,
            "display": null,
            "flex": null,
            "flex_flow": null,
            "grid_area": null,
            "grid_auto_columns": null,
            "grid_auto_flow": null,
            "grid_auto_rows": null,
            "grid_column": null,
            "grid_gap": null,
            "grid_row": null,
            "grid_template_areas": null,
            "grid_template_columns": null,
            "grid_template_rows": null,
            "height": null,
            "justify_content": null,
            "justify_items": null,
            "left": null,
            "margin": null,
            "max_height": null,
            "max_width": null,
            "min_height": null,
            "min_width": null,
            "object_fit": null,
            "object_position": null,
            "order": null,
            "overflow": null,
            "overflow_x": null,
            "overflow_y": null,
            "padding": null,
            "right": null,
            "top": null,
            "visibility": null,
            "width": null
          }
        },
        "ab9d253b8875455fa55af36bd499b826": {
          "model_module": "@jupyter-widgets/controls",
          "model_name": "DescriptionStyleModel",
          "model_module_version": "1.5.0",
          "state": {
            "_model_module": "@jupyter-widgets/controls",
            "_model_module_version": "1.5.0",
            "_model_name": "DescriptionStyleModel",
            "_view_count": null,
            "_view_module": "@jupyter-widgets/base",
            "_view_module_version": "1.2.0",
            "_view_name": "StyleView",
            "description_width": ""
          }
        },
        "1408abe034894b27bcc706f804e475f4": {
          "model_module": "@jupyter-widgets/base",
          "model_name": "LayoutModel",
          "model_module_version": "1.2.0",
          "state": {
            "_model_module": "@jupyter-widgets/base",
            "_model_module_version": "1.2.0",
            "_model_name": "LayoutModel",
            "_view_count": null,
            "_view_module": "@jupyter-widgets/base",
            "_view_module_version": "1.2.0",
            "_view_name": "LayoutView",
            "align_content": null,
            "align_items": null,
            "align_self": null,
            "border": null,
            "bottom": null,
            "display": null,
            "flex": null,
            "flex_flow": null,
            "grid_area": null,
            "grid_auto_columns": null,
            "grid_auto_flow": null,
            "grid_auto_rows": null,
            "grid_column": null,
            "grid_gap": null,
            "grid_row": null,
            "grid_template_areas": null,
            "grid_template_columns": null,
            "grid_template_rows": null,
            "height": null,
            "justify_content": null,
            "justify_items": null,
            "left": null,
            "margin": null,
            "max_height": null,
            "max_width": null,
            "min_height": null,
            "min_width": null,
            "object_fit": null,
            "object_position": null,
            "order": null,
            "overflow": null,
            "overflow_x": null,
            "overflow_y": null,
            "padding": null,
            "right": null,
            "top": null,
            "visibility": null,
            "width": null
          }
        },
        "0c799ab5424642f787faea68a7abd026": {
          "model_module": "@jupyter-widgets/controls",
          "model_name": "ProgressStyleModel",
          "model_module_version": "1.5.0",
          "state": {
            "_model_module": "@jupyter-widgets/controls",
            "_model_module_version": "1.5.0",
            "_model_name": "ProgressStyleModel",
            "_view_count": null,
            "_view_module": "@jupyter-widgets/base",
            "_view_module_version": "1.2.0",
            "_view_name": "StyleView",
            "bar_color": null,
            "description_width": ""
          }
        },
        "0e9cec6f8ac74f5b94e36decc6f4ea7e": {
          "model_module": "@jupyter-widgets/base",
          "model_name": "LayoutModel",
          "model_module_version": "1.2.0",
          "state": {
            "_model_module": "@jupyter-widgets/base",
            "_model_module_version": "1.2.0",
            "_model_name": "LayoutModel",
            "_view_count": null,
            "_view_module": "@jupyter-widgets/base",
            "_view_module_version": "1.2.0",
            "_view_name": "LayoutView",
            "align_content": null,
            "align_items": null,
            "align_self": null,
            "border": null,
            "bottom": null,
            "display": null,
            "flex": null,
            "flex_flow": null,
            "grid_area": null,
            "grid_auto_columns": null,
            "grid_auto_flow": null,
            "grid_auto_rows": null,
            "grid_column": null,
            "grid_gap": null,
            "grid_row": null,
            "grid_template_areas": null,
            "grid_template_columns": null,
            "grid_template_rows": null,
            "height": null,
            "justify_content": null,
            "justify_items": null,
            "left": null,
            "margin": null,
            "max_height": null,
            "max_width": null,
            "min_height": null,
            "min_width": null,
            "object_fit": null,
            "object_position": null,
            "order": null,
            "overflow": null,
            "overflow_x": null,
            "overflow_y": null,
            "padding": null,
            "right": null,
            "top": null,
            "visibility": null,
            "width": null
          }
        },
        "6565db994bfc4b58af3e012df1a55522": {
          "model_module": "@jupyter-widgets/controls",
          "model_name": "DescriptionStyleModel",
          "model_module_version": "1.5.0",
          "state": {
            "_model_module": "@jupyter-widgets/controls",
            "_model_module_version": "1.5.0",
            "_model_name": "DescriptionStyleModel",
            "_view_count": null,
            "_view_module": "@jupyter-widgets/base",
            "_view_module_version": "1.2.0",
            "_view_name": "StyleView",
            "description_width": ""
          }
        },
        "7efe32dd83294ae28ae1e5016f578a9e": {
          "model_module": "@jupyter-widgets/controls",
          "model_name": "HBoxModel",
          "model_module_version": "1.5.0",
          "state": {
            "_dom_classes": [],
            "_model_module": "@jupyter-widgets/controls",
            "_model_module_version": "1.5.0",
            "_model_name": "HBoxModel",
            "_view_count": null,
            "_view_module": "@jupyter-widgets/controls",
            "_view_module_version": "1.5.0",
            "_view_name": "HBoxView",
            "box_style": "",
            "children": [
              "IPY_MODEL_22912abf28584060a3075b67c2002f45",
              "IPY_MODEL_7af37392b9e148d0bca60807bff8ffca",
              "IPY_MODEL_90c04d6374184f8dbd1592466e19bef0"
            ],
            "layout": "IPY_MODEL_3528b838173e4f0fadeef4fe2dbbdca1"
          }
        },
        "22912abf28584060a3075b67c2002f45": {
          "model_module": "@jupyter-widgets/controls",
          "model_name": "HTMLModel",
          "model_module_version": "1.5.0",
          "state": {
            "_dom_classes": [],
            "_model_module": "@jupyter-widgets/controls",
            "_model_module_version": "1.5.0",
            "_model_name": "HTMLModel",
            "_view_count": null,
            "_view_module": "@jupyter-widgets/controls",
            "_view_module_version": "1.5.0",
            "_view_name": "HTMLView",
            "description": "",
            "description_tooltip": null,
            "layout": "IPY_MODEL_5c2ea584722141f99fe3170aeb94f831",
            "placeholder": "​",
            "style": "IPY_MODEL_13bccfacb5c944299af816f33de60b5c",
            "value": "Making predictions...: 100%"
          }
        },
        "7af37392b9e148d0bca60807bff8ffca": {
          "model_module": "@jupyter-widgets/controls",
          "model_name": "FloatProgressModel",
          "model_module_version": "1.5.0",
          "state": {
            "_dom_classes": [],
            "_model_module": "@jupyter-widgets/controls",
            "_model_module_version": "1.5.0",
            "_model_name": "FloatProgressModel",
            "_view_count": null,
            "_view_module": "@jupyter-widgets/controls",
            "_view_module_version": "1.5.0",
            "_view_name": "ProgressView",
            "bar_style": "success",
            "description": "",
            "description_tooltip": null,
            "layout": "IPY_MODEL_86f56818765e456789b661b9397e6d7e",
            "max": 313,
            "min": 0,
            "orientation": "horizontal",
            "style": "IPY_MODEL_cb780a8633f24419af3a101d91d20958",
            "value": 313
          }
        },
        "90c04d6374184f8dbd1592466e19bef0": {
          "model_module": "@jupyter-widgets/controls",
          "model_name": "HTMLModel",
          "model_module_version": "1.5.0",
          "state": {
            "_dom_classes": [],
            "_model_module": "@jupyter-widgets/controls",
            "_model_module_version": "1.5.0",
            "_model_name": "HTMLModel",
            "_view_count": null,
            "_view_module": "@jupyter-widgets/controls",
            "_view_module_version": "1.5.0",
            "_view_name": "HTMLView",
            "description": "",
            "description_tooltip": null,
            "layout": "IPY_MODEL_eaebafca53cb411c9b7967087358ac9c",
            "placeholder": "​",
            "style": "IPY_MODEL_a2e7eae8230b487584cfd531a4240a82",
            "value": " 313/313 [00:01&lt;00:00, 255.44it/s]"
          }
        },
        "3528b838173e4f0fadeef4fe2dbbdca1": {
          "model_module": "@jupyter-widgets/base",
          "model_name": "LayoutModel",
          "model_module_version": "1.2.0",
          "state": {
            "_model_module": "@jupyter-widgets/base",
            "_model_module_version": "1.2.0",
            "_model_name": "LayoutModel",
            "_view_count": null,
            "_view_module": "@jupyter-widgets/base",
            "_view_module_version": "1.2.0",
            "_view_name": "LayoutView",
            "align_content": null,
            "align_items": null,
            "align_self": null,
            "border": null,
            "bottom": null,
            "display": null,
            "flex": null,
            "flex_flow": null,
            "grid_area": null,
            "grid_auto_columns": null,
            "grid_auto_flow": null,
            "grid_auto_rows": null,
            "grid_column": null,
            "grid_gap": null,
            "grid_row": null,
            "grid_template_areas": null,
            "grid_template_columns": null,
            "grid_template_rows": null,
            "height": null,
            "justify_content": null,
            "justify_items": null,
            "left": null,
            "margin": null,
            "max_height": null,
            "max_width": null,
            "min_height": null,
            "min_width": null,
            "object_fit": null,
            "object_position": null,
            "order": null,
            "overflow": null,
            "overflow_x": null,
            "overflow_y": null,
            "padding": null,
            "right": null,
            "top": null,
            "visibility": null,
            "width": null
          }
        },
        "5c2ea584722141f99fe3170aeb94f831": {
          "model_module": "@jupyter-widgets/base",
          "model_name": "LayoutModel",
          "model_module_version": "1.2.0",
          "state": {
            "_model_module": "@jupyter-widgets/base",
            "_model_module_version": "1.2.0",
            "_model_name": "LayoutModel",
            "_view_count": null,
            "_view_module": "@jupyter-widgets/base",
            "_view_module_version": "1.2.0",
            "_view_name": "LayoutView",
            "align_content": null,
            "align_items": null,
            "align_self": null,
            "border": null,
            "bottom": null,
            "display": null,
            "flex": null,
            "flex_flow": null,
            "grid_area": null,
            "grid_auto_columns": null,
            "grid_auto_flow": null,
            "grid_auto_rows": null,
            "grid_column": null,
            "grid_gap": null,
            "grid_row": null,
            "grid_template_areas": null,
            "grid_template_columns": null,
            "grid_template_rows": null,
            "height": null,
            "justify_content": null,
            "justify_items": null,
            "left": null,
            "margin": null,
            "max_height": null,
            "max_width": null,
            "min_height": null,
            "min_width": null,
            "object_fit": null,
            "object_position": null,
            "order": null,
            "overflow": null,
            "overflow_x": null,
            "overflow_y": null,
            "padding": null,
            "right": null,
            "top": null,
            "visibility": null,
            "width": null
          }
        },
        "13bccfacb5c944299af816f33de60b5c": {
          "model_module": "@jupyter-widgets/controls",
          "model_name": "DescriptionStyleModel",
          "model_module_version": "1.5.0",
          "state": {
            "_model_module": "@jupyter-widgets/controls",
            "_model_module_version": "1.5.0",
            "_model_name": "DescriptionStyleModel",
            "_view_count": null,
            "_view_module": "@jupyter-widgets/base",
            "_view_module_version": "1.2.0",
            "_view_name": "StyleView",
            "description_width": ""
          }
        },
        "86f56818765e456789b661b9397e6d7e": {
          "model_module": "@jupyter-widgets/base",
          "model_name": "LayoutModel",
          "model_module_version": "1.2.0",
          "state": {
            "_model_module": "@jupyter-widgets/base",
            "_model_module_version": "1.2.0",
            "_model_name": "LayoutModel",
            "_view_count": null,
            "_view_module": "@jupyter-widgets/base",
            "_view_module_version": "1.2.0",
            "_view_name": "LayoutView",
            "align_content": null,
            "align_items": null,
            "align_self": null,
            "border": null,
            "bottom": null,
            "display": null,
            "flex": null,
            "flex_flow": null,
            "grid_area": null,
            "grid_auto_columns": null,
            "grid_auto_flow": null,
            "grid_auto_rows": null,
            "grid_column": null,
            "grid_gap": null,
            "grid_row": null,
            "grid_template_areas": null,
            "grid_template_columns": null,
            "grid_template_rows": null,
            "height": null,
            "justify_content": null,
            "justify_items": null,
            "left": null,
            "margin": null,
            "max_height": null,
            "max_width": null,
            "min_height": null,
            "min_width": null,
            "object_fit": null,
            "object_position": null,
            "order": null,
            "overflow": null,
            "overflow_x": null,
            "overflow_y": null,
            "padding": null,
            "right": null,
            "top": null,
            "visibility": null,
            "width": null
          }
        },
        "cb780a8633f24419af3a101d91d20958": {
          "model_module": "@jupyter-widgets/controls",
          "model_name": "ProgressStyleModel",
          "model_module_version": "1.5.0",
          "state": {
            "_model_module": "@jupyter-widgets/controls",
            "_model_module_version": "1.5.0",
            "_model_name": "ProgressStyleModel",
            "_view_count": null,
            "_view_module": "@jupyter-widgets/base",
            "_view_module_version": "1.2.0",
            "_view_name": "StyleView",
            "bar_color": null,
            "description_width": ""
          }
        },
        "eaebafca53cb411c9b7967087358ac9c": {
          "model_module": "@jupyter-widgets/base",
          "model_name": "LayoutModel",
          "model_module_version": "1.2.0",
          "state": {
            "_model_module": "@jupyter-widgets/base",
            "_model_module_version": "1.2.0",
            "_model_name": "LayoutModel",
            "_view_count": null,
            "_view_module": "@jupyter-widgets/base",
            "_view_module_version": "1.2.0",
            "_view_name": "LayoutView",
            "align_content": null,
            "align_items": null,
            "align_self": null,
            "border": null,
            "bottom": null,
            "display": null,
            "flex": null,
            "flex_flow": null,
            "grid_area": null,
            "grid_auto_columns": null,
            "grid_auto_flow": null,
            "grid_auto_rows": null,
            "grid_column": null,
            "grid_gap": null,
            "grid_row": null,
            "grid_template_areas": null,
            "grid_template_columns": null,
            "grid_template_rows": null,
            "height": null,
            "justify_content": null,
            "justify_items": null,
            "left": null,
            "margin": null,
            "max_height": null,
            "max_width": null,
            "min_height": null,
            "min_width": null,
            "object_fit": null,
            "object_position": null,
            "order": null,
            "overflow": null,
            "overflow_x": null,
            "overflow_y": null,
            "padding": null,
            "right": null,
            "top": null,
            "visibility": null,
            "width": null
          }
        },
        "a2e7eae8230b487584cfd531a4240a82": {
          "model_module": "@jupyter-widgets/controls",
          "model_name": "DescriptionStyleModel",
          "model_module_version": "1.5.0",
          "state": {
            "_model_module": "@jupyter-widgets/controls",
            "_model_module_version": "1.5.0",
            "_model_name": "DescriptionStyleModel",
            "_view_count": null,
            "_view_module": "@jupyter-widgets/base",
            "_view_module_version": "1.2.0",
            "_view_name": "StyleView",
            "description_width": ""
          }
        }
      }
    },
    "accelerator": "GPU"
  },
  "cells": [
    {
      "cell_type": "markdown",
      "metadata": {
        "id": "view-in-github",
        "colab_type": "text"
      },
      "source": [
        "<a href=\"https://colab.research.google.com/github/nmermigas/PyTorch/blob/main/03_pytorch_computer_vision.ipynb\" target=\"_parent\"><img src=\"https://colab.research.google.com/assets/colab-badge.svg\" alt=\"Open In Colab\"/></a>"
      ]
    },
    {
      "cell_type": "markdown",
      "source": [
        "# PyTorch Computer Vision"
      ],
      "metadata": {
        "id": "U8sEOdeleuKt"
      }
    },
    {
      "cell_type": "markdown",
      "source": [
        "## 0. Computer vision libraries:\n",
        "\n",
        "* [`torchvision`](https://pytorch.org/vision/stable/index.html#torchvision)\n",
        "* `torchvision.datasets` - get datasets and data loading functions for computer vision here\n",
        "* `torchvision.models` - get pretrained computer vision models that you can leverage for your own problems\n",
        "* `torchvision.transforms` - functions for manipulating the vision data to be suitable for use with ML model\n",
        "* `torch.utils.data.Dataset` - Base dataset class for PyTorch\n",
        "* `torch.utils.data.DataLoader` - Creates a Python iterable for datasets"
      ],
      "metadata": {
        "id": "cTeqs0GL00IK"
      }
    },
    {
      "cell_type": "code",
      "source": [
        "# import PyTorch\n",
        "import torch\n",
        "from torch import nn\n",
        "\n",
        "# import torchvision\n",
        "import torchvision\n",
        "from torchvision import datasets\n",
        "from torchvision import transforms\n",
        "from torchvision.transforms import ToTensor\n",
        "\n",
        "\n",
        "import matplotlib.pyplot as plt\n",
        "\n",
        "print(torch.__version__)\n",
        "print(torchvision.__version__)\n"
      ],
      "metadata": {
        "colab": {
          "base_uri": "https://localhost:8080/"
        },
        "id": "0LtW8Pps08WV",
        "outputId": "cfd54add-7bb8-4751-8cf9-0d93f293ae03"
      },
      "execution_count": 1,
      "outputs": [
        {
          "output_type": "stream",
          "name": "stdout",
          "text": [
            "2.1.0+cu118\n",
            "0.16.0+cu118\n"
          ]
        }
      ]
    },
    {
      "cell_type": "markdown",
      "source": [
        "## 1. Getting a dataset\n",
        "\n",
        "Dataset: FashionMNIST ([`FashionMNIST`](https://pytorch.org/vision/stable/generated/torchvision.datasets.FashionMNIST.html#torchvision.datasets.FashionMNIST))"
      ],
      "metadata": {
        "id": "fHFvCE072gar"
      }
    },
    {
      "cell_type": "code",
      "source": [
        "# Setup training data\n",
        "from torchvision import datasets\n",
        "train_data = datasets.FashionMNIST(root='data',# where to download data to?\n",
        "                                      train=True, # do we want the training dataset?\n",
        "                                      download=True, # do we want to download yes/no\n",
        "                                      transform=ToTensor(), # how do we want to transform the data\n",
        "                                      target_transform=None # how do we want to transform the labels/targets\n",
        ")\n",
        "\n",
        "test_data = datasets.FashionMNIST(root='data',\n",
        "                      train=False,\n",
        "                      download=True,\n",
        "                      transform=ToTensor(),\n",
        "                      target_transform=None)"
      ],
      "metadata": {
        "id": "9QIMIlyN28h6",
        "colab": {
          "base_uri": "https://localhost:8080/"
        },
        "outputId": "f9345843-8982-47b1-8b89-a58774ebf6bd"
      },
      "execution_count": 2,
      "outputs": [
        {
          "output_type": "stream",
          "name": "stdout",
          "text": [
            "Downloading http://fashion-mnist.s3-website.eu-central-1.amazonaws.com/train-images-idx3-ubyte.gz\n",
            "Downloading http://fashion-mnist.s3-website.eu-central-1.amazonaws.com/train-images-idx3-ubyte.gz to data/FashionMNIST/raw/train-images-idx3-ubyte.gz\n"
          ]
        },
        {
          "output_type": "stream",
          "name": "stderr",
          "text": [
            "100%|██████████| 26421880/26421880 [00:01<00:00, 18210287.05it/s]\n"
          ]
        },
        {
          "output_type": "stream",
          "name": "stdout",
          "text": [
            "Extracting data/FashionMNIST/raw/train-images-idx3-ubyte.gz to data/FashionMNIST/raw\n",
            "\n",
            "Downloading http://fashion-mnist.s3-website.eu-central-1.amazonaws.com/train-labels-idx1-ubyte.gz\n",
            "Downloading http://fashion-mnist.s3-website.eu-central-1.amazonaws.com/train-labels-idx1-ubyte.gz to data/FashionMNIST/raw/train-labels-idx1-ubyte.gz\n"
          ]
        },
        {
          "output_type": "stream",
          "name": "stderr",
          "text": [
            "100%|██████████| 29515/29515 [00:00<00:00, 297936.22it/s]\n"
          ]
        },
        {
          "output_type": "stream",
          "name": "stdout",
          "text": [
            "Extracting data/FashionMNIST/raw/train-labels-idx1-ubyte.gz to data/FashionMNIST/raw\n",
            "\n",
            "Downloading http://fashion-mnist.s3-website.eu-central-1.amazonaws.com/t10k-images-idx3-ubyte.gz\n",
            "Downloading http://fashion-mnist.s3-website.eu-central-1.amazonaws.com/t10k-images-idx3-ubyte.gz to data/FashionMNIST/raw/t10k-images-idx3-ubyte.gz\n"
          ]
        },
        {
          "output_type": "stream",
          "name": "stderr",
          "text": [
            "100%|██████████| 4422102/4422102 [00:00<00:00, 5580374.11it/s]\n"
          ]
        },
        {
          "output_type": "stream",
          "name": "stdout",
          "text": [
            "Extracting data/FashionMNIST/raw/t10k-images-idx3-ubyte.gz to data/FashionMNIST/raw\n",
            "\n",
            "Downloading http://fashion-mnist.s3-website.eu-central-1.amazonaws.com/t10k-labels-idx1-ubyte.gz\n",
            "Downloading http://fashion-mnist.s3-website.eu-central-1.amazonaws.com/t10k-labels-idx1-ubyte.gz to data/FashionMNIST/raw/t10k-labels-idx1-ubyte.gz\n"
          ]
        },
        {
          "output_type": "stream",
          "name": "stderr",
          "text": [
            "100%|██████████| 5148/5148 [00:00<00:00, 6193997.99it/s]"
          ]
        },
        {
          "output_type": "stream",
          "name": "stdout",
          "text": [
            "Extracting data/FashionMNIST/raw/t10k-labels-idx1-ubyte.gz to data/FashionMNIST/raw\n",
            "\n"
          ]
        },
        {
          "output_type": "stream",
          "name": "stderr",
          "text": [
            "\n"
          ]
        }
      ]
    },
    {
      "cell_type": "code",
      "source": [
        "len(train_data), len(test_data)"
      ],
      "metadata": {
        "colab": {
          "base_uri": "https://localhost:8080/"
        },
        "id": "woYz9Q_A4q-m",
        "outputId": "758f4b5b-c781-47a6-dd5d-4ac4c3584196"
      },
      "execution_count": 3,
      "outputs": [
        {
          "output_type": "execute_result",
          "data": {
            "text/plain": [
              "(60000, 10000)"
            ]
          },
          "metadata": {},
          "execution_count": 3
        }
      ]
    },
    {
      "cell_type": "code",
      "source": [
        "# See the first training example\n",
        "\n",
        "image, label = train_data[0]\n",
        "image, label"
      ],
      "metadata": {
        "colab": {
          "base_uri": "https://localhost:8080/"
        },
        "id": "Rk3aORDG4_Rx",
        "outputId": "43d32e40-7d7a-41a3-c09d-c0e77e93d349"
      },
      "execution_count": 4,
      "outputs": [
        {
          "output_type": "execute_result",
          "data": {
            "text/plain": [
              "(tensor([[[0.0000, 0.0000, 0.0000, 0.0000, 0.0000, 0.0000, 0.0000, 0.0000,\n",
              "           0.0000, 0.0000, 0.0000, 0.0000, 0.0000, 0.0000, 0.0000, 0.0000,\n",
              "           0.0000, 0.0000, 0.0000, 0.0000, 0.0000, 0.0000, 0.0000, 0.0000,\n",
              "           0.0000, 0.0000, 0.0000, 0.0000],\n",
              "          [0.0000, 0.0000, 0.0000, 0.0000, 0.0000, 0.0000, 0.0000, 0.0000,\n",
              "           0.0000, 0.0000, 0.0000, 0.0000, 0.0000, 0.0000, 0.0000, 0.0000,\n",
              "           0.0000, 0.0000, 0.0000, 0.0000, 0.0000, 0.0000, 0.0000, 0.0000,\n",
              "           0.0000, 0.0000, 0.0000, 0.0000],\n",
              "          [0.0000, 0.0000, 0.0000, 0.0000, 0.0000, 0.0000, 0.0000, 0.0000,\n",
              "           0.0000, 0.0000, 0.0000, 0.0000, 0.0000, 0.0000, 0.0000, 0.0000,\n",
              "           0.0000, 0.0000, 0.0000, 0.0000, 0.0000, 0.0000, 0.0000, 0.0000,\n",
              "           0.0000, 0.0000, 0.0000, 0.0000],\n",
              "          [0.0000, 0.0000, 0.0000, 0.0000, 0.0000, 0.0000, 0.0000, 0.0000,\n",
              "           0.0000, 0.0000, 0.0000, 0.0000, 0.0039, 0.0000, 0.0000, 0.0510,\n",
              "           0.2863, 0.0000, 0.0000, 0.0039, 0.0157, 0.0000, 0.0000, 0.0000,\n",
              "           0.0000, 0.0039, 0.0039, 0.0000],\n",
              "          [0.0000, 0.0000, 0.0000, 0.0000, 0.0000, 0.0000, 0.0000, 0.0000,\n",
              "           0.0000, 0.0000, 0.0000, 0.0000, 0.0118, 0.0000, 0.1412, 0.5333,\n",
              "           0.4980, 0.2431, 0.2118, 0.0000, 0.0000, 0.0000, 0.0039, 0.0118,\n",
              "           0.0157, 0.0000, 0.0000, 0.0118],\n",
              "          [0.0000, 0.0000, 0.0000, 0.0000, 0.0000, 0.0000, 0.0000, 0.0000,\n",
              "           0.0000, 0.0000, 0.0000, 0.0000, 0.0235, 0.0000, 0.4000, 0.8000,\n",
              "           0.6902, 0.5255, 0.5647, 0.4824, 0.0902, 0.0000, 0.0000, 0.0000,\n",
              "           0.0000, 0.0471, 0.0392, 0.0000],\n",
              "          [0.0000, 0.0000, 0.0000, 0.0000, 0.0000, 0.0000, 0.0000, 0.0000,\n",
              "           0.0000, 0.0000, 0.0000, 0.0000, 0.0000, 0.0000, 0.6078, 0.9255,\n",
              "           0.8118, 0.6980, 0.4196, 0.6118, 0.6314, 0.4275, 0.2510, 0.0902,\n",
              "           0.3020, 0.5098, 0.2824, 0.0588],\n",
              "          [0.0000, 0.0000, 0.0000, 0.0000, 0.0000, 0.0000, 0.0000, 0.0000,\n",
              "           0.0000, 0.0000, 0.0000, 0.0039, 0.0000, 0.2706, 0.8118, 0.8745,\n",
              "           0.8549, 0.8471, 0.8471, 0.6392, 0.4980, 0.4745, 0.4784, 0.5725,\n",
              "           0.5529, 0.3451, 0.6745, 0.2588],\n",
              "          [0.0000, 0.0000, 0.0000, 0.0000, 0.0000, 0.0000, 0.0000, 0.0000,\n",
              "           0.0000, 0.0039, 0.0039, 0.0039, 0.0000, 0.7843, 0.9098, 0.9098,\n",
              "           0.9137, 0.8980, 0.8745, 0.8745, 0.8431, 0.8353, 0.6431, 0.4980,\n",
              "           0.4824, 0.7686, 0.8980, 0.0000],\n",
              "          [0.0000, 0.0000, 0.0000, 0.0000, 0.0000, 0.0000, 0.0000, 0.0000,\n",
              "           0.0000, 0.0000, 0.0000, 0.0000, 0.0000, 0.7176, 0.8824, 0.8471,\n",
              "           0.8745, 0.8941, 0.9216, 0.8902, 0.8784, 0.8706, 0.8784, 0.8667,\n",
              "           0.8745, 0.9608, 0.6784, 0.0000],\n",
              "          [0.0000, 0.0000, 0.0000, 0.0000, 0.0000, 0.0000, 0.0000, 0.0000,\n",
              "           0.0000, 0.0000, 0.0000, 0.0000, 0.0000, 0.7569, 0.8941, 0.8549,\n",
              "           0.8353, 0.7765, 0.7059, 0.8314, 0.8235, 0.8275, 0.8353, 0.8745,\n",
              "           0.8627, 0.9529, 0.7922, 0.0000],\n",
              "          [0.0000, 0.0000, 0.0000, 0.0000, 0.0000, 0.0000, 0.0000, 0.0000,\n",
              "           0.0000, 0.0039, 0.0118, 0.0000, 0.0471, 0.8588, 0.8627, 0.8314,\n",
              "           0.8549, 0.7529, 0.6627, 0.8902, 0.8157, 0.8549, 0.8784, 0.8314,\n",
              "           0.8863, 0.7725, 0.8196, 0.2039],\n",
              "          [0.0000, 0.0000, 0.0000, 0.0000, 0.0000, 0.0000, 0.0000, 0.0000,\n",
              "           0.0000, 0.0000, 0.0235, 0.0000, 0.3882, 0.9569, 0.8706, 0.8627,\n",
              "           0.8549, 0.7961, 0.7765, 0.8667, 0.8431, 0.8353, 0.8706, 0.8627,\n",
              "           0.9608, 0.4667, 0.6549, 0.2196],\n",
              "          [0.0000, 0.0000, 0.0000, 0.0000, 0.0000, 0.0000, 0.0000, 0.0000,\n",
              "           0.0000, 0.0157, 0.0000, 0.0000, 0.2157, 0.9255, 0.8941, 0.9020,\n",
              "           0.8941, 0.9412, 0.9098, 0.8353, 0.8549, 0.8745, 0.9176, 0.8510,\n",
              "           0.8510, 0.8196, 0.3608, 0.0000],\n",
              "          [0.0000, 0.0000, 0.0039, 0.0157, 0.0235, 0.0275, 0.0078, 0.0000,\n",
              "           0.0000, 0.0000, 0.0000, 0.0000, 0.9294, 0.8863, 0.8510, 0.8745,\n",
              "           0.8706, 0.8588, 0.8706, 0.8667, 0.8471, 0.8745, 0.8980, 0.8431,\n",
              "           0.8549, 1.0000, 0.3020, 0.0000],\n",
              "          [0.0000, 0.0118, 0.0000, 0.0000, 0.0000, 0.0000, 0.0000, 0.0000,\n",
              "           0.0000, 0.2431, 0.5686, 0.8000, 0.8941, 0.8118, 0.8353, 0.8667,\n",
              "           0.8549, 0.8157, 0.8275, 0.8549, 0.8784, 0.8745, 0.8588, 0.8431,\n",
              "           0.8784, 0.9569, 0.6235, 0.0000],\n",
              "          [0.0000, 0.0000, 0.0000, 0.0000, 0.0706, 0.1725, 0.3216, 0.4196,\n",
              "           0.7412, 0.8941, 0.8627, 0.8706, 0.8510, 0.8863, 0.7843, 0.8039,\n",
              "           0.8275, 0.9020, 0.8784, 0.9176, 0.6902, 0.7373, 0.9804, 0.9725,\n",
              "           0.9137, 0.9333, 0.8431, 0.0000],\n",
              "          [0.0000, 0.2235, 0.7333, 0.8157, 0.8784, 0.8667, 0.8784, 0.8157,\n",
              "           0.8000, 0.8392, 0.8157, 0.8196, 0.7843, 0.6235, 0.9608, 0.7569,\n",
              "           0.8078, 0.8745, 1.0000, 1.0000, 0.8667, 0.9176, 0.8667, 0.8275,\n",
              "           0.8627, 0.9098, 0.9647, 0.0000],\n",
              "          [0.0118, 0.7922, 0.8941, 0.8784, 0.8667, 0.8275, 0.8275, 0.8392,\n",
              "           0.8039, 0.8039, 0.8039, 0.8627, 0.9412, 0.3137, 0.5882, 1.0000,\n",
              "           0.8980, 0.8667, 0.7373, 0.6039, 0.7490, 0.8235, 0.8000, 0.8196,\n",
              "           0.8706, 0.8941, 0.8824, 0.0000],\n",
              "          [0.3843, 0.9137, 0.7765, 0.8235, 0.8706, 0.8980, 0.8980, 0.9176,\n",
              "           0.9765, 0.8627, 0.7608, 0.8431, 0.8510, 0.9451, 0.2549, 0.2863,\n",
              "           0.4157, 0.4588, 0.6588, 0.8588, 0.8667, 0.8431, 0.8510, 0.8745,\n",
              "           0.8745, 0.8784, 0.8980, 0.1137],\n",
              "          [0.2941, 0.8000, 0.8314, 0.8000, 0.7569, 0.8039, 0.8275, 0.8824,\n",
              "           0.8471, 0.7255, 0.7725, 0.8078, 0.7765, 0.8353, 0.9412, 0.7647,\n",
              "           0.8902, 0.9608, 0.9373, 0.8745, 0.8549, 0.8314, 0.8196, 0.8706,\n",
              "           0.8627, 0.8667, 0.9020, 0.2627],\n",
              "          [0.1882, 0.7961, 0.7176, 0.7608, 0.8353, 0.7725, 0.7255, 0.7451,\n",
              "           0.7608, 0.7529, 0.7922, 0.8392, 0.8588, 0.8667, 0.8627, 0.9255,\n",
              "           0.8824, 0.8471, 0.7804, 0.8078, 0.7294, 0.7098, 0.6941, 0.6745,\n",
              "           0.7098, 0.8039, 0.8078, 0.4510],\n",
              "          [0.0000, 0.4784, 0.8588, 0.7569, 0.7020, 0.6706, 0.7176, 0.7686,\n",
              "           0.8000, 0.8235, 0.8353, 0.8118, 0.8275, 0.8235, 0.7843, 0.7686,\n",
              "           0.7608, 0.7490, 0.7647, 0.7490, 0.7765, 0.7529, 0.6902, 0.6118,\n",
              "           0.6549, 0.6941, 0.8235, 0.3608],\n",
              "          [0.0000, 0.0000, 0.2902, 0.7412, 0.8314, 0.7490, 0.6863, 0.6745,\n",
              "           0.6863, 0.7098, 0.7255, 0.7373, 0.7412, 0.7373, 0.7569, 0.7765,\n",
              "           0.8000, 0.8196, 0.8235, 0.8235, 0.8275, 0.7373, 0.7373, 0.7608,\n",
              "           0.7529, 0.8471, 0.6667, 0.0000],\n",
              "          [0.0078, 0.0000, 0.0000, 0.0000, 0.2588, 0.7843, 0.8706, 0.9294,\n",
              "           0.9373, 0.9490, 0.9647, 0.9529, 0.9569, 0.8667, 0.8627, 0.7569,\n",
              "           0.7490, 0.7020, 0.7137, 0.7137, 0.7098, 0.6902, 0.6510, 0.6588,\n",
              "           0.3882, 0.2275, 0.0000, 0.0000],\n",
              "          [0.0000, 0.0000, 0.0000, 0.0000, 0.0000, 0.0000, 0.0000, 0.1569,\n",
              "           0.2392, 0.1725, 0.2824, 0.1608, 0.1373, 0.0000, 0.0000, 0.0000,\n",
              "           0.0000, 0.0000, 0.0000, 0.0000, 0.0000, 0.0000, 0.0000, 0.0000,\n",
              "           0.0000, 0.0000, 0.0000, 0.0000],\n",
              "          [0.0000, 0.0000, 0.0000, 0.0000, 0.0000, 0.0000, 0.0000, 0.0000,\n",
              "           0.0000, 0.0000, 0.0000, 0.0000, 0.0000, 0.0000, 0.0000, 0.0000,\n",
              "           0.0000, 0.0000, 0.0000, 0.0000, 0.0000, 0.0000, 0.0000, 0.0000,\n",
              "           0.0000, 0.0000, 0.0000, 0.0000],\n",
              "          [0.0000, 0.0000, 0.0000, 0.0000, 0.0000, 0.0000, 0.0000, 0.0000,\n",
              "           0.0000, 0.0000, 0.0000, 0.0000, 0.0000, 0.0000, 0.0000, 0.0000,\n",
              "           0.0000, 0.0000, 0.0000, 0.0000, 0.0000, 0.0000, 0.0000, 0.0000,\n",
              "           0.0000, 0.0000, 0.0000, 0.0000]]]),\n",
              " 9)"
            ]
          },
          "metadata": {},
          "execution_count": 4
        }
      ]
    },
    {
      "cell_type": "code",
      "source": [
        "class_names = train_data.classes\n",
        "class_names"
      ],
      "metadata": {
        "colab": {
          "base_uri": "https://localhost:8080/"
        },
        "id": "aOe6mI5R5Esj",
        "outputId": "c56e0657-2ba5-4abc-f04a-e20aa61aaa1f"
      },
      "execution_count": 5,
      "outputs": [
        {
          "output_type": "execute_result",
          "data": {
            "text/plain": [
              "['T-shirt/top',\n",
              " 'Trouser',\n",
              " 'Pullover',\n",
              " 'Dress',\n",
              " 'Coat',\n",
              " 'Sandal',\n",
              " 'Shirt',\n",
              " 'Sneaker',\n",
              " 'Bag',\n",
              " 'Ankle boot']"
            ]
          },
          "metadata": {},
          "execution_count": 5
        }
      ]
    },
    {
      "cell_type": "code",
      "source": [
        "class_to_idx = train_data.class_to_idx\n",
        "class_to_idx"
      ],
      "metadata": {
        "colab": {
          "base_uri": "https://localhost:8080/"
        },
        "id": "3fRq0mvC5fVg",
        "outputId": "f371b266-b04d-467c-9072-aeaee83de47d"
      },
      "execution_count": 6,
      "outputs": [
        {
          "output_type": "execute_result",
          "data": {
            "text/plain": [
              "{'T-shirt/top': 0,\n",
              " 'Trouser': 1,\n",
              " 'Pullover': 2,\n",
              " 'Dress': 3,\n",
              " 'Coat': 4,\n",
              " 'Sandal': 5,\n",
              " 'Shirt': 6,\n",
              " 'Sneaker': 7,\n",
              " 'Bag': 8,\n",
              " 'Ankle boot': 9}"
            ]
          },
          "metadata": {},
          "execution_count": 6
        }
      ]
    },
    {
      "cell_type": "code",
      "source": [
        "# Check the shape of our image\n",
        "image.shape, label"
      ],
      "metadata": {
        "colab": {
          "base_uri": "https://localhost:8080/"
        },
        "id": "pxE8GHrS5kWg",
        "outputId": "e34694d4-3f34-4a95-c8fc-f0dd46adde74"
      },
      "execution_count": 7,
      "outputs": [
        {
          "output_type": "execute_result",
          "data": {
            "text/plain": [
              "(torch.Size([1, 28, 28]), 9)"
            ]
          },
          "metadata": {},
          "execution_count": 7
        }
      ]
    },
    {
      "cell_type": "markdown",
      "source": [
        "### 1.2 Visualizing our data\n"
      ],
      "metadata": {
        "id": "qLpOkp3w5rbe"
      }
    },
    {
      "cell_type": "code",
      "source": [
        "image, label = train_data[0]\n",
        "print(f\"Image shape: {image.shape}\")\n",
        "plt.imshow(image.squeeze())"
      ],
      "metadata": {
        "colab": {
          "base_uri": "https://localhost:8080/",
          "height": 465
        },
        "id": "TcL34_wp6lTe",
        "outputId": "deaa9a2f-1603-4002-bf56-6566c0368706"
      },
      "execution_count": 8,
      "outputs": [
        {
          "output_type": "stream",
          "name": "stdout",
          "text": [
            "Image shape: torch.Size([1, 28, 28])\n"
          ]
        },
        {
          "output_type": "execute_result",
          "data": {
            "text/plain": [
              "<matplotlib.image.AxesImage at 0x7d8eb1955cc0>"
            ]
          },
          "metadata": {},
          "execution_count": 8
        },
        {
          "output_type": "display_data",
          "data": {
            "text/plain": [
              "<Figure size 640x480 with 1 Axes>"
            ],
            "image/png": "[encoded data removed]"
          },
          "metadata": {}
        }
      ]
    },
    {
      "cell_type": "code",
      "source": [
        "plt.imshow(image.squeeze(),cmap='gray')\n",
        "plt.title(class_names[label])\n",
        "plt.axis(False)"
      ],
      "metadata": {
        "colab": {
          "base_uri": "https://localhost:8080/",
          "height": 445
        },
        "id": "Nk_VZwvb6u2d",
        "outputId": "f984d6f7-85c5-4da9-ad55-086012fd024c"
      },
      "execution_count": 9,
      "outputs": [
        {
          "output_type": "execute_result",
          "data": {
            "text/plain": [
              "(-0.5, 27.5, 27.5, -0.5)"
            ]
          },
          "metadata": {},
          "execution_count": 9
        },
        {
          "output_type": "display_data",
          "data": {
            "text/plain": [
              "<Figure size 640x480 with 1 Axes>"
            ],
            "image/png": "[encoded data removed]"
          },
          "metadata": {}
        }
      ]
    },
    {
      "cell_type": "code",
      "source": [
        "# Plot more images\n",
        "torch.manual_seed(42)\n",
        "fig = plt.figure(figsize=(8,8))\n",
        "rows,cols = 4,4\n",
        "for i in range(1, rows*cols +1):\n",
        "  random_idx = torch.randint(0,len(train_data),size=[1]).item()\n",
        "  img,label = train_data[random_idx]\n",
        "  fig.add_subplot(rows,cols,i)\n",
        "  plt.imshow(img.squeeze(),cmap='gray')\n",
        "  plt.title(class_names[label])\n",
        "  plt.axis(False)"
      ],
      "metadata": {
        "colab": {
          "base_uri": "https://localhost:8080/",
          "height": 675
        },
        "id": "uL4pdaLg7Lv6",
        "outputId": "898846bd-7631-406b-ff2c-e9a321294a9f"
      },
      "execution_count": 10,
      "outputs": [
        {
          "output_type": "display_data",
          "data": {
            "text/plain": [
              "<Figure size 800x800 with 16 Axes>"
            ],
            "image/png": "[encoded data removed]"
          },
          "metadata": {}
        }
      ]
    },
    {
      "cell_type": "markdown",
      "source": [
        "## 2. Prepare DataLoader\n",
        "\n",
        "Right now, the data is in form of PyTorch Datasets.\n",
        "\n",
        "DataLoader turns our dataset int a Python iterable.\n",
        "\n",
        "More specifically, we want to turn our data into batches (or mini batches).\n",
        "\n",
        "Why would we do this?\n",
        "\n",
        "1. It is more computationally efficient. We break it down to 32 images ar a time (with a size of 32).\n",
        "\n",
        "2. It gives our neural network more chances to update its gradients per epoch. ( [link](https://www.youtube.com/watch?v=4qJaSmvhxi8))"
      ],
      "metadata": {
        "id": "aI0gll2X7d4E"
      }
    },
    {
      "cell_type": "code",
      "source": [
        "from torch.utils.data import DataLoader\n",
        "\n",
        "BATCH_SIZE = 32\n",
        "train_dataloader = DataLoader( dataset = train_data,\n",
        "                              batch_size = BATCH_SIZE,\n",
        "                               shuffle=True)\n",
        "\n",
        "test_dataloader = DataLoader(dataset = test_data,\n",
        "                   batch_size = BATCH_SIZE,\n",
        "                   shuffle = False)\n",
        "\n",
        "train_dataloader,test_dataloader"
      ],
      "metadata": {
        "id": "7cdpcv7I9AFY",
        "colab": {
          "base_uri": "https://localhost:8080/"
        },
        "outputId": "1b557dd1-f333-42c5-8838-1d7ed948bbef"
      },
      "execution_count": 11,
      "outputs": [
        {
          "output_type": "execute_result",
          "data": {
            "text/plain": [
              "(<torch.utils.data.dataloader.DataLoader at 0x7d8eaf303760>,\n",
              " <torch.utils.data.dataloader.DataLoader at 0x7d8eaf48b3a0>)"
            ]
          },
          "metadata": {},
          "execution_count": 11
        }
      ]
    },
    {
      "cell_type": "code",
      "source": [
        "print(f\"DataLoaders: {train_dataloader,test_dataloader}\")\n",
        "print(f\"Length of train dataloader: {len(train_dataloader)} batches of {BATCH_SIZE}\")\n",
        "print(f\"Length of test dataloader: {len(test_dataloader)} batches of {BATCH_SIZE}\")\n"
      ],
      "metadata": {
        "colab": {
          "base_uri": "https://localhost:8080/"
        },
        "id": "3aLTIHoQXWnF",
        "outputId": "66c0d37c-a728-4292-b6f8-19c910ad0c6a"
      },
      "execution_count": 12,
      "outputs": [
        {
          "output_type": "stream",
          "name": "stdout",
          "text": [
            "DataLoaders: (<torch.utils.data.dataloader.DataLoader object at 0x7d8eaf303760>, <torch.utils.data.dataloader.DataLoader object at 0x7d8eaf48b3a0>)\n",
            "Length of train dataloader: 1875 batches of 32\n",
            "Length of test dataloader: 313 batches of 32\n"
          ]
        }
      ]
    },
    {
      "cell_type": "code",
      "source": [
        "# Check out what is inside the training dataloader\n",
        "train_features_batch, train_labels_batch = next(iter(train_dataloader))\n",
        "train_features_batch.shape, train_labels_batch.shape"
      ],
      "metadata": {
        "colab": {
          "base_uri": "https://localhost:8080/"
        },
        "id": "WYJZ1Zu1YQar",
        "outputId": "2ac7ab7f-7b9f-483f-ac1d-acd6f8588d2b"
      },
      "execution_count": 13,
      "outputs": [
        {
          "output_type": "execute_result",
          "data": {
            "text/plain": [
              "(torch.Size([32, 1, 28, 28]), torch.Size([32]))"
            ]
          },
          "metadata": {},
          "execution_count": 13
        }
      ]
    },
    {
      "cell_type": "code",
      "source": [
        "# Show a sample\n",
        "# torch.manual_seed(42)\n",
        "random_idx = torch.randint(0,len(train_features_batch),size=[1]).item()\n",
        "img, label = train_features_batch[random_idx] , train_labels_batch[random_idx]\n",
        "plt.imshow(img.squeeze(),cmap='gray')\n",
        "plt.title(class_names[label])\n",
        "plt.axis(False)"
      ],
      "metadata": {
        "colab": {
          "base_uri": "https://localhost:8080/",
          "height": 445
        },
        "id": "nq3g4rweXli-",
        "outputId": "5563ace7-a464-42d1-8728-be4b8fb6afaf"
      },
      "execution_count": 14,
      "outputs": [
        {
          "output_type": "execute_result",
          "data": {
            "text/plain": [
              "(-0.5, 27.5, 27.5, -0.5)"
            ]
          },
          "metadata": {},
          "execution_count": 14
        },
        {
          "output_type": "display_data",
          "data": {
            "text/plain": [
              "<Figure size 640x480 with 1 Axes>"
            ],
            "image/png": "[encoded data removed]"
          },
          "metadata": {}
        }
      ]
    },
    {
      "cell_type": "markdown",
      "source": [
        "## 3. Model 0: Build a baseline model\n",
        "\n",
        "When starting to build a series of ML modelling experiments, it's best practice to start with a baseline model.\n",
        "\n",
        "A baseline model is a simple model you will try to improve upon subsequent models/experiments.\n",
        "\n",
        "In other words: start simply and add complexity when necessary.\n",
        "\n",
        "\n"
      ],
      "metadata": {
        "id": "eBwyS-NXX9d2"
      }
    },
    {
      "cell_type": "code",
      "source": [
        "# Create a flatten layer\n",
        "\n",
        "flatten_model = nn.Flatten()\n",
        "\n",
        "# Get a single sample\n",
        "x = train_features_batch[0] # first batch\n",
        "\n",
        "# Flatten the sample\n",
        "output = flatten_model(x) # perform forward pass\n",
        "\n",
        "# Print out what happened\n",
        "print(f\"Shape before flattening {x.shape} -> [color_channels,height,width]\")\n",
        "print(f\"Shape after flattening {output.shape} -> [color_channels,height*width]\")\n"
      ],
      "metadata": {
        "colab": {
          "base_uri": "https://localhost:8080/"
        },
        "id": "XsTy0UF9bfDE",
        "outputId": "61e53006-c816-441d-eb12-57be9f7a7e0b"
      },
      "execution_count": 15,
      "outputs": [
        {
          "output_type": "stream",
          "name": "stdout",
          "text": [
            "Shape before flattening torch.Size([1, 28, 28]) -> [color_channels,height,width]\n",
            "Shape after flattening torch.Size([1, 784]) -> [color_channels,height*width]\n"
          ]
        }
      ]
    },
    {
      "cell_type": "code",
      "source": [
        "from torch import nn\n",
        "class FashionMNISTModelV0(nn.Module):\n",
        "  def __init__(self,\n",
        "               input_shape:int,\n",
        "               hidden_units:int,\n",
        "               output_shape:int):\n",
        "    super().__init__()\n",
        "    self.layer_stack = nn.Sequential(\n",
        "        nn.Flatten(),\n",
        "        nn.Linear(in_features = input_shape, out_features=hidden_units),\n",
        "        nn.Linear(in_features = hidden_units, out_features=output_shape)\n",
        "    )\n",
        "  def forward(self,x):\n",
        "    return self.layer_stack(x)"
      ],
      "metadata": {
        "id": "L2emeOFncBEF"
      },
      "execution_count": 16,
      "outputs": []
    },
    {
      "cell_type": "code",
      "source": [
        "# Create instance\n",
        "torch.manual_seed(42)\n",
        "\n",
        "#Setup model with input parameters\n",
        "model_0 = FashionMNISTModelV0(input_shape=28 * 28, # this is 784 (flattening)\n",
        "                              hidden_units=10,\n",
        "                              output_shape = len(class_names)\n",
        "                              ).to(\"cpu\")"
      ],
      "metadata": {
        "id": "z6fszXwrdOIV"
      },
      "execution_count": 17,
      "outputs": []
    },
    {
      "cell_type": "code",
      "source": [
        "dummy_x = torch.rand([1,1,28,28])\n",
        "model_0(dummy_x)"
      ],
      "metadata": {
        "colab": {
          "base_uri": "https://localhost:8080/"
        },
        "id": "BqhNEqAAduuQ",
        "outputId": "2f7295b5-0b09-43b2-e89d-31a2cf20a464"
      },
      "execution_count": 18,
      "outputs": [
        {
          "output_type": "execute_result",
          "data": {
            "text/plain": [
              "tensor([[-0.0315,  0.3171,  0.0531, -0.2525,  0.5959,  0.2112,  0.3233,  0.2694,\n",
              "         -0.1004,  0.0157]], grad_fn=<AddmmBackward0>)"
            ]
          },
          "metadata": {},
          "execution_count": 18
        }
      ]
    },
    {
      "cell_type": "code",
      "source": [
        "model_0.state_dict()"
      ],
      "metadata": {
        "colab": {
          "base_uri": "https://localhost:8080/"
        },
        "id": "x9kNe_0Rd0WP",
        "outputId": "440e0b6e-45ad-411a-d814-b593a2e34be7"
      },
      "execution_count": 19,
      "outputs": [
        {
          "output_type": "execute_result",
          "data": {
            "text/plain": [
              "OrderedDict([('layer_stack.1.weight',\n",
              "              tensor([[ 0.0273,  0.0296, -0.0084,  ..., -0.0142,  0.0093,  0.0135],\n",
              "                      [-0.0188, -0.0354,  0.0187,  ..., -0.0106, -0.0001,  0.0115],\n",
              "                      [-0.0008,  0.0017,  0.0045,  ..., -0.0127, -0.0188,  0.0059],\n",
              "                      ...,\n",
              "                      [-0.0116,  0.0273, -0.0344,  ...,  0.0176,  0.0283, -0.0011],\n",
              "                      [-0.0230,  0.0257,  0.0291,  ..., -0.0187, -0.0087,  0.0001],\n",
              "                      [ 0.0176, -0.0147,  0.0053,  ..., -0.0336, -0.0221,  0.0205]])),\n",
              "             ('layer_stack.1.bias',\n",
              "              tensor([-0.0093,  0.0283, -0.0033,  0.0255,  0.0017,  0.0037, -0.0302, -0.0123,\n",
              "                       0.0018,  0.0163])),\n",
              "             ('layer_stack.2.weight',\n",
              "              tensor([[ 0.0614, -0.0687,  0.0021,  0.2718,  0.2109,  0.1079, -0.2279, -0.1063,\n",
              "                        0.2019,  0.2847],\n",
              "                      [-0.1495,  0.1344, -0.0740,  0.2006, -0.0475, -0.2514, -0.3130, -0.0118,\n",
              "                        0.0932, -0.1864],\n",
              "                      [ 0.2488,  0.1500,  0.1907,  0.1457, -0.3050, -0.0580,  0.1643,  0.1565,\n",
              "                       -0.2877, -0.1792],\n",
              "                      [ 0.2305, -0.2618,  0.2397, -0.0610,  0.0232,  0.1542,  0.0851, -0.2027,\n",
              "                        0.1030, -0.2715],\n",
              "                      [-0.1596, -0.0555, -0.0633,  0.2302, -0.1726,  0.2654,  0.1473,  0.1029,\n",
              "                        0.2252, -0.2160],\n",
              "                      [-0.2725,  0.0118,  0.1559,  0.1596,  0.0132,  0.3024,  0.1124,  0.1366,\n",
              "                       -0.1533,  0.0965],\n",
              "                      [-0.1184, -0.2555, -0.2057, -0.1909, -0.0477, -0.1324,  0.2905,  0.1307,\n",
              "                       -0.2629,  0.0133],\n",
              "                      [ 0.2727, -0.0127,  0.0513,  0.0863, -0.1043, -0.2047, -0.1185, -0.0825,\n",
              "                        0.2488, -0.2571],\n",
              "                      [ 0.0425, -0.1209, -0.0336, -0.0281, -0.1227,  0.0730,  0.0747, -0.1816,\n",
              "                        0.1943,  0.2853],\n",
              "                      [-0.1310,  0.0645, -0.1171,  0.2168, -0.0245, -0.2820,  0.0736,  0.2621,\n",
              "                        0.0012, -0.0810]])),\n",
              "             ('layer_stack.2.bias',\n",
              "              tensor([-0.0087,  0.1791,  0.2712, -0.0791,  0.1685,  0.1762,  0.2825,  0.2266,\n",
              "                      -0.2612, -0.2613]))])"
            ]
          },
          "metadata": {},
          "execution_count": 19
        }
      ]
    },
    {
      "cell_type": "markdown",
      "source": [
        "## 3.1 Setup loss, optimizer and evaluation metrics\n",
        "\n",
        "* Loss function - since we are working with multi-class data, our loss function will be `nn.CrossEntropyLoss()`\n",
        "* Optimizer - our optimizer `torch.optim.SGD()` (stohastic gradient descent)\n",
        "* Evaluation metric -accuracy"
      ],
      "metadata": {
        "id": "vN0X5mtke1Ct"
      }
    },
    {
      "cell_type": "code",
      "source": [
        "import requests\n",
        "from pathlib import Path\n",
        "\n",
        "# Download helper functions from the above repo\n",
        "\n",
        "if Path('helper_function.py').is_file():\n",
        "  print('helper_function.py already exists')\n",
        "else:\n",
        "  print('downloading helper_function.py')\n",
        "  request = requests.get(\"https://raw.githubusercontent.com/mrdbourke/pytorch-deep-learning/main/helper_functions.py\")\n",
        "  with open(\"helper_functions.py\",\"wb\") as f:\n",
        "    f.write(request.content)"
      ],
      "metadata": {
        "colab": {
          "base_uri": "https://localhost:8080/"
        },
        "id": "jpv3dAaEf54s",
        "outputId": "3599c11e-7d65-42fc-92ff-098ebe7aafa3"
      },
      "execution_count": 20,
      "outputs": [
        {
          "output_type": "stream",
          "name": "stdout",
          "text": [
            "downloading helper_function.py\n"
          ]
        }
      ]
    },
    {
      "cell_type": "code",
      "source": [
        "from helper_functions import accuracy_fn\n",
        "\n",
        "# Setup loss function and optimizer\n",
        "loss_fn = nn.CrossEntropyLoss()\n",
        "optimizer = torch.optim.SGD(params = model_0.parameters(),\n",
        "                             lr = 0.1)"
      ],
      "metadata": {
        "id": "ssVn64LygM8v"
      },
      "execution_count": 21,
      "outputs": []
    },
    {
      "cell_type": "markdown",
      "source": [
        "### 3.2 Creating a function to time our experiments\n",
        "\n",
        "Two of the main things you'll often track:\n",
        "1. Model's performance\n",
        "2. How fast it runs"
      ],
      "metadata": {
        "id": "zeenaFd9gS2c"
      }
    },
    {
      "cell_type": "code",
      "source": [
        "from timeit import default_timer as timer\n",
        "def print_train_time(start:float,\n",
        "                     end:float,\n",
        "                     device:torch.device= None):\n",
        "  \"\"\" Prints difference between start and end time.\"\"\"\n",
        "  total_time = end - start\n",
        "  print(f\"Train time on {device}: {total_time:.3f} seconds\")\n",
        "  return total_time\n"
      ],
      "metadata": {
        "id": "McpongQrhMfJ"
      },
      "execution_count": 22,
      "outputs": []
    },
    {
      "cell_type": "code",
      "source": [
        "start_time = timer()\n",
        "end_time = timer()\n",
        "print_train_time(start=start_time,end=end_time,device='cpu')"
      ],
      "metadata": {
        "colab": {
          "base_uri": "https://localhost:8080/"
        },
        "id": "T7X64ebxhzi_",
        "outputId": "ea73b1b8-f0b5-4432-9581-9fa02d62c1d5"
      },
      "execution_count": 23,
      "outputs": [
        {
          "output_type": "stream",
          "name": "stdout",
          "text": [
            "Train time on cpu: 0.000 seconds\n"
          ]
        },
        {
          "output_type": "execute_result",
          "data": {
            "text/plain": [
              "2.6258999923811643e-05"
            ]
          },
          "metadata": {},
          "execution_count": 23
        }
      ]
    },
    {
      "cell_type": "markdown",
      "source": [
        "### 3.3 Creating a training loop and training a model on batches of data\n",
        "\n",
        "1. Loop through epochs.\n",
        "2. Loop through trianing batches, perform training steps, calculate the train loss * per batch *.\n",
        "3. Loop through testing batches, perform testing steps, calculate the test loss * per batch *.\n",
        "4. Print out what's happening\n",
        "5. Time it"
      ],
      "metadata": {
        "id": "j-0PluBOh9Rf"
      }
    },
    {
      "cell_type": "code",
      "source": [
        "# import tqdm for progress bar\n",
        "from tqdm.auto import tqdm\n",
        "\n",
        "# Set the seed and start the timer\n",
        "torch.manual_seed(42)\n",
        "train_time_start_on_cpu = timer()\n",
        "\n",
        "# Set the number of epochs (small for faster training time)\n",
        "epochs = 3\n",
        "\n",
        "# Create a training and test loop\n",
        "for epoch in tqdm(range(epochs)): #wrap it with tqdm\n",
        "  print(f\"Epoch: {epoch}\\n-----\")\n",
        "  ### Training\n",
        "  train_loss = 0\n",
        "  # Add a loop to loop through the training batches\n",
        "  for batch, (X, y) in enumerate(train_dataloader):\n",
        "    model_0.train()\n",
        "    # 1. Forward pass\n",
        "    y_pred = model_0(X)\n",
        "\n",
        "    # 2. Calculate loss (per batch)\n",
        "    loss = loss_fn(y_pred,y)\n",
        "    train_loss += loss # accumulate train loss\n",
        "\n",
        "    # 3. Optimizer zero grad\n",
        "    optimizer.zero_grad()\n",
        "\n",
        "    # 4. loss backward\n",
        "    loss.backward()\n",
        "\n",
        "    # 5. Optimizer step\n",
        "    optimizer.step()\n",
        "\n",
        "    # Print out what's happening\n",
        "    if batch % 400 == 0:\n",
        "      print(f\"Looked at {batch * len(X)}/{len(train_dataloader.dataset)} samples.\")\n",
        "  train_loss /= len(train_dataloader)\n",
        "\n",
        "  ### Testing\n",
        "  test_loss,test_acc = 0,0\n",
        "  model_0.eval()\n",
        "  with torch.inference_mode():\n",
        "    for X_test,y_test in test_dataloader:\n",
        "      # 1. Forward pass\n",
        "      test_pred = model_0(X_test)\n",
        "\n",
        "      # 2. Caclulate loss (accumulatively)\n",
        "      test_loss += loss_fn(test_pred,y_test)\n",
        "\n",
        "      # 3. Calculate accuracy\n",
        "      test_acc += accuracy_fn(y_true=y_test,y_pred=test_pred.argmax(dim=1))\n",
        "    # Calculate the test loss avg per batch\n",
        "    test_loss /=len(test_dataloader)\n",
        "\n",
        "    # Calculate the test loss avg per batch\n",
        "    test_acc /= len(test_dataloader)\n",
        "\n",
        "    print(f\"\\n Train loss:{train_loss:.4f} | Test loss: {test_loss:.4f}, Test acc:{test_acc:.4f}\")\n",
        "    train_time_end_on_cpu = timer()\n",
        "    total_train_time_model_0 = print_train_time(start=train_time_start_on_cpu,\n",
        "                                                end = train_time_end_on_cpu,\n",
        "                                                device = str(next(model_0.parameters()).device))\n"
      ],
      "metadata": {
        "colab": {
          "base_uri": "https://localhost:8080/",
          "height": 570,
          "referenced_widgets": [
            "06f0e7a666374acc91fa6e4fd86c2583",
            "5acaffe76f334b3ab2763bf29f62608e",
            "b6af4e90a0c24385a021f7049d66df54",
            "7d36e4edf1a942bab6654d5edfd0405b",
            "e1f9d0da4d764a8e90c83226a8408606",
            "46dab344e1ae43dca72c7a6ba40af8ce",
            "e6ca7cacf38b476cbbd6adde861e3143",
            "09ab146a5f0340268736ca5eb3b86c4a",
            "540a0ef251a44b5a810691b3839a069d",
            "505e33983f884671bb0e51a4857deb37",
            "2bd62c15c56f414489498922e6d489db"
          ]
        },
        "id": "-SmIpJbglsPU",
        "outputId": "d1e81444-f4f8-41a1-969c-53bebac79cfe"
      },
      "execution_count": 24,
      "outputs": [
        {
          "output_type": "display_data",
          "data": {
            "text/plain": [
              "  0%|          | 0/3 [00:00<?, ?it/s]"
            ],
            "application/vnd.jupyter.widget-view+json": {
              "version_major": 2,
              "version_minor": 0,
              "model_id": "06f0e7a666374acc91fa6e4fd86c2583"
            }
          },
          "metadata": {}
        },
        {
          "output_type": "stream",
          "name": "stdout",
          "text": [
            "Epoch: 0\n",
            "-----\n",
            "Looked at 0/60000 samples.\n",
            "Looked at 12800/60000 samples.\n",
            "Looked at 25600/60000 samples.\n",
            "Looked at 38400/60000 samples.\n",
            "Looked at 51200/60000 samples.\n",
            "\n",
            " Train loss:0.5904 | Test loss: 0.5095, Test acc:82.0387\n",
            "Train time on cpu: 9.158 seconds\n",
            "Epoch: 1\n",
            "-----\n",
            "Looked at 0/60000 samples.\n",
            "Looked at 12800/60000 samples.\n",
            "Looked at 25600/60000 samples.\n",
            "Looked at 38400/60000 samples.\n",
            "Looked at 51200/60000 samples.\n",
            "\n",
            " Train loss:0.4763 | Test loss: 0.4799, Test acc:83.1969\n",
            "Train time on cpu: 18.039 seconds\n",
            "Epoch: 2\n",
            "-----\n",
            "Looked at 0/60000 samples.\n",
            "Looked at 12800/60000 samples.\n",
            "Looked at 25600/60000 samples.\n",
            "Looked at 38400/60000 samples.\n",
            "Looked at 51200/60000 samples.\n",
            "\n",
            " Train loss:0.4550 | Test loss: 0.4766, Test acc:83.4265\n",
            "Train time on cpu: 26.137 seconds\n"
          ]
        }
      ]
    },
    {
      "cell_type": "markdown",
      "source": [
        "## 4. Make predictions and get Model 0 results"
      ],
      "metadata": {
        "id": "oJAJNY1QpqgC"
      }
    },
    {
      "cell_type": "code",
      "source": [
        "torch.manual_seed(42)\n",
        "def eval_model(model: torch.nn.Module,\n",
        "               data_loader: torch.utils.data.DataLoader,\n",
        "               loss_fn:torch.nn.Module,\n",
        "               accuracy_fn):\n",
        "  \"\"\" Returns a dict containing the results of model predicting on data_loader\"\"\"\n",
        "  loss,acc = 0,0\n",
        "  model.eval()\n",
        "  with torch.inference_mode():\n",
        "    for X,y in tqdm(data_loader):\n",
        "      # X,y = X.to(device),y.to(device)\n",
        "\n",
        "      y_pred = model(X)\n",
        "\n",
        "      # Accumulate the loss and acc values per batch\n",
        "      loss += loss_fn(y_pred,y)\n",
        "      acc += accuracy_fn(y_true = y,\n",
        "                         y_pred = y_pred.argmax(dim=1))\n",
        "    # scale loss and acc to find avg per batch\n",
        "\n",
        "    loss /= len(data_loader)\n",
        "    acc /= len(data_loader)\n",
        "\n",
        "    return {\"model_name\": model.__class__.__name__, # only works when model is created with class\n",
        "            \"model_loss\": loss.item(),\n",
        "            \"model_acc\":acc}\n",
        "\n",
        "model_0_results = eval_model(model = model_0,\n",
        "                             data_loader=test_dataloader,\n",
        "                             loss_fn = loss_fn,\n",
        "                             accuracy_fn = accuracy_fn)\n",
        "model_0_results"
      ],
      "metadata": {
        "colab": {
          "base_uri": "https://localhost:8080/",
          "height": 101,
          "referenced_widgets": [
            "18261e9931884b13b88cd8192985fe1f",
            "879d03b70aee4eb3a7db42e2dfa712ae",
            "753326c1b76f4c3bb4bf73aa15ee4601",
            "d1dd4c01f8cb4c06ac3bc95f570bfbe5",
            "6bc87cae375f461981fc8aa2184d4e1b",
            "a955da9f40ab47249ac682acf15d700f",
            "6e32d91012e44238af0734b8ead6660a",
            "abb9ce2eb1f242f4a6196aed7a98aaa7",
            "7108a871387943b0a67693c758312ab5",
            "91f58810db0149e68187df3a641931df",
            "06c351e3fd774249a3a996b8fd393f17"
          ]
        },
        "id": "1qjMTiP-sDkA",
        "outputId": "25516fea-ed68-4c30-9f77-7490a691d999"
      },
      "execution_count": 25,
      "outputs": [
        {
          "output_type": "display_data",
          "data": {
            "text/plain": [
              "  0%|          | 0/313 [00:00<?, ?it/s]"
            ],
            "application/vnd.jupyter.widget-view+json": {
              "version_major": 2,
              "version_minor": 0,
              "model_id": "18261e9931884b13b88cd8192985fe1f"
            }
          },
          "metadata": {}
        },
        {
          "output_type": "execute_result",
          "data": {
            "text/plain": [
              "{'model_name': 'FashionMNISTModelV0',\n",
              " 'model_loss': 0.47663894295692444,\n",
              " 'model_acc': 83.42651757188499}"
            ]
          },
          "metadata": {},
          "execution_count": 25
        }
      ]
    },
    {
      "cell_type": "code",
      "source": [
        "torch.cuda.is_available()"
      ],
      "metadata": {
        "id": "dv-BmY4ytjaL",
        "colab": {
          "base_uri": "https://localhost:8080/"
        },
        "outputId": "1a082b30-c58f-4cf8-b201-200e9beb0f4a"
      },
      "execution_count": 26,
      "outputs": [
        {
          "output_type": "execute_result",
          "data": {
            "text/plain": [
              "True"
            ]
          },
          "metadata": {},
          "execution_count": 26
        }
      ]
    },
    {
      "cell_type": "markdown",
      "source": [
        "## 5. Setup device agnostic code"
      ],
      "metadata": {
        "id": "JmMU7s0U7Oav"
      }
    },
    {
      "cell_type": "code",
      "source": [
        "device = 'cuda' if torch.cuda.is_available() else 'cpu'\n",
        "device"
      ],
      "metadata": {
        "colab": {
          "base_uri": "https://localhost:8080/",
          "height": 35
        },
        "id": "c6n5IpUQ7186",
        "outputId": "485d1b9d-b410-43bf-828a-0b17a73e7ec8"
      },
      "execution_count": 27,
      "outputs": [
        {
          "output_type": "execute_result",
          "data": {
            "text/plain": [
              "'cuda'"
            ],
            "application/vnd.google.colaboratory.intrinsic+json": {
              "type": "string"
            }
          },
          "metadata": {},
          "execution_count": 27
        }
      ]
    },
    {
      "cell_type": "markdown",
      "source": [
        "## 6. Creating a model with non linear functions"
      ],
      "metadata": {
        "id": "s5sBrI9677fO"
      }
    },
    {
      "cell_type": "code",
      "source": [
        "# Create a model with non linear and linear layers\n",
        "class FashionMNISTModelV1(nn.Module):\n",
        "  def __init__(self,\n",
        "               input_shape: int,\n",
        "               hidden_units: int,\n",
        "               output_shape: int):\n",
        "    super().__init__()\n",
        "    self.layer_stack = nn.Sequential(\n",
        "        nn.Flatten(),\n",
        "        nn.Linear(in_features = input_shape,\n",
        "                  out_features = hidden_units),\n",
        "        nn.ReLU(),\n",
        "        nn.Linear(in_features = hidden_units,\n",
        "                  out_features=output_shape),\n",
        "        nn.ReLU()\n",
        "    )\n",
        "\n",
        "  def forward(self,x: torch.Tensor):\n",
        "    return self.layer_stack(x)\n"
      ],
      "metadata": {
        "id": "XNdoJp_V8df5"
      },
      "execution_count": 28,
      "outputs": []
    },
    {
      "cell_type": "code",
      "source": [
        "# Create an instance of model_1\n",
        "\n",
        "torch.manual_seed(42)\n",
        "model_1 = FashionMNISTModelV1(input_shape = 784, # 28 * 28 image flattened\n",
        "                              hidden_units= 10,\n",
        "                              output_shape = len(class_names)).to(device) # send to gpu\n",
        "\n",
        "next(model_1.parameters())"
      ],
      "metadata": {
        "colab": {
          "base_uri": "https://localhost:8080/"
        },
        "id": "NkPa3mGY9bWG",
        "outputId": "a1169ee1-a35e-41ae-ce95-25804c6325e6"
      },
      "execution_count": 29,
      "outputs": [
        {
          "output_type": "execute_result",
          "data": {
            "text/plain": [
              "Parameter containing:\n",
              "tensor([[ 0.0273,  0.0296, -0.0084,  ..., -0.0142,  0.0093,  0.0135],\n",
              "        [-0.0188, -0.0354,  0.0187,  ..., -0.0106, -0.0001,  0.0115],\n",
              "        [-0.0008,  0.0017,  0.0045,  ..., -0.0127, -0.0188,  0.0059],\n",
              "        ...,\n",
              "        [-0.0116,  0.0273, -0.0344,  ...,  0.0176,  0.0283, -0.0011],\n",
              "        [-0.0230,  0.0257,  0.0291,  ..., -0.0187, -0.0087,  0.0001],\n",
              "        [ 0.0176, -0.0147,  0.0053,  ..., -0.0336, -0.0221,  0.0205]],\n",
              "       device='cuda:0', requires_grad=True)"
            ]
          },
          "metadata": {},
          "execution_count": 29
        }
      ]
    },
    {
      "cell_type": "markdown",
      "source": [
        "### 6. Create a loss, optimizer and eval metrics"
      ],
      "metadata": {
        "id": "W03Bb7L_-N_L"
      }
    },
    {
      "cell_type": "code",
      "source": [
        "from helper_functions import accuracy_fn\n",
        "\n",
        "loss_fn = nn.CrossEntropyLoss() # measure how wrong the model is\n",
        "optimizer = torch.optim.SGD(params = model_1.parameters(), # tries to update the model's parameters to reduce the loss\n",
        "                             lr = 0.1)\n"
      ],
      "metadata": {
        "id": "b8Rgd1M996Cq"
      },
      "execution_count": 30,
      "outputs": []
    },
    {
      "cell_type": "markdown",
      "source": [
        "### 6.2 Functionizing training and evaluation/testing loops\n",
        "\n",
        "* training loop  - `train_step()`\n",
        "* testing loop  - `test_step()`\n"
      ],
      "metadata": {
        "id": "-yv4BHlp-3O4"
      }
    },
    {
      "cell_type": "code",
      "source": [
        "def train_step(model: torch.nn.Module,\n",
        "               data_loader: torch.utils.data.DataLoader,\n",
        "               loss_fn: torch.nn.Module,\n",
        "               optimizer: torch.optim.Optimizer,\n",
        "               accuracy_fn,\n",
        "               device: torch.device = device):\n",
        "  \"\"\" Performs a training with model trying to learn on data_loader\"\"\"\n",
        "\n",
        "  ### Training\n",
        "  train_loss, train_acc = 0,0\n",
        "\n",
        "  model.train()\n",
        "\n",
        "  # Add a loop to loop through the training batches\n",
        "  for batch, (X, y) in enumerate(data_loader):\n",
        "\n",
        "    X,y = X.to(device),y.to(device)\n",
        "    # 1. Forward pass\n",
        "    y_pred = model(X)\n",
        "\n",
        "    # 2. Calculate loss (per batch)\n",
        "    loss = loss_fn(y_pred,y)\n",
        "    train_loss += loss # accumulate train loss\n",
        "    train_acc = accuracy_fn(y_true=y,\n",
        "                            y_pred=y_pred.argmax(dim=1))\n",
        "\n",
        "    # 3. Optimizer zero grad\n",
        "    optimizer.zero_grad()\n",
        "\n",
        "    # 4. loss backward\n",
        "    loss.backward()\n",
        "\n",
        "    # 5. Optimizer step\n",
        "    optimizer.step()\n",
        "\n",
        "    # Print out what's happening\n",
        "    # if batch % 400 == 0:\n",
        "    #   print(f\"Looked at {batch * len(X)}/{len(data_loader.dataset)} samples.\")\n",
        "  train_loss /= len(data_loader)\n",
        "  train_acc /= len(data_loader)\n",
        "  print(f\"Train loss: {train_loss:.5f} | Train acc: {train_acc:.2f}%\")\n"
      ],
      "metadata": {
        "id": "iDFpJ7qv-bSc"
      },
      "execution_count": 31,
      "outputs": []
    },
    {
      "cell_type": "code",
      "source": [
        "def test_step(model: torch.nn.Module,\n",
        "              data_loader: torch.utils.data.DataLoader,\n",
        "              loss_fn: torch.nn.Module,\n",
        "              accuracy_fn,\n",
        "              device: torch.device = device):\n",
        "  \"\"\" Performs a test loop step on model\"\"\"\n",
        "  ### Testing\n",
        "  test_loss,test_acc = 0,0\n",
        "\n",
        "  model.eval()\n",
        "  with torch.inference_mode():\n",
        "    for X_test,y_test in data_loader:\n",
        "\n",
        "      X_test,y_test = X_test.to(device),y_test.to(device)\n",
        "\n",
        "      # 1. Forward pass\n",
        "      test_pred = model(X_test)\n",
        "\n",
        "      # 2. Caclulate loss (accumulatively)\n",
        "      test_loss += loss_fn(test_pred,y_test)\n",
        "\n",
        "      # 3. Calculate accuracy\n",
        "      test_acc += accuracy_fn(y_true=y_test,y_pred=test_pred.argmax(dim=1))\n",
        "    # Calculate the test loss avg per batch\n",
        "    test_loss /=len(data_loader)\n",
        "\n",
        "    # Calculate the test loss avg per batch\n",
        "    test_acc /= len(data_loader)\n",
        "\n",
        "    print(f\"\\n Train loss:{train_loss:.4f} | Test loss: {test_loss:.4f}, Test acc:{test_acc:.4f}\")\n"
      ],
      "metadata": {
        "id": "efTzqMQm--Ah"
      },
      "execution_count": 32,
      "outputs": []
    },
    {
      "cell_type": "code",
      "source": [
        "torch.manual_seed(42)\n",
        "\n",
        "# measure time\n",
        "from timeit import default_timer as timer\n",
        "train_time_start_on_gpu = timer()\n",
        "\n",
        "# set epochs\n",
        "epochs = 3\n",
        "\n",
        "for epoch in tqdm(range(epochs)):\n",
        "  print(f\"Epoch: {epoch}\\n\")\n",
        "  train_step(model=model_1,\n",
        "             data_loader = train_dataloader,\n",
        "             loss_fn = loss_fn,\n",
        "             optimizer = optimizer,\n",
        "             accuracy_fn =accuracy_fn,\n",
        "             device= device )\n",
        "  test_step(model=model_1,\n",
        "             data_loader = train_dataloader,\n",
        "             loss_fn = loss_fn,\n",
        "             accuracy_fn =accuracy_fn,\n",
        "             device= device )\n",
        "\n",
        "train_time_end_on_gpu = timer()\n",
        "total_train_time_model_1 = print_train_time(start=train_time_start_on_cpu,\n",
        "                                                end = train_time_end_on_cpu,\n",
        "                                                device = device)\n",
        "\n"
      ],
      "metadata": {
        "colab": {
          "base_uri": "https://localhost:8080/",
          "height": 327,
          "referenced_widgets": [
            "820547b466df48e7ae4d1aa0d1655f50",
            "7a4f5f55f75342cd8c39efd4d54c5f2d",
            "dd389a2620fc436dbe6a408c0f5cdddd",
            "8d6756eae2244484aabc5d72608d43d2",
            "4b8f3044b22f4347b45e995de1b41a3a",
            "6d0fcf86242b41aa9d07f2e88b0e5324",
            "f546b1d53c8149ce9341011dad253f18",
            "482f0a9cb7c84e7c8e9458e6a9e7ba01",
            "746dfcf431194c01b24775fab239c83e",
            "a9f6ffba997e406e8ec580900a1f54ad",
            "898623151c5441fdaf442a5bce6d1370"
          ]
        },
        "id": "SrQLb0kKA4Xo",
        "outputId": "7966b8f8-f71d-4d1e-d537-e18b3c63ce78"
      },
      "execution_count": 33,
      "outputs": [
        {
          "output_type": "display_data",
          "data": {
            "text/plain": [
              "  0%|          | 0/3 [00:00<?, ?it/s]"
            ],
            "application/vnd.jupyter.widget-view+json": {
              "version_major": 2,
              "version_minor": 0,
              "model_id": "820547b466df48e7ae4d1aa0d1655f50"
            }
          },
          "metadata": {}
        },
        {
          "output_type": "stream",
          "name": "stdout",
          "text": [
            "Epoch: 0\n",
            "\n",
            "Train loss: 1.09199 | Train acc: 0.03%\n",
            "\n",
            " Train loss:0.4550 | Test loss: 0.9273, Test acc:66.0050\n",
            "Epoch: 1\n",
            "\n",
            "Train loss: 0.73779 | Train acc: 0.05%\n",
            "\n",
            " Train loss:0.4550 | Test loss: 0.6879, Test acc:75.4267\n",
            "Epoch: 2\n",
            "\n",
            "Train loss: 0.66776 | Train acc: 0.03%\n",
            "\n",
            " Train loss:0.4550 | Test loss: 0.6433, Test acc:76.8717\n",
            "Train time on cuda: 26.137 seconds\n"
          ]
        }
      ]
    },
    {
      "cell_type": "markdown",
      "source": [
        "Sometimes, depending on data/ hardware the model might train faster on CPU than GPU.\n",
        "\n",
        "Why?\n",
        "\n",
        "1. It could be that the overhead for copying data/model to and from the GPU outweighs the compute benefits by the GPU.\n",
        "\n",
        "2. The hardware has a better CPU in terms of compute capability than the GPU."
      ],
      "metadata": {
        "id": "oK1MBaOGDXBb"
      }
    },
    {
      "cell_type": "code",
      "source": [
        "torch.manual_seed(42)\n",
        "def eval_model(model: torch.nn.Module,\n",
        "               data_loader: torch.utils.data.DataLoader,\n",
        "               loss_fn:torch.nn.Module,\n",
        "               accuracy_fn,\n",
        "               device= device):\n",
        "  \"\"\" Returns a dict containing the results of model predicting on data_loader\"\"\"\n",
        "  loss,acc = 0,0\n",
        "  model.eval()\n",
        "  with torch.inference_mode():\n",
        "    for X,y in tqdm(data_loader):\n",
        "      X,y = X.to(device),y.to(device)\n",
        "\n",
        "      y_pred = model(X)\n",
        "\n",
        "      # Accumulate the loss and acc values per batch\n",
        "      loss += loss_fn(y_pred,y)\n",
        "      acc += accuracy_fn(y_true = y,\n",
        "                         y_pred = y_pred.argmax(dim=1))\n",
        "    # scale loss and acc to find avg per batch\n",
        "\n",
        "    loss /= len(data_loader)\n",
        "    acc /= len(data_loader)\n",
        "\n",
        "    return {\"model_name\": model.__class__.__name__, # only works when model is created with class\n",
        "            \"model_loss\": loss.item(),\n",
        "            \"model_acc\":acc}"
      ],
      "metadata": {
        "id": "iXW-ncIPFCQy"
      },
      "execution_count": 34,
      "outputs": []
    },
    {
      "cell_type": "code",
      "source": [
        "# Get model_1 results dictionary\n",
        "model_1_results = eval_model(model=model_1,\n",
        "                             data_loader = test_dataloader,\n",
        "                             loss_fn=loss_fn,\n",
        "                             accuracy_fn=accuracy_fn,\n",
        "                             device = device)\n",
        "model_1_results"
      ],
      "metadata": {
        "colab": {
          "base_uri": "https://localhost:8080/",
          "height": 101,
          "referenced_widgets": [
            "f7cf3b42faac4e7eb1713cb55b69aaf6",
            "3e1fd1c4f148488ba891115096236bbc",
            "75df0700716848f199d30b816a21947d",
            "c042ead3f23145e5988d751e576b5b64",
            "0a0abb9935ed429482606e86f79c9324",
            "6f966cff2adb46959c493b29995b05e7",
            "62ad4fb4877f42388852e2eb5e4eba25",
            "c1d0501a20d747849bd85409420e6ce7",
            "cbe85314baba43ac9b2f86692a6abcc7",
            "faf18a2b75fa4cfd8a0ecfe0f445ddf7",
            "e79d6081deb8456eaa3950a9f4df79d2"
          ]
        },
        "id": "UCSeoFHYECfF",
        "outputId": "7ce1be58-5514-4b06-c003-4774599a73fc"
      },
      "execution_count": 35,
      "outputs": [
        {
          "output_type": "display_data",
          "data": {
            "text/plain": [
              "  0%|          | 0/313 [00:00<?, ?it/s]"
            ],
            "application/vnd.jupyter.widget-view+json": {
              "version_major": 2,
              "version_minor": 0,
              "model_id": "f7cf3b42faac4e7eb1713cb55b69aaf6"
            }
          },
          "metadata": {}
        },
        {
          "output_type": "execute_result",
          "data": {
            "text/plain": [
              "{'model_name': 'FashionMNISTModelV1',\n",
              " 'model_loss': 0.6874349117279053,\n",
              " 'model_acc': 75.65894568690096}"
            ]
          },
          "metadata": {},
          "execution_count": 35
        }
      ]
    },
    {
      "cell_type": "markdown",
      "source": [
        "## Model 2: Building a Convolutional Neural Network\n",
        "\n",
        "CNN's are also known as ConvNets.\n",
        "\n",
        "CNN's are known for their capabilities to find patterns in visual data.\n"
      ],
      "metadata": {
        "id": "J-2d9-EYFFP1"
      }
    },
    {
      "cell_type": "code",
      "source": [
        "# Create a CNN\n",
        "class FashionMNISTModelV2(nn.Module):\n",
        "  \"\"\"Model Architecture that replicates the TinyVGG model from CNN explainer website\"\"\"\n",
        "\n",
        "  def __init__(self,\n",
        "               input_shape:int,\n",
        "               hidden_units:int,\n",
        "               output_shape:int):\n",
        "    super().__init__()\n",
        "    self.conv_block_1 = nn.Sequential(\n",
        "        nn.Conv2d(in_channels = input_shape,\n",
        "                  out_channels=hidden_units,\n",
        "                  kernel_size=3,\n",
        "                  stride = 1,\n",
        "                  padding=1), # values we can set ourselves in the NN's are called hyperparameters\n",
        "        nn.ReLU(),\n",
        "        nn.Conv2d(in_channels = hidden_units,\n",
        "                  out_channels=hidden_units,\n",
        "                  kernel_size=3,\n",
        "                  stride = 1,\n",
        "                  padding=1),\n",
        "        nn.ReLU(),\n",
        "        nn.MaxPool2d(kernel_size=2)\n",
        "    )\n",
        "    self.conv_block_2 = nn.Sequential(\n",
        "        nn.Conv2d(in_channels = hidden_units,\n",
        "                  out_channels=hidden_units,\n",
        "                  kernel_size=3,\n",
        "                  stride = 1,\n",
        "                  padding=1), # values we can set ourselves in the NN's are called hyperparameters\n",
        "        nn.ReLU(),\n",
        "        nn.Conv2d(in_channels = hidden_units,\n",
        "                  out_channels=hidden_units,\n",
        "                  kernel_size=3,\n",
        "                  stride = 1,\n",
        "                  padding=1),\n",
        "        nn.ReLU(),\n",
        "        nn.MaxPool2d(kernel_size=2)\n",
        "    )\n",
        "    self.classifier = nn.Sequential(\n",
        "        nn.Flatten(),\n",
        "        nn.Linear(in_features = hidden_units*7*7,\n",
        "                  out_features = output_shape)\n",
        "    )\n",
        "\n",
        "  def forward(self,x):\n",
        "    x = self.conv_block_1(x)\n",
        "    # print(x.shape)\n",
        "    x = self.conv_block_2(x)\n",
        "    # print(x.shape)\n",
        "    x = self.classifier(x)\n",
        "    return x"
      ],
      "metadata": {
        "id": "WiI-TvQ618hg"
      },
      "execution_count": 36,
      "outputs": []
    },
    {
      "cell_type": "code",
      "source": [
        "torch.manual_seed(42)\n",
        "model_2 = FashionMNISTModelV2(input_shape = 1,\n",
        "                              hidden_units = 10,\n",
        "                              output_shape = len(class_names)).to(device)"
      ],
      "metadata": {
        "id": "BqKGahI85snv"
      },
      "execution_count": 37,
      "outputs": []
    },
    {
      "cell_type": "code",
      "source": [
        "rand_image_tensor = torch.randn(size=(1,28,28))\n",
        "model_2(rand_image_tensor.unsqueeze(0).to(device))"
      ],
      "metadata": {
        "id": "kh4ZI_7XMdPy",
        "outputId": "d4e708ed-9763-4bcb-9429-c271f732e16f",
        "colab": {
          "base_uri": "https://localhost:8080/"
        }
      },
      "execution_count": 38,
      "outputs": [
        {
          "output_type": "execute_result",
          "data": {
            "text/plain": [
              "tensor([[ 0.0366, -0.0940,  0.0686, -0.0485,  0.0068,  0.0290,  0.0132,  0.0084,\n",
              "         -0.0030, -0.0185]], device='cuda:0', grad_fn=<AddmmBackward0>)"
            ]
          },
          "metadata": {},
          "execution_count": 38
        }
      ]
    },
    {
      "cell_type": "markdown",
      "source": [
        "### 7.1 Stepping through nn.Conv2d()"
      ],
      "metadata": {
        "id": "uduHSWxF6EH0"
      }
    },
    {
      "cell_type": "code",
      "source": [
        "torch.manual_seed(42)\n",
        "\n",
        "# create a natch of images\n",
        "images = torch.randn(size=(32,3,64,64))\n",
        "test_image=images[0]\n",
        "\n",
        "# images.shape\n",
        "test_image.shape"
      ],
      "metadata": {
        "colab": {
          "base_uri": "https://localhost:8080/"
        },
        "id": "cGlnP-J96kVK",
        "outputId": "45144d50-cb7a-4103-fa4b-ea3cbe88c43e"
      },
      "execution_count": 39,
      "outputs": [
        {
          "output_type": "execute_result",
          "data": {
            "text/plain": [
              "torch.Size([3, 64, 64])"
            ]
          },
          "metadata": {},
          "execution_count": 39
        }
      ]
    },
    {
      "cell_type": "code",
      "source": [
        "torch.manual_seed(42)\n",
        "# Create a single conv2d layer\n",
        "conv_layer = nn.Conv2d(in_channels = 3,\n",
        "                       out_channels=10,\n",
        "                       kernel_size = (3,3),\n",
        "                       stride = 1,\n",
        "                       padding = 0)\n",
        "# pass the data through the convolutional layer\n",
        "\n",
        "conv_output = conv_layer(test_image)\n",
        "conv_output.shape"
      ],
      "metadata": {
        "colab": {
          "base_uri": "https://localhost:8080/"
        },
        "id": "fCf7LqG27JUs",
        "outputId": "6b4f1bf3-4bae-4401-f42c-cb91df7f0cbe"
      },
      "execution_count": 40,
      "outputs": [
        {
          "output_type": "execute_result",
          "data": {
            "text/plain": [
              "torch.Size([10, 62, 62])"
            ]
          },
          "metadata": {},
          "execution_count": 40
        }
      ]
    },
    {
      "cell_type": "code",
      "source": [
        "torch.__version__"
      ],
      "metadata": {
        "colab": {
          "base_uri": "https://localhost:8080/",
          "height": 35
        },
        "id": "EPjcGVHF8_xh",
        "outputId": "9cf9daf5-f418-4666-af6f-2ff8aa96b25a"
      },
      "execution_count": 41,
      "outputs": [
        {
          "output_type": "execute_result",
          "data": {
            "text/plain": [
              "'2.1.0+cu118'"
            ],
            "application/vnd.google.colaboratory.intrinsic+json": {
              "type": "string"
            }
          },
          "metadata": {},
          "execution_count": 41
        }
      ]
    },
    {
      "cell_type": "markdown",
      "source": [
        "## 7.2 Stepping through nn.MaxPool2d()\n"
      ],
      "metadata": {
        "id": "hthlC3ka9KuJ"
      }
    },
    {
      "cell_type": "code",
      "source": [
        "test_image.shape"
      ],
      "metadata": {
        "colab": {
          "base_uri": "https://localhost:8080/"
        },
        "id": "EjQshah4XLuu",
        "outputId": "598aee93-5f89-486e-e99b-2c560c22f04e"
      },
      "execution_count": 42,
      "outputs": [
        {
          "output_type": "execute_result",
          "data": {
            "text/plain": [
              "torch.Size([3, 64, 64])"
            ]
          },
          "metadata": {},
          "execution_count": 42
        }
      ]
    },
    {
      "cell_type": "code",
      "source": [
        "print(f\"Test image original shape: {test_image.shape}\")\n",
        "print(f\"Test image unsqueezed dimension: {test_image.unsqueeze(0).shape}\")\n"
      ],
      "metadata": {
        "colab": {
          "base_uri": "https://localhost:8080/"
        },
        "id": "00QXQbTtXNcP",
        "outputId": "7492724d-fe67-4c7c-db7a-fccb7194fb81"
      },
      "execution_count": 43,
      "outputs": [
        {
          "output_type": "stream",
          "name": "stdout",
          "text": [
            "Test image original shape: torch.Size([3, 64, 64])\n",
            "Test image unsqueezed dimension: torch.Size([1, 3, 64, 64])\n"
          ]
        }
      ]
    },
    {
      "cell_type": "code",
      "source": [
        "# Create a sample nn.MaxPool2d layer\n",
        "max_pool_layer = nn.MaxPool2d(kernel_size=2)\n",
        "\n",
        "# pass data through the conv layer\n",
        "test_image_through_conv = conv_layer(test_image.unsqueeze(dim=0))\n",
        "print(f'Shape after going through the conv_layer(): {test_image_through_conv.shape}')\n",
        "\n",
        "# pass data through the max pool layer\n",
        "test_image_conv_and_max_pool = max_pool_layer(test_image_through_conv)\n",
        "print(f'Shape after going through the conv_layer() and max_pool_layer(): {test_image_conv_and_max_pool.shape}')\n"
      ],
      "metadata": {
        "colab": {
          "base_uri": "https://localhost:8080/"
        },
        "id": "95mEQfkHXjKW",
        "outputId": "d9a4845f-8218-4d4a-9503-daeeac8761d6"
      },
      "execution_count": 44,
      "outputs": [
        {
          "output_type": "stream",
          "name": "stdout",
          "text": [
            "Shape after going through the conv_layer(): torch.Size([1, 10, 62, 62])\n",
            "Shape after going through the conv_layer() and max_pool_layer(): torch.Size([1, 10, 31, 31])\n"
          ]
        }
      ]
    },
    {
      "cell_type": "code",
      "source": [
        "torch.manual_seed(42)\n",
        "# Create a random tensor with a similar number of dimensions\n",
        "random_tensor = torch.randn(size=(1,1,2,2))\n",
        "print(f\"\\nRandom tensor:\\n {random_tensor}\")\n",
        "print(f\"\\nRandom tensor shape:\\n {random_tensor.shape}\")\n",
        "\n",
        "# Create a max pool layer\n",
        "max_pool_layer = nn.MaxPool2d(kernel_size=2)\n",
        "\n",
        "# Pass the tensor through the max pool\n",
        "\n",
        "max_pool_tensor = max_pool_layer(random_tensor)\n",
        "print(f\"\\nMax pool tensor:\\n {max_pool_tensor}\")\n",
        "print(f\"\\nMax pool tensor shape:\\n {max_pool_tensor.shape}\")"
      ],
      "metadata": {
        "colab": {
          "base_uri": "https://localhost:8080/"
        },
        "id": "jHFgJHNzYN3y",
        "outputId": "e077f0d5-e77b-4367-ce57-55af18cb8f3e"
      },
      "execution_count": 45,
      "outputs": [
        {
          "output_type": "stream",
          "name": "stdout",
          "text": [
            "\n",
            "Random tensor:\n",
            " tensor([[[[0.3367, 0.1288],\n",
            "          [0.2345, 0.2303]]]])\n",
            "\n",
            "Random tensor shape:\n",
            " torch.Size([1, 1, 2, 2])\n",
            "\n",
            "Max pool tensor:\n",
            " tensor([[[[0.3367]]]])\n",
            "\n",
            "Max pool tensor shape:\n",
            " torch.Size([1, 1, 1, 1])\n"
          ]
        }
      ]
    },
    {
      "cell_type": "markdown",
      "source": [
        "### 7.3 Training the CNN\n",
        "\n",
        "Setup a loss function and optimizer for model_2\n",
        "\n"
      ],
      "metadata": {
        "id": "2qZetxSDKuAW"
      }
    },
    {
      "cell_type": "code",
      "source": [
        "# Setup loss function/eval metrics/optimizer\n",
        "from helper_functions import accuracy_fn\n",
        "\n",
        "loss_fn = nn.CrossEntropyLoss()\n",
        "optimizer = torch.optim.SGD(params = model_2.parameters(),\n",
        "                            lr = 0.01)"
      ],
      "metadata": {
        "id": "hl427dPHNjKi"
      },
      "execution_count": 46,
      "outputs": []
    },
    {
      "cell_type": "markdown",
      "source": [
        "Training and testing"
      ],
      "metadata": {
        "id": "720E0S0pNxbI"
      }
    },
    {
      "cell_type": "code",
      "source": [
        "torch.manual_seed(42)\n",
        "torch.cuda.manual_seed(42)\n",
        "\n",
        "# Measure time\n",
        "from timeit import default_timer as timer\n",
        "train_time_start_model_2 = timer()\n",
        "\n",
        "# Train and test model\n",
        "epochs = 3\n",
        "for epoch in tqdm(range(epochs)):\n",
        "  print(f\"Epoch: {epoch}\\n ------\")\n",
        "  train_step(model=model_2,\n",
        "             data_loader = train_dataloader,\n",
        "             loss_fn = loss_fn,\n",
        "             optimizer = optimizer,\n",
        "             accuracy_fn = accuracy_fn,\n",
        "             device = device)\n",
        "  test_step(model=model_2,\n",
        "             data_loader = test_dataloader,\n",
        "             loss_fn = loss_fn,\n",
        "             accuracy_fn = accuracy_fn,\n",
        "             device = device)\n",
        "\n",
        "train_time_end_model_2 = timer()\n",
        "\n",
        "total_train_time_model_2 = print_train_time(start = train_time_start_model_2,\n",
        "                                            end = train_time_end_model_2,\n",
        "                                            device = device)"
      ],
      "metadata": {
        "id": "nuM3rWynOA3o",
        "outputId": "2de91af3-f38a-4258-cf30-fdf4c193c549",
        "colab": {
          "base_uri": "https://localhost:8080/",
          "height": 327,
          "referenced_widgets": [
            "5f40d8d2fdad40d99b0dc382d5c1ed65",
            "bd1d3091f31b49fb984cc0faabb04ef4",
            "f55a9c93b05f4f06b59a2ecdd29b59f5",
            "460cbed35eb24a93869d7a64bef179dc",
            "1cb29b75eb2c471588176cd6d2af5a7b",
            "7b654c0a37bb40099ec46441534bd827",
            "64d950e4d1a24b8dbc262cf55475c7e0",
            "d1610b28e8b4422b99a8f1fbc109815d",
            "0e54ad2c4b964eea91732c2710e1474b",
            "655b2412e4384e92a7d8bc57fd00f739",
            "0fbbc5e64f9641549d6f5037ceb8635b"
          ]
        }
      },
      "execution_count": 47,
      "outputs": [
        {
          "output_type": "display_data",
          "data": {
            "text/plain": [
              "  0%|          | 0/3 [00:00<?, ?it/s]"
            ],
            "application/vnd.jupyter.widget-view+json": {
              "version_major": 2,
              "version_minor": 0,
              "model_id": "5f40d8d2fdad40d99b0dc382d5c1ed65"
            }
          },
          "metadata": {}
        },
        {
          "output_type": "stream",
          "name": "stdout",
          "text": [
            "Epoch: 0\n",
            " ------\n",
            "Train loss: 1.03789 | Train acc: 0.04%\n",
            "\n",
            " Train loss:0.4550 | Test loss: 0.6251, Test acc:76.9069\n",
            "Epoch: 1\n",
            " ------\n",
            "Train loss: 0.54955 | Train acc: 0.04%\n",
            "\n",
            " Train loss:0.4550 | Test loss: 0.4983, Test acc:81.5296\n",
            "Epoch: 2\n",
            " ------\n",
            "Train loss: 0.45578 | Train acc: 0.05%\n",
            "\n",
            " Train loss:0.4550 | Test loss: 0.4404, Test acc:84.2252\n",
            "Train time on cuda: 40.842 seconds\n"
          ]
        }
      ]
    },
    {
      "cell_type": "code",
      "source": [
        "# Get model_2 results\n",
        "model_2_results = eval_model(\n",
        "    model = model_2,\n",
        "    data_loader = test_dataloader,\n",
        "    loss_fn = loss_fn,\n",
        "    accuracy_fn = accuracy_fn,\n",
        "    device = device\n",
        ")\n",
        "\n",
        "model_1_results = eval_model(\n",
        "    model = model_1,\n",
        "    data_loader = test_dataloader,\n",
        "    loss_fn = loss_fn,\n",
        "    accuracy_fn = accuracy_fn,\n",
        "    device = device\n",
        ")\n",
        "\n",
        "model_2_results"
      ],
      "metadata": {
        "id": "AgZXrmnaOuye",
        "outputId": "f79b2207-16be-425f-eafb-8c012a255333",
        "colab": {
          "base_uri": "https://localhost:8080/",
          "height": 133,
          "referenced_widgets": [
            "a4e95983cadf48be9146d6770d697191",
            "271ac7b61e424d6cab0e1a0d91b18a36",
            "726b5fa7b844448eb650b29ac7a3ce7c",
            "b7ef8d95b1b7473580ab49c0098c316f",
            "eb37ccf8468e4f37a9e8bb76a1a5ab40",
            "bedd3c5fa2794733b69752de2af33837",
            "2544af41b44248798594fca978d48c10",
            "9ec421384c2144dd9d12c12ac5c16bcc",
            "5d74ac06efaa490ca833322eba538030",
            "9fee1680745d4f3b828e7f1ae5b66fc0",
            "67ca5d80b32141bcaf06e24d964276a2",
            "ab68f021c070467abaaeda27e40c3ab6",
            "5c7a0fab3e564412b402070c81a175ab",
            "a4f5a5f8212648adbcdbaf677d734598",
            "3a1a00612c3140d88fb2ce4e5ff7cee3",
            "20a0fdc3ce3b4d0ba4d27cd30148affd",
            "1294ae8fee8f4a07ab28347351aece3e",
            "ab9d253b8875455fa55af36bd499b826",
            "1408abe034894b27bcc706f804e475f4",
            "0c799ab5424642f787faea68a7abd026",
            "0e9cec6f8ac74f5b94e36decc6f4ea7e",
            "6565db994bfc4b58af3e012df1a55522"
          ]
        }
      },
      "execution_count": 49,
      "outputs": [
        {
          "output_type": "display_data",
          "data": {
            "text/plain": [
              "  0%|          | 0/313 [00:00<?, ?it/s]"
            ],
            "application/vnd.jupyter.widget-view+json": {
              "version_major": 2,
              "version_minor": 0,
              "model_id": "a4e95983cadf48be9146d6770d697191"
            }
          },
          "metadata": {}
        },
        {
          "output_type": "display_data",
          "data": {
            "text/plain": [
              "  0%|          | 0/313 [00:00<?, ?it/s]"
            ],
            "application/vnd.jupyter.widget-view+json": {
              "version_major": 2,
              "version_minor": 0,
              "model_id": "ab68f021c070467abaaeda27e40c3ab6"
            }
          },
          "metadata": {}
        },
        {
          "output_type": "execute_result",
          "data": {
            "text/plain": [
              "{'model_name': 'FashionMNISTModelV2',\n",
              " 'model_loss': 0.4403546154499054,\n",
              " 'model_acc': 84.22523961661342}"
            ]
          },
          "metadata": {},
          "execution_count": 49
        }
      ]
    },
    {
      "cell_type": "markdown",
      "source": [
        "## 8. Compare model results and training time\n",
        "\n"
      ],
      "metadata": {
        "id": "BsRUr0TsPtkq"
      }
    },
    {
      "cell_type": "code",
      "source": [
        "import pandas as pd\n",
        "compare_results = pd.DataFrame([model_0_results,\n",
        "                               model_1_results,\n",
        "                               model_2_results])\n",
        "compare_results"
      ],
      "metadata": {
        "id": "Cn6-Y3MYQBEE",
        "outputId": "77aec52f-f63c-46fb-d7ce-ab02178a661b",
        "colab": {
          "base_uri": "https://localhost:8080/",
          "height": 143
        }
      },
      "execution_count": 50,
      "outputs": [
        {
          "output_type": "execute_result",
          "data": {
            "text/plain": [
              "            model_name  model_loss  model_acc\n",
              "0  FashionMNISTModelV0    0.476639  83.426518\n",
              "1  FashionMNISTModelV1    0.687435  75.658946\n",
              "2  FashionMNISTModelV2    0.440355  84.225240"
            ],
            "text/html": [
              "\n",
              "  <div id=\"df-88c36ed9-4ecc-429b-9c02-28d405c18b64\" class=\"colab-df-container\">\n",
              "    <div>\n",
              "<style scoped>\n",
              "    .dataframe tbody tr th:only-of-type {\n",
              "        vertical-align: middle;\n",
              "    }\n",
              "\n",
              "    .dataframe tbody tr th {\n",
              "        vertical-align: top;\n",
              "    }\n",
              "\n",
              "    .dataframe thead th {\n",
              "        text-align: right;\n",
              "    }\n",
              "</style>\n",
              "<table border=\"1\" class=\"dataframe\">\n",
              "  <thead>\n",
              "    <tr style=\"text-align: right;\">\n",
              "      <th></th>\n",
              "      <th>model_name</th>\n",
              "      <th>model_loss</th>\n",
              "      <th>model_acc</th>\n",
              "    </tr>\n",
              "  </thead>\n",
              "  <tbody>\n",
              "    <tr>\n",
              "      <th>0</th>\n",
              "      <td>FashionMNISTModelV0</td>\n",
              "      <td>0.476639</td>\n",
              "      <td>83.426518</td>\n",
              "    </tr>\n",
              "    <tr>\n",
              "      <th>1</th>\n",
              "      <td>FashionMNISTModelV1</td>\n",
              "      <td>0.687435</td>\n",
              "      <td>75.658946</td>\n",
              "    </tr>\n",
              "    <tr>\n",
              "      <th>2</th>\n",
              "      <td>FashionMNISTModelV2</td>\n",
              "      <td>0.440355</td>\n",
              "      <td>84.225240</td>\n",
              "    </tr>\n",
              "  </tbody>\n",
              "</table>\n",
              "</div>\n",
              "    <div class=\"colab-df-buttons\">\n",
              "\n",
              "  <div class=\"colab-df-container\">\n",
              "    <button class=\"colab-df-convert\" onclick=\"convertToInteractive('df-88c36ed9-4ecc-429b-9c02-28d405c18b64')\"\n",
              "            title=\"Convert this dataframe to an interactive table.\"\n",
              "            style=\"display:none;\">\n",
              "\n",
              "  <svg xmlns=\"http://www.w3.org/2000/svg\" height=\"24px\" viewBox=\"0 -960 960 960\">\n",
              "    <path d=\"M120-120v-720h720v720H120Zm60-500h600v-160H180v160Zm220 220h160v-160H400v160Zm0 220h160v-160H400v160ZM180-400h160v-160H180v160Zm440 0h160v-160H620v160ZM180-180h160v-160H180v160Zm440 0h160v-160H620v160Z\"/>\n",
              "  </svg>\n",
              "    </button>\n",
              "\n",
              "  <style>\n",
              "    .colab-df-container {\n",
              "      display:flex;\n",
              "      gap: 12px;\n",
              "    }\n",
              "\n",
              "    .colab-df-convert {\n",
              "      background-color: #E8F0FE;\n",
              "      border: none;\n",
              "      border-radius: 50%;\n",
              "      cursor: pointer;\n",
              "      display: none;\n",
              "      fill: #1967D2;\n",
              "      height: 32px;\n",
              "      padding: 0 0 0 0;\n",
              "      width: 32px;\n",
              "    }\n",
              "\n",
              "    .colab-df-convert:hover {\n",
              "      background-color: #E2EBFA;\n",
              "      box-shadow: 0px 1px 2px rgba(60, 64, 67, 0.3), 0px 1px 3px 1px rgba(60, 64, 67, 0.15);\n",
              "      fill: #174EA6;\n",
              "    }\n",
              "\n",
              "    .colab-df-buttons div {\n",
              "      margin-bottom: 4px;\n",
              "    }\n",
              "\n",
              "    [theme=dark] .colab-df-convert {\n",
              "      background-color: #3B4455;\n",
              "      fill: #D2E3FC;\n",
              "    }\n",
              "\n",
              "    [theme=dark] .colab-df-convert:hover {\n",
              "      background-color: #434B5C;\n",
              "      box-shadow: 0px 1px 3px 1px rgba(0, 0, 0, 0.15);\n",
              "      filter: drop-shadow(0px 1px 2px rgba(0, 0, 0, 0.3));\n",
              "      fill: #FFFFFF;\n",
              "    }\n",
              "  </style>\n",
              "\n",
              "    <script>\n",
              "      const buttonEl =\n",
              "        document.querySelector('#df-88c36ed9-4ecc-429b-9c02-28d405c18b64 button.colab-df-convert');\n",
              "      buttonEl.style.display =\n",
              "        google.colab.kernel.accessAllowed ? 'block' : 'none';\n",
              "\n",
              "      async function convertToInteractive(key) {\n",
              "        const element = document.querySelector('#df-88c36ed9-4ecc-429b-9c02-28d405c18b64');\n",
              "        const dataTable =\n",
              "          await google.colab.kernel.invokeFunction('convertToInteractive',\n",
              "                                                    [key], {});\n",
              "        if (!dataTable) return;\n",
              "\n",
              "        const docLinkHtml = 'Like what you see? Visit the ' +\n",
              "          '<a target=\"_blank\" href=https://colab.research.google.com/notebooks/data_table.ipynb>data table notebook</a>'\n",
              "          + ' to learn more about interactive tables.';\n",
              "        element.innerHTML = '';\n",
              "        dataTable['output_type'] = 'display_data';\n",
              "        await google.colab.output.renderOutput(dataTable, element);\n",
              "        const docLink = document.createElement('div');\n",
              "        docLink.innerHTML = docLinkHtml;\n",
              "        element.appendChild(docLink);\n",
              "      }\n",
              "    </script>\n",
              "  </div>\n",
              "\n",
              "\n",
              "<div id=\"df-1138a243-f231-47a1-92aa-5960096ad13d\">\n",
              "  <button class=\"colab-df-quickchart\" onclick=\"quickchart('df-1138a243-f231-47a1-92aa-5960096ad13d')\"\n",
              "            title=\"Suggest charts\"\n",
              "            style=\"display:none;\">\n",
              "\n",
              "<svg xmlns=\"http://www.w3.org/2000/svg\" height=\"24px\"viewBox=\"0 0 24 24\"\n",
              "     width=\"24px\">\n",
              "    <g>\n",
              "        <path d=\"M19 3H5c-1.1 0-2 .9-2 2v14c0 1.1.9 2 2 2h14c1.1 0 2-.9 2-2V5c0-1.1-.9-2-2-2zM9 17H7v-7h2v7zm4 0h-2V7h2v10zm4 0h-2v-4h2v4z\"/>\n",
              "    </g>\n",
              "</svg>\n",
              "  </button>\n",
              "\n",
              "<style>\n",
              "  .colab-df-quickchart {\n",
              "      --bg-color: #E8F0FE;\n",
              "      --fill-color: #1967D2;\n",
              "      --hover-bg-color: #E2EBFA;\n",
              "      --hover-fill-color: #174EA6;\n",
              "      --disabled-fill-color: #AAA;\n",
              "      --disabled-bg-color: #DDD;\n",
              "  }\n",
              "\n",
              "  [theme=dark] .colab-df-quickchart {\n",
              "      --bg-color: #3B4455;\n",
              "      --fill-color: #D2E3FC;\n",
              "      --hover-bg-color: #434B5C;\n",
              "      --hover-fill-color: #FFFFFF;\n",
              "      --disabled-bg-color: #3B4455;\n",
              "      --disabled-fill-color: #666;\n",
              "  }\n",
              "\n",
              "  .colab-df-quickchart {\n",
              "    background-color: var(--bg-color);\n",
              "    border: none;\n",
              "    border-radius: 50%;\n",
              "    cursor: pointer;\n",
              "    display: none;\n",
              "    fill: var(--fill-color);\n",
              "    height: 32px;\n",
              "    padding: 0;\n",
              "    width: 32px;\n",
              "  }\n",
              "\n",
              "  .colab-df-quickchart:hover {\n",
              "    background-color: var(--hover-bg-color);\n",
              "    box-shadow: 0 1px 2px rgba(60, 64, 67, 0.3), 0 1px 3px 1px rgba(60, 64, 67, 0.15);\n",
              "    fill: var(--button-hover-fill-color);\n",
              "  }\n",
              "\n",
              "  .colab-df-quickchart-complete:disabled,\n",
              "  .colab-df-quickchart-complete:disabled:hover {\n",
              "    background-color: var(--disabled-bg-color);\n",
              "    fill: var(--disabled-fill-color);\n",
              "    box-shadow: none;\n",
              "  }\n",
              "\n",
              "  .colab-df-spinner {\n",
              "    border: 2px solid var(--fill-color);\n",
              "    border-color: transparent;\n",
              "    border-bottom-color: var(--fill-color);\n",
              "    animation:\n",
              "      spin 1s steps(1) infinite;\n",
              "  }\n",
              "\n",
              "  @keyframes spin {\n",
              "    0% {\n",
              "      border-color: transparent;\n",
              "      border-bottom-color: var(--fill-color);\n",
              "      border-left-color: var(--fill-color);\n",
              "    }\n",
              "    20% {\n",
              "      border-color: transparent;\n",
              "      border-left-color: var(--fill-color);\n",
              "      border-top-color: var(--fill-color);\n",
              "    }\n",
              "    30% {\n",
              "      border-color: transparent;\n",
              "      border-left-color: var(--fill-color);\n",
              "      border-top-color: var(--fill-color);\n",
              "      border-right-color: var(--fill-color);\n",
              "    }\n",
              "    40% {\n",
              "      border-color: transparent;\n",
              "      border-right-color: var(--fill-color);\n",
              "      border-top-color: var(--fill-color);\n",
              "    }\n",
              "    60% {\n",
              "      border-color: transparent;\n",
              "      border-right-color: var(--fill-color);\n",
              "    }\n",
              "    80% {\n",
              "      border-color: transparent;\n",
              "      border-right-color: var(--fill-color);\n",
              "      border-bottom-color: var(--fill-color);\n",
              "    }\n",
              "    90% {\n",
              "      border-color: transparent;\n",
              "      border-bottom-color: var(--fill-color);\n",
              "    }\n",
              "  }\n",
              "</style>\n",
              "\n",
              "  <script>\n",
              "    async function quickchart(key) {\n",
              "      const quickchartButtonEl =\n",
              "        document.querySelector('#' + key + ' button');\n",
              "      quickchartButtonEl.disabled = true;  // To prevent multiple clicks.\n",
              "      quickchartButtonEl.classList.add('colab-df-spinner');\n",
              "      try {\n",
              "        const charts = await google.colab.kernel.invokeFunction(\n",
              "            'suggestCharts', [key], {});\n",
              "      } catch (error) {\n",
              "        console.error('Error during call to suggestCharts:', error);\n",
              "      }\n",
              "      quickchartButtonEl.classList.remove('colab-df-spinner');\n",
              "      quickchartButtonEl.classList.add('colab-df-quickchart-complete');\n",
              "    }\n",
              "    (() => {\n",
              "      let quickchartButtonEl =\n",
              "        document.querySelector('#df-1138a243-f231-47a1-92aa-5960096ad13d button');\n",
              "      quickchartButtonEl.style.display =\n",
              "        google.colab.kernel.accessAllowed ? 'block' : 'none';\n",
              "    })();\n",
              "  </script>\n",
              "</div>\n",
              "    </div>\n",
              "  </div>\n"
            ]
          },
          "metadata": {},
          "execution_count": 50
        }
      ]
    },
    {
      "cell_type": "code",
      "source": [
        "compare_results['training_time'] = [total_train_time_model_0,\n",
        "                                    total_train_time_model_1,\n",
        "                                    total_train_time_model_2]"
      ],
      "metadata": {
        "id": "37mOmLG7QLcZ"
      },
      "execution_count": 51,
      "outputs": []
    },
    {
      "cell_type": "code",
      "source": [
        "compare_results\n"
      ],
      "metadata": {
        "id": "pdD3cBP2Qq3z",
        "outputId": "4eb9fb37-b039-4702-ce65-433f0da2074b",
        "colab": {
          "base_uri": "https://localhost:8080/",
          "height": 143
        }
      },
      "execution_count": 52,
      "outputs": [
        {
          "output_type": "execute_result",
          "data": {
            "text/plain": [
              "            model_name  model_loss  model_acc  training_time\n",
              "0  FashionMNISTModelV0    0.476639  83.426518      26.136916\n",
              "1  FashionMNISTModelV1    0.687435  75.658946      26.136916\n",
              "2  FashionMNISTModelV2    0.440355  84.225240      40.841886"
            ],
            "text/html": [
              "\n",
              "  <div id=\"df-4865aea3-8d49-4d01-b3ea-d2b982e39f17\" class=\"colab-df-container\">\n",
              "    <div>\n",
              "<style scoped>\n",
              "    .dataframe tbody tr th:only-of-type {\n",
              "        vertical-align: middle;\n",
              "    }\n",
              "\n",
              "    .dataframe tbody tr th {\n",
              "        vertical-align: top;\n",
              "    }\n",
              "\n",
              "    .dataframe thead th {\n",
              "        text-align: right;\n",
              "    }\n",
              "</style>\n",
              "<table border=\"1\" class=\"dataframe\">\n",
              "  <thead>\n",
              "    <tr style=\"text-align: right;\">\n",
              "      <th></th>\n",
              "      <th>model_name</th>\n",
              "      <th>model_loss</th>\n",
              "      <th>model_acc</th>\n",
              "      <th>training_time</th>\n",
              "    </tr>\n",
              "  </thead>\n",
              "  <tbody>\n",
              "    <tr>\n",
              "      <th>0</th>\n",
              "      <td>FashionMNISTModelV0</td>\n",
              "      <td>0.476639</td>\n",
              "      <td>83.426518</td>\n",
              "      <td>26.136916</td>\n",
              "    </tr>\n",
              "    <tr>\n",
              "      <th>1</th>\n",
              "      <td>FashionMNISTModelV1</td>\n",
              "      <td>0.687435</td>\n",
              "      <td>75.658946</td>\n",
              "      <td>26.136916</td>\n",
              "    </tr>\n",
              "    <tr>\n",
              "      <th>2</th>\n",
              "      <td>FashionMNISTModelV2</td>\n",
              "      <td>0.440355</td>\n",
              "      <td>84.225240</td>\n",
              "      <td>40.841886</td>\n",
              "    </tr>\n",
              "  </tbody>\n",
              "</table>\n",
              "</div>\n",
              "    <div class=\"colab-df-buttons\">\n",
              "\n",
              "  <div class=\"colab-df-container\">\n",
              "    <button class=\"colab-df-convert\" onclick=\"convertToInteractive('df-4865aea3-8d49-4d01-b3ea-d2b982e39f17')\"\n",
              "            title=\"Convert this dataframe to an interactive table.\"\n",
              "            style=\"display:none;\">\n",
              "\n",
              "  <svg xmlns=\"http://www.w3.org/2000/svg\" height=\"24px\" viewBox=\"0 -960 960 960\">\n",
              "    <path d=\"M120-120v-720h720v720H120Zm60-500h600v-160H180v160Zm220 220h160v-160H400v160Zm0 220h160v-160H400v160ZM180-400h160v-160H180v160Zm440 0h160v-160H620v160ZM180-180h160v-160H180v160Zm440 0h160v-160H620v160Z\"/>\n",
              "  </svg>\n",
              "    </button>\n",
              "\n",
              "  <style>\n",
              "    .colab-df-container {\n",
              "      display:flex;\n",
              "      gap: 12px;\n",
              "    }\n",
              "\n",
              "    .colab-df-convert {\n",
              "      background-color: #E8F0FE;\n",
              "      border: none;\n",
              "      border-radius: 50%;\n",
              "      cursor: pointer;\n",
              "      display: none;\n",
              "      fill: #1967D2;\n",
              "      height: 32px;\n",
              "      padding: 0 0 0 0;\n",
              "      width: 32px;\n",
              "    }\n",
              "\n",
              "    .colab-df-convert:hover {\n",
              "      background-color: #E2EBFA;\n",
              "      box-shadow: 0px 1px 2px rgba(60, 64, 67, 0.3), 0px 1px 3px 1px rgba(60, 64, 67, 0.15);\n",
              "      fill: #174EA6;\n",
              "    }\n",
              "\n",
              "    .colab-df-buttons div {\n",
              "      margin-bottom: 4px;\n",
              "    }\n",
              "\n",
              "    [theme=dark] .colab-df-convert {\n",
              "      background-color: #3B4455;\n",
              "      fill: #D2E3FC;\n",
              "    }\n",
              "\n",
              "    [theme=dark] .colab-df-convert:hover {\n",
              "      background-color: #434B5C;\n",
              "      box-shadow: 0px 1px 3px 1px rgba(0, 0, 0, 0.15);\n",
              "      filter: drop-shadow(0px 1px 2px rgba(0, 0, 0, 0.3));\n",
              "      fill: #FFFFFF;\n",
              "    }\n",
              "  </style>\n",
              "\n",
              "    <script>\n",
              "      const buttonEl =\n",
              "        document.querySelector('#df-4865aea3-8d49-4d01-b3ea-d2b982e39f17 button.colab-df-convert');\n",
              "      buttonEl.style.display =\n",
              "        google.colab.kernel.accessAllowed ? 'block' : 'none';\n",
              "\n",
              "      async function convertToInteractive(key) {\n",
              "        const element = document.querySelector('#df-4865aea3-8d49-4d01-b3ea-d2b982e39f17');\n",
              "        const dataTable =\n",
              "          await google.colab.kernel.invokeFunction('convertToInteractive',\n",
              "                                                    [key], {});\n",
              "        if (!dataTable) return;\n",
              "\n",
              "        const docLinkHtml = 'Like what you see? Visit the ' +\n",
              "          '<a target=\"_blank\" href=https://colab.research.google.com/notebooks/data_table.ipynb>data table notebook</a>'\n",
              "          + ' to learn more about interactive tables.';\n",
              "        element.innerHTML = '';\n",
              "        dataTable['output_type'] = 'display_data';\n",
              "        await google.colab.output.renderOutput(dataTable, element);\n",
              "        const docLink = document.createElement('div');\n",
              "        docLink.innerHTML = docLinkHtml;\n",
              "        element.appendChild(docLink);\n",
              "      }\n",
              "    </script>\n",
              "  </div>\n",
              "\n",
              "\n",
              "<div id=\"df-372b1784-d648-40ad-973b-96fbb683bf84\">\n",
              "  <button class=\"colab-df-quickchart\" onclick=\"quickchart('df-372b1784-d648-40ad-973b-96fbb683bf84')\"\n",
              "            title=\"Suggest charts\"\n",
              "            style=\"display:none;\">\n",
              "\n",
              "<svg xmlns=\"http://www.w3.org/2000/svg\" height=\"24px\"viewBox=\"0 0 24 24\"\n",
              "     width=\"24px\">\n",
              "    <g>\n",
              "        <path d=\"M19 3H5c-1.1 0-2 .9-2 2v14c0 1.1.9 2 2 2h14c1.1 0 2-.9 2-2V5c0-1.1-.9-2-2-2zM9 17H7v-7h2v7zm4 0h-2V7h2v10zm4 0h-2v-4h2v4z\"/>\n",
              "    </g>\n",
              "</svg>\n",
              "  </button>\n",
              "\n",
              "<style>\n",
              "  .colab-df-quickchart {\n",
              "      --bg-color: #E8F0FE;\n",
              "      --fill-color: #1967D2;\n",
              "      --hover-bg-color: #E2EBFA;\n",
              "      --hover-fill-color: #174EA6;\n",
              "      --disabled-fill-color: #AAA;\n",
              "      --disabled-bg-color: #DDD;\n",
              "  }\n",
              "\n",
              "  [theme=dark] .colab-df-quickchart {\n",
              "      --bg-color: #3B4455;\n",
              "      --fill-color: #D2E3FC;\n",
              "      --hover-bg-color: #434B5C;\n",
              "      --hover-fill-color: #FFFFFF;\n",
              "      --disabled-bg-color: #3B4455;\n",
              "      --disabled-fill-color: #666;\n",
              "  }\n",
              "\n",
              "  .colab-df-quickchart {\n",
              "    background-color: var(--bg-color);\n",
              "    border: none;\n",
              "    border-radius: 50%;\n",
              "    cursor: pointer;\n",
              "    display: none;\n",
              "    fill: var(--fill-color);\n",
              "    height: 32px;\n",
              "    padding: 0;\n",
              "    width: 32px;\n",
              "  }\n",
              "\n",
              "  .colab-df-quickchart:hover {\n",
              "    background-color: var(--hover-bg-color);\n",
              "    box-shadow: 0 1px 2px rgba(60, 64, 67, 0.3), 0 1px 3px 1px rgba(60, 64, 67, 0.15);\n",
              "    fill: var(--button-hover-fill-color);\n",
              "  }\n",
              "\n",
              "  .colab-df-quickchart-complete:disabled,\n",
              "  .colab-df-quickchart-complete:disabled:hover {\n",
              "    background-color: var(--disabled-bg-color);\n",
              "    fill: var(--disabled-fill-color);\n",
              "    box-shadow: none;\n",
              "  }\n",
              "\n",
              "  .colab-df-spinner {\n",
              "    border: 2px solid var(--fill-color);\n",
              "    border-color: transparent;\n",
              "    border-bottom-color: var(--fill-color);\n",
              "    animation:\n",
              "      spin 1s steps(1) infinite;\n",
              "  }\n",
              "\n",
              "  @keyframes spin {\n",
              "    0% {\n",
              "      border-color: transparent;\n",
              "      border-bottom-color: var(--fill-color);\n",
              "      border-left-color: var(--fill-color);\n",
              "    }\n",
              "    20% {\n",
              "      border-color: transparent;\n",
              "      border-left-color: var(--fill-color);\n",
              "      border-top-color: var(--fill-color);\n",
              "    }\n",
              "    30% {\n",
              "      border-color: transparent;\n",
              "      border-left-color: var(--fill-color);\n",
              "      border-top-color: var(--fill-color);\n",
              "      border-right-color: var(--fill-color);\n",
              "    }\n",
              "    40% {\n",
              "      border-color: transparent;\n",
              "      border-right-color: var(--fill-color);\n",
              "      border-top-color: var(--fill-color);\n",
              "    }\n",
              "    60% {\n",
              "      border-color: transparent;\n",
              "      border-right-color: var(--fill-color);\n",
              "    }\n",
              "    80% {\n",
              "      border-color: transparent;\n",
              "      border-right-color: var(--fill-color);\n",
              "      border-bottom-color: var(--fill-color);\n",
              "    }\n",
              "    90% {\n",
              "      border-color: transparent;\n",
              "      border-bottom-color: var(--fill-color);\n",
              "    }\n",
              "  }\n",
              "</style>\n",
              "\n",
              "  <script>\n",
              "    async function quickchart(key) {\n",
              "      const quickchartButtonEl =\n",
              "        document.querySelector('#' + key + ' button');\n",
              "      quickchartButtonEl.disabled = true;  // To prevent multiple clicks.\n",
              "      quickchartButtonEl.classList.add('colab-df-spinner');\n",
              "      try {\n",
              "        const charts = await google.colab.kernel.invokeFunction(\n",
              "            'suggestCharts', [key], {});\n",
              "      } catch (error) {\n",
              "        console.error('Error during call to suggestCharts:', error);\n",
              "      }\n",
              "      quickchartButtonEl.classList.remove('colab-df-spinner');\n",
              "      quickchartButtonEl.classList.add('colab-df-quickchart-complete');\n",
              "    }\n",
              "    (() => {\n",
              "      let quickchartButtonEl =\n",
              "        document.querySelector('#df-372b1784-d648-40ad-973b-96fbb683bf84 button');\n",
              "      quickchartButtonEl.style.display =\n",
              "        google.colab.kernel.accessAllowed ? 'block' : 'none';\n",
              "    })();\n",
              "  </script>\n",
              "</div>\n",
              "    </div>\n",
              "  </div>\n"
            ]
          },
          "metadata": {},
          "execution_count": 52
        }
      ]
    },
    {
      "cell_type": "markdown",
      "source": [
        "## 9. Make and evaluate random predictions with the best model\n",
        "\n"
      ],
      "metadata": {
        "id": "81kwbxJ1Qs8w"
      }
    },
    {
      "cell_type": "code",
      "source": [
        "def make_predictions(model:torch.nn.Module,\n",
        "                     data: list,\n",
        "                     device: torch.device = device):\n",
        "  pred_probs = []\n",
        "  model.eval()\n",
        "  with torch.inference_mode():\n",
        "    for sample in data:\n",
        "      # prepare the sample (add a batch dimension and pass to target device)\n",
        "      sample = torch.unsqueeze(sample, dim=0).to(device)\n",
        "\n",
        "      # Forward pass\n",
        "      pred_logit = model(sample)\n",
        "\n",
        "      # Get prediction probability (logit -> prediction probability)\n",
        "      pred_prob = torch.softmax(pred_logit.squeeze(),dim = 0)\n",
        "\n",
        "      # Get pred_prob off the GPU for further calculations\n",
        "      pred_probs.append(pred_prob.cpu())\n",
        "\n",
        "  # Stack the pred_probs to turn list into a tensor\n",
        "  return torch.stack(pred_probs)\n"
      ],
      "metadata": {
        "id": "Cv8VRN46i7v6"
      },
      "execution_count": 53,
      "outputs": []
    },
    {
      "cell_type": "code",
      "source": [
        "import random\n",
        "# random.seed(42)\n",
        "test_samples= []\n",
        "test_labels = []\n",
        "for sample, label in random.sample(list(test_data),k=9):\n",
        "  test_samples.append(sample)\n",
        "  test_labels.append(label)\n",
        "\n",
        "test_samples[0].shape"
      ],
      "metadata": {
        "id": "XzvbVK2UjuhF",
        "outputId": "2d09a893-82fd-47c1-bf9f-62699f892f37",
        "colab": {
          "base_uri": "https://localhost:8080/"
        }
      },
      "execution_count": 74,
      "outputs": [
        {
          "output_type": "execute_result",
          "data": {
            "text/plain": [
              "torch.Size([1, 28, 28])"
            ]
          },
          "metadata": {},
          "execution_count": 74
        }
      ]
    },
    {
      "cell_type": "code",
      "source": [
        "# Μake predictions\n",
        "pred_probs = make_predictions(model=model_2,\n",
        "                              data=test_samples)\n",
        "\n",
        "# View first two pred prob\n",
        "pred_probs[:2]"
      ],
      "metadata": {
        "id": "LZPUnEg8f3Zs",
        "outputId": "bbdec321-3ef4-403c-b557-5f49b0cb1569",
        "colab": {
          "base_uri": "https://localhost:8080/"
        }
      },
      "execution_count": 75,
      "outputs": [
        {
          "output_type": "execute_result",
          "data": {
            "text/plain": [
              "tensor([[1.8928e-05, 4.4502e-05, 5.7437e-05, 3.8276e-04, 4.6124e-06, 9.6214e-01,\n",
              "         2.9985e-05, 2.8903e-02, 8.3967e-03, 1.9895e-05],\n",
              "        [9.6063e-02, 4.2928e-03, 4.7923e-01, 3.2357e-02, 1.5248e-02, 3.2145e-03,\n",
              "         2.3435e-01, 1.6457e-04, 1.3425e-01, 8.2909e-04]])"
            ]
          },
          "metadata": {},
          "execution_count": 75
        }
      ]
    },
    {
      "cell_type": "code",
      "source": [
        "# Convert prediction probabilities to labels\n",
        "pred_classes = pred_probs.argmax(dim=1)\n",
        "pred_classes"
      ],
      "metadata": {
        "id": "O6AwquqhgKns",
        "outputId": "0a1897dd-e0cf-433e-f239-ce49e9818f0e",
        "colab": {
          "base_uri": "https://localhost:8080/"
        }
      },
      "execution_count": 76,
      "outputs": [
        {
          "output_type": "execute_result",
          "data": {
            "text/plain": [
              "tensor([5, 2, 0, 1, 2, 2, 1, 4, 4])"
            ]
          },
          "metadata": {},
          "execution_count": 76
        }
      ]
    },
    {
      "cell_type": "code",
      "source": [
        "test_labels"
      ],
      "metadata": {
        "id": "L49Iac5ggYVk",
        "outputId": "d7cd29dc-d3bd-4d0a-ca74-9d0b6f61c010",
        "colab": {
          "base_uri": "https://localhost:8080/"
        }
      },
      "execution_count": 77,
      "outputs": [
        {
          "output_type": "execute_result",
          "data": {
            "text/plain": [
              "[5, 2, 0, 1, 2, 2, 1, 4, 4]"
            ]
          },
          "metadata": {},
          "execution_count": 77
        }
      ]
    },
    {
      "cell_type": "code",
      "source": [
        "# Plot predictions\n",
        "plt.figure(figsize=(9,9))\n",
        "nrows=3\n",
        "ncols=3\n",
        "for i, sample in enumerate(test_samples):\n",
        "  # Create subplot\n",
        "  plt.subplot(nrows,ncols,i+1)\n",
        "\n",
        "  # Plot the target image\n",
        "  plt.imshow(sample.squeeze(),cmap = 'gray')\n",
        "\n",
        "  # Find the prediction (in text form, e.g \"Sandal\")\n",
        "  pred_label = class_names[pred_classes[i]]\n",
        "\n",
        "  #Get the truth label in text form\n",
        "  truth_label = class_names[test_labels[i]]\n",
        "\n",
        "  # Create title for the plot\n",
        "  title_text = f\"Pred:{pred_label} | Truth: {truth_label}\"\n",
        "\n",
        "  # Check for equality between pred and truth\n",
        "  if pred_label == truth_label:\n",
        "    plt.title(title_text, fontsize=10,c='g') # green if prediction is correct\n",
        "  else:\n",
        "    plt.title(title_text, fontsize = 10,c ='r')\n",
        "  plt.axis(False)"
      ],
      "metadata": {
        "id": "afD3laS2gqTX",
        "outputId": "2aa605e1-dc58-4ec0-b274-71f1b8f06d9c",
        "colab": {
          "base_uri": "https://localhost:8080/",
          "height": 749
        }
      },
      "execution_count": 78,
      "outputs": [
        {
          "output_type": "display_data",
          "data": {
            "text/plain": [
              "<Figure size 900x900 with 9 Axes>"
            ],
            "image/png": "[encoded data removed]"
          },
          "metadata": {}
        }
      ]
    },
    {
      "cell_type": "markdown",
      "source": [
        "## 10. Making a confusion matric for further model evaluation\n",
        "\n",
        "A confusion matrix is a fantastic way of evaluating classification models.\n",
        "\n",
        "1. Make preditctions with our trained model on the test dataset.\n",
        "\n",
        "2. Make a confusion matrix `torchmetrics.ConfusionMatrix`\n",
        "\n",
        "3. Plot the confusion matrix using `mlxtend.plotting.plot_confusion_matrix()`"
      ],
      "metadata": {
        "id": "2x6vLUOyhm8K"
      }
    },
    {
      "cell_type": "code",
      "source": [
        "# Import tqdm.auto\n",
        "from tqdm.auto import tqdm\n",
        "\n",
        "\n",
        "# 1. Make predictions with trained model\n",
        "y_preds = []\n",
        "model_2.eval()\n",
        "with torch.inference_mode():\n",
        "  for X,y in tqdm(test_dataloader, desc = \"Making predictions...\"):\n",
        "    X,y = X.to(device), y.to(device)\n",
        "    y_logit = model_2(X)\n",
        "    y_pred = torch.softmax(y_logit.squeeze(),dim=0).argmax(dim=1)\n",
        "    y_preds.append(y_pred.cpu())\n",
        "\n",
        "  # Concatenate list of preds into a tensor\n",
        "  print(y_preds)\n",
        "  y_pred_tensor = torch.cat(y_preds)\n",
        "  y_pred_tensor"
      ],
      "metadata": {
        "id": "XdjI_Tn1ipzv",
        "outputId": "81c0d4c5-3db9-4294-d877-441c591c55e5",
        "colab": {
          "base_uri": "https://localhost:8080/",
          "height": 1000,
          "referenced_widgets": [
            "7efe32dd83294ae28ae1e5016f578a9e",
            "22912abf28584060a3075b67c2002f45",
            "7af37392b9e148d0bca60807bff8ffca",
            "90c04d6374184f8dbd1592466e19bef0",
            "3528b838173e4f0fadeef4fe2dbbdca1",
            "5c2ea584722141f99fe3170aeb94f831",
            "13bccfacb5c944299af816f33de60b5c",
            "86f56818765e456789b661b9397e6d7e",
            "cb780a8633f24419af3a101d91d20958",
            "eaebafca53cb411c9b7967087358ac9c",
            "a2e7eae8230b487584cfd531a4240a82"
          ]
        }
      },
      "execution_count": 82,
      "outputs": [
        {
          "output_type": "display_data",
          "data": {
            "text/plain": [
              "Making predictions...:   0%|          | 0/313 [00:00<?, ?it/s]"
            ],
            "application/vnd.jupyter.widget-view+json": {
              "version_major": 2,
              "version_minor": 0,
              "model_id": "7efe32dd83294ae28ae1e5016f578a9e"
            }
          },
          "metadata": {}
        },
        {
          "output_type": "stream",
          "name": "stdout",
          "text": [
            "[tensor([9, 2, 1, 1, 6, 1, 4, 6, 5, 7, 4, 5, 8, 3, 4, 3, 2, 6, 8, 0, 2, 7, 7, 5,\n",
            "        3, 2, 6, 3, 9, 3, 8, 8]), tensor([3, 3, 8, 0, 7, 5, 7, 9, 0, 1, 3, 7, 4, 7, 2, 3, 4, 6, 2, 4, 5, 8, 2, 2,\n",
            "        8, 4, 8, 0, 7, 7, 8, 5]), tensor([1, 3, 3, 3, 7, 8, 7, 0, 2, 6, 4, 3, 3, 2, 8, 4, 3, 8, 5, 9, 5, 0, 3, 2,\n",
            "        0, 2, 5, 3, 6, 7, 1, 8]), tensor([6, 1, 4, 2, 3, 6, 7, 2, 7, 8, 5, 7, 9, 4, 2, 5, 7, 6, 5, 2, 8, 6, 7, 8,\n",
            "        6, 0, 9, 9, 3, 6, 8, 4]), tensor([1, 5, 4, 3, 5, 1, 8, 4, 6, 1, 2, 5, 1, 6, 0, 0, 1, 6, 1, 3, 2, 2, 6, 6,\n",
            "        3, 6, 5, 2, 4, 7, 9, 3]), tensor([7, 2, 3, 5, 0, 9, 2, 7, 4, 2, 0, 5, 4, 1, 2, 1, 3, 6, 9, 1, 0, 7, 3, 8,\n",
            "        7, 9, 5, 4, 4, 7, 3, 2]), tensor([3, 6, 3, 2, 8, 3, 6, 1, 3, 0, 2, 9, 2, 4, 6, 7, 9, 8, 4, 3, 8, 4, 1, 3,\n",
            "        3, 6, 7, 2, 8, 5, 3, 0]), tensor([7, 7, 3, 6, 7, 0, 7, 8, 9, 2, 9, 0, 5, 1, 4, 2, 5, 3, 9, 6, 2, 8, 6, 4,\n",
            "        3, 4, 9, 7, 3, 3, 8, 4]), tensor([8, 5, 2, 3, 0, 4, 8, 6, 6, 2, 3, 8, 9, 6, 1, 3, 6, 4, 3, 0, 8, 3, 7, 4,\n",
            "        6, 3, 2, 3, 6, 4, 2, 7]), tensor([5, 3, 5, 9, 5, 6, 5, 5, 3, 9, 8, 3, 3, 3, 6, 8, 0, 0, 2, 9, 7, 7, 1, 3,\n",
            "        8, 6, 2, 4, 7, 3, 6, 4]), tensor([8, 2, 6, 5, 6, 2, 8, 7, 7, 3, 3, 7, 3, 7, 1, 3, 8, 6, 2, 3, 4, 0, 3, 1,\n",
            "        0, 1, 9, 4, 5, 9, 1, 8]), tensor([8, 3, 6, 0, 2, 4, 8, 6, 1, 2, 2, 4, 4, 7, 3, 4, 2, 5, 0, 7, 9, 4, 0, 9,\n",
            "        3, 9, 6, 2, 5, 6, 0, 3]), tensor([5, 8, 1, 2, 2, 2, 6, 4, 9, 5, 2, 0, 2, 6, 1, 2, 0, 9, 7, 0, 3, 4, 3, 3,\n",
            "        2, 3, 3, 6, 7, 2, 9, 4]), tensor([2, 3, 5, 2, 5, 3, 8, 5, 8, 4, 4, 8, 9, 8, 6, 2, 2, 4, 6, 6, 3, 6, 1, 3,\n",
            "        0, 7, 8, 8, 6, 5, 3, 1]), tensor([5, 5, 3, 3, 6, 1, 6, 6, 5, 4, 6, 6, 3, 2, 2, 6, 0, 1, 3, 8, 2, 8, 9, 4,\n",
            "        0, 7, 6, 6, 6, 5, 1, 9]), tensor([7, 9, 3, 7, 5, 7, 8, 1, 6, 0, 6, 4, 8, 9, 7, 9, 1, 2, 7, 3, 6, 0, 5, 7,\n",
            "        1, 8, 6, 2, 2, 2, 4, 4]), tensor([0, 0, 9, 8, 5, 0, 9, 1, 6, 8, 3, 8, 7, 2, 6, 6, 8, 0, 0, 0, 5, 8, 8, 5,\n",
            "        3, 9, 4, 3, 6, 0, 7, 1]), tensor([3, 3, 2, 6, 2, 9, 6, 3, 5, 3, 3, 1, 9, 3, 4, 5, 3, 6, 2, 6, 4, 0, 0, 5,\n",
            "        8, 2, 3, 4, 6, 7, 7, 8]), tensor([8, 3, 6, 8, 7, 6, 7, 9, 3, 4, 0, 3, 8, 3, 1, 1, 5, 9, 4, 2, 5, 7, 8, 1,\n",
            "        2, 9, 7, 7, 1, 0, 9, 6]), tensor([2, 9, 6, 5, 6, 8, 2, 7, 1, 2, 3, 8, 2, 4, 6, 5, 3, 0, 5, 5, 8, 2, 9, 4,\n",
            "        1, 6, 4, 1, 6, 1, 4, 1]), tensor([7, 5, 8, 3, 9, 1, 6, 5, 2, 4, 2, 0, 0, 4, 5, 6, 6, 6, 5, 6, 3, 3, 1, 3,\n",
            "        6, 6, 3, 8, 2, 8, 6, 7]), tensor([0, 4, 1, 8, 5, 0, 8, 2, 7, 6, 8, 9, 6, 3, 4, 9, 6, 2, 5, 0, 9, 5, 3, 6,\n",
            "        6, 2, 3, 3, 8, 1, 4, 0]), tensor([9, 7, 5, 4, 8, 9, 1, 3, 7, 8, 0, 2, 6, 7, 1, 6, 6, 8, 7, 2, 6, 4, 6, 4,\n",
            "        1, 5, 9, 6, 6, 3, 6, 5]), tensor([6, 3, 3, 3, 3, 8, 3, 1, 8, 5, 7, 9, 8, 7, 2, 0, 7, 3, 8, 0, 9, 7, 6, 1,\n",
            "        3, 6, 4, 8, 2, 6, 3, 4]), tensor([8, 6, 0, 8, 9, 2, 4, 5, 9, 3, 6, 4, 9, 2, 3, 7, 9, 7, 8, 3, 7, 7, 3, 1,\n",
            "        1, 6, 9, 5, 3, 8, 4, 2]), tensor([9, 0, 8, 3, 2, 2, 0, 7, 0, 4, 9, 3, 5, 8, 5, 4, 7, 2, 8, 5, 9, 3, 3, 6,\n",
            "        7, 1, 7, 0, 8, 4, 6, 8]), tensor([8, 3, 7, 1, 2, 0, 3, 9, 8, 4, 7, 1, 3, 7, 5, 9, 9, 3, 8, 4, 5, 7, 1, 5,\n",
            "        8, 3, 0, 0, 6, 1, 7, 3]), tensor([1, 5, 7, 1, 5, 2, 2, 3, 3, 3, 1, 4, 9, 4, 3, 7, 7, 6, 8, 9, 5, 6, 1, 3,\n",
            "        4, 0, 3, 5, 9, 2, 3, 5]), tensor([8, 1, 7, 7, 8, 7, 7, 3, 6, 4, 0, 6, 6, 2, 0, 2, 5, 8, 1, 2, 3, 9, 3, 7,\n",
            "        8, 4, 8, 3, 4, 7, 6, 7]), tensor([4, 8, 8, 3, 8, 2, 3, 2, 9, 6, 2, 4, 9, 1, 8, 1, 7, 5, 5, 6, 0, 2, 1, 6,\n",
            "        5, 2, 0, 0, 2, 7, 5, 0]), tensor([6, 5, 9, 4, 8, 6, 6, 3, 6, 2, 7, 3, 7, 7, 1, 4, 4, 6, 5, 0, 9, 9, 8, 8,\n",
            "        3, 3, 2, 4, 6, 6, 3, 2]), tensor([3, 7, 6, 9, 3, 4, 7, 7, 0, 3, 5, 5, 2, 4, 5, 9, 6, 3, 7, 5, 1, 9, 8, 8,\n",
            "        9, 9, 2, 7, 2, 2, 3, 8]), tensor([7, 4, 8, 5, 4, 8, 6, 1, 8, 9, 3, 1, 6, 8, 0, 8, 7, 5, 2, 3, 3, 8, 6, 3,\n",
            "        6, 0, 6, 8, 0, 2, 7, 2]), tensor([0, 3, 4, 7, 0, 2, 1, 3, 3, 6, 8, 5, 9, 0, 2, 6, 5, 1, 4, 4, 8, 2, 7, 7,\n",
            "        3, 8, 3, 0, 9, 8, 3, 3]), tensor([3, 7, 5, 0, 5, 7, 0, 9, 6, 3, 9, 8, 4, 6, 3, 8, 6, 0, 5, 2, 7, 1, 0, 3,\n",
            "        5, 4, 8, 6, 2, 1, 1, 7]), tensor([9, 6, 2, 5, 3, 4, 8, 2, 1, 0, 3, 6, 4, 9, 6, 8, 4, 5, 8, 0, 0, 9, 1, 9,\n",
            "        8, 7, 4, 2, 2, 5, 3, 5]), tensor([0, 7, 3, 9, 3, 7, 0, 9, 3, 8, 4, 4, 7, 6, 6, 6, 2, 0, 7, 8, 4, 2, 2, 8,\n",
            "        5, 6, 4, 5, 5, 8, 1, 1]), tensor([8, 4, 6, 9, 6, 8, 7, 2, 6, 1, 6, 7, 7, 4, 9, 8, 5, 1, 3, 3, 2, 3, 4, 3,\n",
            "        1, 9, 3, 5, 5, 6, 0, 7]), tensor([6, 2, 3, 1, 3, 3, 3, 6, 7, 2, 3, 9, 5, 2, 9, 6, 3, 8, 4, 0, 0, 8, 2, 2,\n",
            "        5, 6, 3, 8, 2, 7, 4, 4]), tensor([8, 3, 2, 4, 6, 4, 3, 6, 2, 3, 8, 2, 0, 4, 6, 8, 8, 4, 5, 2, 2, 3, 6, 1,\n",
            "        7, 0, 9, 1, 7, 6, 5, 2]), tensor([2, 7, 3, 8, 9, 6, 8, 3, 7, 5, 8, 9, 7, 6, 6, 0, 3, 2, 4, 4, 8, 7, 1, 3,\n",
            "        4, 6, 6, 9, 1, 6, 7, 3]), tensor([6, 8, 8, 2, 8, 7, 4, 1, 6, 5, 2, 7, 8, 5, 6, 8, 5, 2, 2, 8, 9, 1, 1, 3,\n",
            "        3, 8, 8, 0, 0, 7, 2, 4]), tensor([8, 1, 3, 6, 1, 9, 2, 1, 6, 2, 7, 9, 6, 6, 3, 6, 4, 2, 4, 5, 0, 2, 8, 3,\n",
            "        7, 6, 2, 0, 0, 5, 4, 8]), tensor([2, 6, 3, 0, 2, 3, 7, 9, 5, 2, 7, 2, 2, 7, 3, 3, 1, 3, 3, 6, 6, 1, 9, 2,\n",
            "        4, 7, 1, 0, 6, 5, 8, 4]), tensor([6, 7, 9, 5, 0, 7, 9, 5, 1, 2, 8, 5, 8, 3, 9, 9, 3, 2, 7, 8, 0, 1, 7, 4,\n",
            "        7, 1, 1, 5, 5, 6, 4, 8]), tensor([9, 5, 5, 2, 3, 9, 3, 8, 5, 4, 6, 0, 0, 5, 7, 6, 8, 2, 3, 4, 6, 7, 8, 0,\n",
            "        5, 1, 7, 2, 3, 6, 8, 7]), tensor([8, 7, 1, 2, 3, 2, 9, 7, 5, 6, 3, 0, 7, 3, 2, 6, 9, 0, 6, 4, 4, 3, 0, 0,\n",
            "        6, 3, 6, 1, 3, 5, 6, 5]), tensor([0, 9, 1, 1, 8, 2, 9, 5, 0, 7, 4, 2, 7, 1, 0, 5, 3, 8, 7, 8, 0, 8, 9, 2,\n",
            "        2, 0, 1, 3, 5, 0, 7, 1]), tensor([9, 9, 2, 4, 7, 0, 1, 3, 9, 6, 3, 7, 2, 8, 1, 8, 0, 7, 9, 8, 5, 8, 2, 6,\n",
            "        4, 0, 6, 5, 8, 3, 8, 7]), tensor([8, 7, 3, 7, 6, 7, 0, 4, 6, 8, 3, 5, 1, 1, 7, 7, 6, 6, 6, 4, 6, 8, 6, 8,\n",
            "        8, 4, 9, 9, 4, 8, 6, 2]), tensor([7, 8, 0, 7, 9, 1, 6, 9, 4, 7, 3, 6, 3, 3, 1, 8, 8, 5, 3, 8, 6, 2, 6, 0,\n",
            "        2, 0, 2, 5, 3, 6, 8, 3]), tensor([7, 7, 3, 1, 7, 5, 8, 8, 2, 3, 6, 6, 4, 8, 9, 7, 0, 6, 2, 7, 7, 3, 9, 4,\n",
            "        5, 9, 7, 3, 7, 2, 6, 5]), tensor([3, 3, 8, 4, 5, 0, 2, 2, 1, 4, 3, 8, 4, 7, 9, 4, 3, 1, 7, 2, 3, 5, 6, 3,\n",
            "        9, 7, 8, 3, 8, 8, 8, 7]), tensor([1, 5, 6, 3, 1, 4, 3, 4, 9, 5, 6, 0, 6, 9, 4, 5, 6, 6, 3, 8, 9, 2, 5, 4,\n",
            "        8, 6, 7, 2, 3, 6, 4, 5]), tensor([6, 1, 9, 3, 2, 2, 5, 9, 0, 8, 3, 2, 6, 6, 6, 4, 2, 2, 6, 5, 0, 2, 7, 8,\n",
            "        7, 4, 6, 6, 0, 5, 2, 2]), tensor([2, 9, 5, 2, 6, 7, 0, 1, 9, 8, 8, 0, 7, 7, 5, 0, 5, 3, 8, 4, 7, 9, 8, 2,\n",
            "        6, 7, 3, 3, 7, 7, 7, 8]), tensor([2, 9, 5, 7, 6, 5, 7, 5, 1, 3, 0, 2, 9, 9, 8, 3, 7, 0, 4, 4, 9, 3, 3, 1,\n",
            "        7, 7, 1, 5, 7, 2, 7, 2]), tensor([5, 7, 3, 7, 5, 5, 4, 0, 7, 3, 3, 2, 6, 2, 9, 9, 0, 3, 6, 8, 3, 8, 0, 4,\n",
            "        6, 1, 8, 2, 4, 5, 0, 4]), tensor([6, 3, 0, 0, 3, 6, 8, 4, 9, 0, 7, 6, 7, 7, 1, 5, 8, 7, 2, 9, 9, 3, 2, 6,\n",
            "        1, 1, 3, 8, 8, 1, 3, 7]), tensor([5, 2, 0, 8, 4, 8, 9, 6, 1, 3, 3, 9, 6, 3, 3, 3, 8, 0, 9, 5, 7, 6, 0, 6,\n",
            "        2, 3, 1, 7, 9, 2, 2, 0]), tensor([3, 6, 4, 8, 1, 7, 2, 4, 4, 2, 3, 8, 7, 1, 8, 7, 5, 7, 7, 6, 6, 2, 9, 6,\n",
            "        6, 3, 9, 5, 0, 2, 1, 0]), tensor([3, 5, 7, 3, 5, 2, 5, 7, 9, 8, 9, 1, 4, 8, 3, 2, 3, 6, 0, 8, 3, 8, 3, 8,\n",
            "        6, 0, 8, 8, 3, 4, 9, 3]), tensor([2, 0, 8, 5, 9, 6, 3, 1, 3, 9, 5, 1, 3, 3, 6, 0, 8, 4, 1, 3, 8, 8, 0, 7,\n",
            "        5, 6, 6, 7, 3, 3, 2, 4]), tensor([6, 5, 8, 6, 4, 3, 9, 1, 1, 7, 3, 8, 7, 2, 2, 7, 3, 9, 8, 6, 1, 8, 1, 4,\n",
            "        8, 1, 8, 9, 3, 4, 0, 0]), tensor([5, 6, 9, 9, 5, 5, 5, 0, 9, 3, 3, 6, 9, 8, 4, 2, 6, 3, 9, 4, 3, 6, 7, 4,\n",
            "        0, 3, 8, 1, 8, 7, 4, 4]), tensor([7, 2, 2, 9, 1, 7, 4, 9, 1, 6, 2, 6, 8, 7, 7, 7, 7, 2, 6, 0, 7, 5, 8, 5,\n",
            "        6, 0, 3, 4, 9, 2, 4, 3]), tensor([3, 9, 3, 3, 2, 2, 8, 3, 7, 5, 7, 8, 4, 8, 3, 2, 3, 5, 4, 8, 9, 1, 5, 9,\n",
            "        3, 6, 2, 6, 0, 3, 8, 7]), tensor([6, 6, 7, 7, 6, 0, 6, 3, 4, 7, 8, 7, 2, 8, 0, 8, 7, 4, 4, 6, 7, 0, 9, 9,\n",
            "        3, 1, 5, 9, 3, 1, 0, 3]), tensor([3, 8, 8, 7, 9, 8, 3, 8, 9, 8, 7, 9, 3, 6, 6, 0, 5, 7, 8, 4, 3, 8, 3, 1,\n",
            "        1, 9, 4, 3, 9, 5, 8, 7]), tensor([2, 4, 9, 0, 2, 1, 9, 7, 1, 5, 0, 9, 7, 6, 3, 0, 6, 4, 3, 7, 4, 2, 6, 8,\n",
            "        7, 9, 2, 1, 6, 7, 5, 8]), tensor([5, 3, 7, 6, 4, 3, 9, 6, 0, 3, 9, 1, 4, 3, 3, 5, 3, 8, 5, 3, 1, 2, 9, 4,\n",
            "        0, 7, 2, 8, 0, 2, 9, 8]), tensor([2, 4, 8, 3, 8, 0, 2, 3, 6, 4, 8, 5, 4, 9, 6, 7, 5, 8, 0, 9, 1, 2, 7, 2,\n",
            "        1, 2, 0, 3, 4, 5, 2, 2]), tensor([8, 5, 5, 2, 6, 3, 8, 3, 3, 1, 9, 2, 7, 7, 3, 6, 4, 8, 3, 4, 8, 5, 6, 8,\n",
            "        3, 3, 1, 4, 6, 0, 4, 9]), tensor([6, 4, 1, 9, 9, 8, 1, 4, 8, 3, 3, 3, 8, 5, 9, 2, 2, 8, 7, 3, 3, 6, 2, 4,\n",
            "        5, 7, 5, 0, 7, 9, 1, 2]), tensor([4, 8, 9, 3, 8, 2, 6, 2, 6, 7, 8, 9, 1, 8, 2, 5, 5, 3, 1, 1, 8, 8, 3, 6,\n",
            "        7, 0, 1, 8, 8, 3, 6, 9]), tensor([8, 5, 8, 8, 6, 9, 1, 8, 4, 2, 7, 7, 6, 5, 1, 3, 6, 0, 2, 3, 0, 2, 3, 7,\n",
            "        3, 2, 3, 3, 2, 2, 5, 6]), tensor([9, 8, 3, 3, 1, 0, 6, 1, 2, 4, 2, 8, 4, 7, 0, 5, 7, 5, 3, 6, 6, 5, 6, 3,\n",
            "        9, 7, 3, 6, 1, 9, 2, 1]), tensor([6, 4, 5, 4, 1, 6, 8, 5, 9, 4, 5, 3, 3, 8, 3, 0, 6, 8, 9, 0, 7, 6, 2, 6,\n",
            "        7, 3, 2, 6, 8, 7, 7, 2]), tensor([3, 3, 3, 3, 6, 6, 7, 6, 1, 2, 6, 4, 3, 2, 8, 5, 6, 8, 7, 6, 7, 8, 1, 5,\n",
            "        9, 8, 6, 9, 0, 9, 3, 7]), tensor([5, 7, 9, 6, 0, 7, 1, 5, 5, 9, 5, 3, 6, 2, 6, 5, 9, 7, 4, 2, 6, 9, 8, 3,\n",
            "        2, 1, 3, 7, 1, 8, 7, 7]), tensor([1, 8, 9, 3, 7, 7, 7, 1, 7, 3, 6, 6, 2, 3, 5, 2, 8, 9, 6, 8, 6, 3, 7, 7,\n",
            "        5, 0, 3, 9, 3, 6, 4, 9]), tensor([2, 2, 6, 9, 1, 0, 5, 8, 7, 2, 8, 0, 3, 6, 3, 7, 3, 8, 7, 2, 3, 7, 8, 2,\n",
            "        2, 6, 4, 6, 1, 8, 6, 7]), tensor([2, 9, 6, 5, 2, 3, 3, 8, 8, 2, 0, 7, 2, 4, 0, 3, 3, 3, 8, 1, 7, 7, 3, 6,\n",
            "        3, 1, 2, 7, 2, 6, 6, 3]), tensor([2, 7, 2, 2, 3, 2, 3, 0, 9, 7, 3, 5, 4, 7, 6, 2, 5, 0, 6, 8, 4, 0, 4, 4,\n",
            "        6, 4, 1, 6, 6, 2, 7, 1]), tensor([0, 6, 3, 0, 1, 5, 4, 0, 8, 3, 3, 3, 7, 2, 9, 8, 8, 2, 5, 7, 6, 7, 2, 9,\n",
            "        1, 0, 5, 3, 7, 2, 1, 1]), tensor([8, 6, 2, 0, 5, 9, 6, 3, 8, 1, 6, 4, 6, 2, 2, 8, 3, 4, 2, 3, 9, 2, 7, 9,\n",
            "        5, 7, 6, 1, 8, 8, 8, 2]), tensor([6, 4, 6, 3, 1, 2, 4, 0, 3, 9, 8, 4, 0, 8, 4, 3, 9, 7, 1, 1, 7, 5, 1, 9,\n",
            "        2, 2, 2, 3, 8, 6, 7, 1]), tensor([3, 6, 7, 3, 5, 8, 1, 4, 2, 3, 4, 8, 8, 8, 3, 6, 1, 8, 7, 3, 0, 6, 6, 2,\n",
            "        9, 7, 3, 7, 6, 1, 6, 5]), tensor([9, 4, 0, 8, 0, 7, 8, 7, 4, 6, 2, 8, 6, 6, 9, 3, 3, 5, 8, 3, 1, 2, 6, 6,\n",
            "        4, 8, 4, 2, 3, 3, 9, 7]), tensor([4, 6, 3, 1, 8, 1, 5, 2, 0, 6, 7, 9, 3, 2, 7, 3, 7, 6, 1, 6, 2, 8, 4, 7,\n",
            "        8, 4, 8, 3, 2, 5, 6, 8]), tensor([6, 2, 6, 9, 4, 2, 1, 3, 0, 3, 5, 5, 2, 6, 4, 1, 8, 8, 3, 4, 3, 4, 2, 7,\n",
            "        2, 1, 9, 6, 6, 3, 8, 4]), tensor([5, 4, 7, 8, 3, 6, 3, 2, 4, 9, 4, 3, 5, 1, 4, 6, 0, 3, 3, 0, 2, 6, 5, 5,\n",
            "        8, 3, 2, 4, 3, 7, 3, 1]), tensor([1, 7, 7, 8, 7, 6, 5, 3, 7, 2, 0, 9, 4, 1, 4, 2, 2, 5, 8, 5, 2, 7, 8, 4,\n",
            "        6, 9, 0, 8, 1, 3, 8, 2]), tensor([8, 2, 0, 6, 3, 8, 7, 8, 2, 2, 3, 6, 0, 4, 5, 3, 4, 3, 1, 9, 7, 3, 6, 6,\n",
            "        1, 2, 2, 5, 5, 1, 8, 3]), tensor([3, 7, 9, 8, 7, 2, 7, 9, 7, 2, 2, 6, 6, 3, 3, 9, 3, 1, 4, 8, 0, 9, 7, 5,\n",
            "        4, 8, 8, 3, 6, 3, 8, 8]), tensor([6, 2, 5, 9, 2, 3, 8, 6, 2, 8, 3, 3, 2, 2, 3, 0, 1, 8, 4, 1, 5, 8, 1, 5,\n",
            "        8, 6, 7, 7, 7, 5, 6, 9]), tensor([5, 3, 6, 7, 8, 4, 7, 1, 6, 2, 6, 4, 3, 7, 7, 9, 7, 2, 5, 8, 7, 8, 5, 3,\n",
            "        0, 9, 7, 2, 0, 6, 8, 3]), tensor([6, 5, 3, 7, 6, 5, 2, 7, 6, 3, 4, 0, 2, 9, 8, 1, 3, 8, 1, 5, 3, 6, 1, 3,\n",
            "        6, 6, 9, 8, 2, 8, 2, 7]), tensor([7, 1, 3, 6, 3, 0, 7, 8, 7, 6, 5, 2, 6, 7, 5, 5, 8, 9, 7, 3, 2, 4, 8, 3,\n",
            "        9, 5, 7, 6, 2, 6, 7, 3]), tensor([8, 5, 1, 8, 9, 4, 2, 3, 6, 2, 7, 2, 0, 4, 4, 8, 5, 7, 9, 6, 2, 8, 4, 6,\n",
            "        0, 6, 3, 3, 1, 5, 2, 7]), tensor([5, 3, 7, 6, 2, 3, 5, 3, 1, 2, 7, 3, 8, 8, 7, 7, 9, 9, 5, 5, 3, 0, 7, 1,\n",
            "        4, 2, 0, 9, 7, 6, 6, 8]), tensor([0, 5, 7, 8, 8, 2, 9, 3, 6, 2, 8, 1, 6, 2, 8, 0, 7, 5, 8, 9, 5, 7, 5, 6,\n",
            "        7, 6, 3, 2, 6, 3, 4, 2]), tensor([0, 8, 9, 4, 5, 4, 3, 1, 6, 5, 9, 0, 5, 6, 2, 8, 6, 3, 8, 3, 8, 7, 2, 7,\n",
            "        2, 3, 2, 7, 1, 6, 3, 4]), tensor([6, 4, 3, 9, 9, 6, 8, 0, 4, 6, 6, 1, 9, 3, 9, 6, 8, 6, 9, 2, 7, 9, 1, 5,\n",
            "        8, 1, 3, 6, 2, 4, 8, 3]), tensor([3, 3, 0, 3, 6, 3, 3, 1, 6, 8, 4, 9, 3, 0, 2, 5, 6, 8, 8, 2, 1, 3, 8, 9,\n",
            "        8, 5, 8, 7, 2, 7, 2, 7]), tensor([3, 5, 5, 8, 3, 2, 8, 5, 9, 9, 2, 0, 6, 7, 1, 8, 8, 8, 7, 2, 0, 9, 7, 7,\n",
            "        6, 9, 2, 1, 4, 7, 2, 5]), tensor([2, 2, 2, 9, 0, 7, 1, 9, 7, 2, 5, 3, 8, 4, 5, 3, 7, 5, 7, 5, 1, 3, 3, 6,\n",
            "        0, 7, 5, 3, 5, 5, 8, 7]), tensor([9, 4, 6, 5, 5, 3, 4, 8, 3, 0, 9, 2, 3, 2, 2, 9, 4, 5, 9, 1, 4, 8, 1, 6,\n",
            "        9, 8, 3, 6, 7, 2, 0, 2]), tensor([2, 3, 2, 3, 0, 5, 2, 3, 6, 8, 5, 0, 7, 4, 6, 2, 8, 3, 5, 1, 3, 9, 1, 6,\n",
            "        7, 3, 7, 4, 2, 0, 2, 5]), tensor([3, 3, 0, 6, 3, 1, 7, 9, 4, 3, 7, 3, 0, 2, 8, 3, 0, 9, 9, 7, 8, 2, 6, 9,\n",
            "        7, 7, 5, 8, 8, 7, 5, 3]), tensor([5, 5, 0, 8, 9, 7, 2, 1, 4, 7, 1, 3, 6, 3, 2, 2, 9, 4, 7, 7, 0, 5, 0, 8,\n",
            "        8, 2, 8, 5, 6, 0, 7, 3]), tensor([3, 6, 4, 5, 2, 0, 7, 7, 7, 1, 8, 2, 4, 8, 5, 4, 4, 8, 7, 7, 6, 7, 1, 6,\n",
            "        9, 8, 3, 9, 3, 8, 0, 7]), tensor([4, 2, 6, 1, 2, 5, 9, 3, 2, 8, 5, 7, 3, 1, 4, 6, 8, 1, 8, 5, 6, 9, 7, 3,\n",
            "        6, 4, 4, 6, 0, 4, 4, 2]), tensor([3, 2, 5, 9, 1, 1, 9, 4, 7, 0, 3, 2, 6, 0, 7, 7, 0, 7, 8, 0, 5, 6, 4, 3,\n",
            "        8, 9, 7, 2, 9, 5, 3, 7]), tensor([2, 6, 1, 9, 7, 8, 1, 3, 7, 3, 6, 7, 8, 6, 5, 8, 7, 9, 9, 7, 0, 4, 2, 3,\n",
            "        4, 6, 7, 5, 3, 9, 6, 8]), tensor([8, 6, 0, 4, 3, 7, 3, 3, 5, 3, 7, 5, 7, 6, 8, 5, 5, 9, 5, 6, 0, 7, 3, 5,\n",
            "        2, 2, 6, 7, 6, 8, 1, 9]), tensor([2, 6, 6, 4, 8, 8, 7, 5, 3, 9, 3, 5, 6, 8, 2, 6, 9, 0, 3, 2, 5, 5, 0, 2,\n",
            "        6, 4, 1, 3, 3, 8, 7, 8]), tensor([8, 9, 7, 6, 5, 7, 3, 6, 0, 4, 2, 3, 6, 8, 8, 8, 6, 2, 3, 2, 8, 8, 1, 4,\n",
            "        1, 1, 6, 3, 2, 2, 8, 0]), tensor([0, 2, 1, 3, 2, 5, 0, 6, 7, 9, 9, 2, 5, 6, 5, 9, 8, 4, 8, 3, 2, 0, 9, 6,\n",
            "        2, 4, 3, 8, 6, 3, 6, 5]), tensor([6, 4, 7, 3, 7, 8, 8, 2, 4, 8, 8, 0, 1, 5, 8, 9, 8, 5, 2, 0, 3, 0, 0, 0,\n",
            "        7, 3, 5, 5, 1, 5, 7, 3]), tensor([1, 7, 0, 1, 0, 5, 3, 8, 6, 4, 1, 7, 0, 5, 0, 2, 3, 7, 1, 7, 9, 4, 3, 9,\n",
            "        2, 2, 9, 3, 5, 8, 8, 4]), tensor([4, 7, 7, 4, 2, 0, 7, 7, 3, 6, 2, 7, 6, 8, 5, 6, 9, 1, 3, 1, 4, 5, 9, 3,\n",
            "        7, 0, 3, 5, 6, 1, 7, 8]), tensor([5, 6, 0, 9, 1, 7, 1, 7, 3, 8, 0, 3, 4, 0, 2, 0, 3, 3, 8, 8, 0, 3, 2, 8,\n",
            "        1, 2, 3, 3, 2, 2, 3, 8]), tensor([0, 2, 0, 6, 4, 2, 3, 9, 2, 3, 0, 4, 7, 7, 1, 6, 0, 2, 0, 0, 8, 5, 1, 6,\n",
            "        5, 2, 8, 1, 7, 1, 6, 6]), tensor([7, 4, 6, 1, 5, 3, 3, 5, 8, 7, 7, 7, 2, 7, 5, 3, 8, 2, 0, 6, 6, 9, 9, 5,\n",
            "        8, 0, 6, 4, 1, 3, 7, 3]), tensor([6, 0, 9, 8, 5, 3, 6, 7, 1, 9, 5, 8, 2, 3, 9, 9, 3, 2, 2, 3, 2, 4, 5, 1,\n",
            "        6, 2, 8, 3, 6, 8, 3, 2]), tensor([0, 0, 3, 6, 7, 4, 4, 1, 7, 3, 6, 7, 9, 9, 3, 7, 5, 9, 1, 4, 3, 1, 2, 8,\n",
            "        3, 5, 7, 8, 6, 6, 2, 7]), tensor([2, 7, 5, 6, 8, 7, 8, 1, 4, 5, 6, 5, 5, 9, 9, 4, 2, 2, 1, 6, 6, 8, 7, 1,\n",
            "        2, 7, 5, 2, 7, 0, 3, 1]), tensor([4, 8, 2, 0, 6, 7, 3, 7, 3, 6, 6, 8, 6, 6, 2, 3, 2, 7, 5, 8, 6, 7, 0, 8,\n",
            "        9, 6, 2, 1, 2, 5, 1, 6]), tensor([4, 7, 6, 4, 5, 9, 1, 4, 3, 1, 6, 8, 0, 3, 0, 6, 2, 0, 2, 3, 8, 7, 2, 3,\n",
            "        6, 0, 8, 5, 4, 0, 1, 0]), tensor([4, 2, 6, 7, 9, 6, 4, 3, 3, 6, 8, 5, 4, 6, 0, 3, 3, 5, 2, 5, 1, 5, 5, 3,\n",
            "        7, 7, 2, 3, 8, 8, 6, 9]), tensor([6, 6, 0, 3, 2, 1, 8, 3, 4, 2, 1, 2, 6, 3, 0, 8, 5, 3, 7, 0, 2, 6, 3, 9,\n",
            "        8, 6, 4, 3, 0, 2, 6, 2]), tensor([6, 3, 7, 5, 0, 6, 2, 0, 8, 2, 2, 1, 8, 6, 8, 2, 9, 2, 4, 8, 5, 2, 7, 3,\n",
            "        2, 4, 6, 0, 4, 8, 5, 4]), tensor([1, 5, 2, 8, 2, 9, 3, 6, 3, 6, 4, 2, 7, 7, 9, 6, 4, 5, 8, 3, 5, 8, 7, 7,\n",
            "        0, 7, 7, 0, 7, 7, 4, 5]), tensor([5, 2, 2, 2, 4, 8, 6, 1, 9, 8, 6, 2, 6, 2, 3, 8, 0, 7, 6, 4, 3, 8, 1, 3,\n",
            "        8, 7, 3, 6, 3, 4, 8, 8]), tensor([7, 1, 3, 2, 1, 4, 8, 6, 2, 2, 7, 3, 9, 4, 9, 0, 6, 2, 5, 7, 0, 8, 3, 7,\n",
            "        5, 4, 9, 5, 7, 3, 2, 6]), tensor([9, 8, 7, 3, 7, 7, 4, 7, 8, 8, 8, 4, 4, 8, 2, 3, 8, 9, 7, 1, 3, 2, 2, 9,\n",
            "        7, 1, 2, 2, 0, 0, 8, 5]), tensor([6, 5, 2, 8, 7, 4, 9, 9, 0, 4, 0, 1, 5, 5, 5, 6, 8, 0, 5, 7, 7, 7, 9, 8,\n",
            "        0, 1, 3, 2, 6, 0, 9, 3]), tensor([2, 4, 4, 8, 2, 5, 4, 9, 0, 2, 8, 4, 8, 6, 3, 6, 1, 2, 3, 3, 8, 4, 9, 9,\n",
            "        0, 7, 9, 5, 3, 1, 7, 2]), tensor([8, 4, 7, 3, 1, 6, 6, 7, 8, 1, 7, 3, 6, 8, 3, 8, 4, 2, 5, 6, 7, 6, 1, 2,\n",
            "        0, 7, 9, 0, 1, 3, 9, 5]), tensor([1, 2, 1, 3, 3, 8, 3, 9, 5, 4, 6, 3, 8, 7, 7, 8, 3, 8, 3, 9, 2, 6, 0, 8,\n",
            "        6, 6, 7, 5, 6, 3, 4, 7]), tensor([6, 4, 0, 2, 7, 9, 6, 1, 3, 6, 0, 8, 8, 7, 3, 2, 7, 5, 7, 6, 1, 8, 3, 4,\n",
            "        9, 8, 9, 3, 3, 0, 3, 0]), tensor([3, 0, 6, 6, 1, 7, 7, 3, 2, 6, 5, 3, 4, 1, 7, 6, 7, 6, 2, 8, 8, 1, 6, 9,\n",
            "        9, 6, 8, 4, 9, 3, 9, 8]), tensor([5, 3, 8, 4, 7, 1, 4, 1, 9, 6, 8, 3, 2, 4, 8, 1, 1, 5, 8, 6, 1, 6, 2, 9,\n",
            "        0, 9, 5, 3, 5, 6, 6, 5]), tensor([6, 8, 3, 8, 0, 2, 9, 9, 1, 5, 3, 2, 6, 5, 3, 6, 3, 6, 7, 4, 0, 4, 1, 9,\n",
            "        9, 1, 7, 7, 5, 5, 9, 4]), tensor([8, 2, 6, 6, 4, 6, 2, 3, 1, 4, 6, 8, 6, 9, 0, 5, 8, 3, 3, 6, 3, 2, 3, 8,\n",
            "        6, 6, 9, 3, 6, 9, 7, 6]), tensor([2, 2, 3, 8, 9, 6, 1, 4, 7, 7, 9, 7, 3, 6, 7, 4, 7, 3, 0, 2, 0, 9, 4, 3,\n",
            "        3, 1, 9, 5, 8, 2, 3, 5]), tensor([0, 2, 2, 5, 8, 3, 5, 6, 7, 7, 6, 6, 9, 8, 1, 4, 4, 5, 3, 0, 6, 1, 6, 0,\n",
            "        5, 4, 8, 5, 7, 3, 8, 8]), tensor([3, 7, 4, 6, 7, 8, 9, 8, 8, 1, 7, 5, 0, 1, 5, 3, 3, 3, 3, 2, 2, 3, 6, 7,\n",
            "        8, 6, 9, 6, 3, 0, 4, 2]), tensor([7, 3, 5, 7, 3, 7, 8, 6, 6, 6, 2, 3, 1, 0, 7, 5, 2, 6, 4, 1, 6, 4, 7, 2,\n",
            "        3, 5, 9, 6, 2, 4, 4, 8]), tensor([7, 9, 2, 0, 9, 8, 3, 5, 3, 1, 4, 5, 0, 1, 8, 5, 8, 4, 6, 7, 8, 9, 2, 4,\n",
            "        6, 3, 6, 6, 4, 7, 9, 1]), tensor([9, 7, 4, 8, 1, 3, 2, 4, 8, 6, 1, 5, 8, 6, 4, 6, 9, 4, 7, 8, 8, 0, 2, 7,\n",
            "        7, 8, 9, 8, 7, 3, 8, 7]), tensor([5, 9, 7, 8, 2, 1, 0, 8, 0, 2, 6, 7, 9, 6, 6, 5, 2, 3, 2, 1, 3, 7, 0, 5,\n",
            "        5, 4, 9, 8, 9, 3, 7, 6]), tensor([0, 6, 5, 5, 8, 4, 8, 8, 7, 2, 5, 1, 9, 6, 5, 7, 3, 5, 5, 3, 6, 6, 2, 8,\n",
            "        7, 9, 6, 0, 1, 4, 1, 0]), tensor([3, 8, 6, 8, 2, 4, 6, 3, 5, 7, 7, 8, 5, 6, 3, 2, 1, 8, 3, 8, 7, 4, 2, 3,\n",
            "        6, 8, 3, 3, 4, 9, 0, 9]), tensor([7, 0, 1, 8, 3, 6, 3, 6, 6, 3, 7, 1, 3, 6, 1, 9, 3, 5, 0, 4, 2, 6, 1, 5,\n",
            "        3, 2, 8, 5, 7, 8, 6, 1]), tensor([1, 0, 6, 2, 5, 9, 6, 7, 2, 3, 8, 4, 6, 3, 3, 9, 4, 7, 0, 8, 6, 5, 6, 2,\n",
            "        0, 1, 3, 9, 4, 2, 5, 6]), tensor([8, 3, 2, 5, 6, 6, 8, 0, 6, 9, 1, 3, 3, 2, 5, 8, 2, 6, 1, 4, 9, 7, 2, 2,\n",
            "        7, 8, 7, 1, 4, 8, 7, 9]), tensor([7, 7, 0, 2, 9, 4, 1, 6, 7, 8, 1, 5, 2, 7, 1, 1, 4, 5, 9, 6, 5, 7, 7, 3,\n",
            "        8, 1, 9, 6, 7, 3, 1, 7]), tensor([6, 9, 5, 1, 3, 6, 5, 3, 4, 4, 5, 3, 2, 9, 9, 1, 2, 2, 2, 4, 3, 8, 7, 9,\n",
            "        9, 3, 8, 8, 9, 0, 5, 6]), tensor([4, 3, 8, 8, 4, 2, 0, 1, 2, 0, 2, 1, 5, 6, 6, 2, 0, 3, 4, 5, 6, 8, 7, 6,\n",
            "        0, 3, 1, 8, 6, 8, 9, 9]), tensor([8, 7, 8, 2, 8, 4, 4, 6, 5, 2, 7, 2, 7, 3, 0, 6, 3, 0, 9, 8, 0, 6, 9, 1,\n",
            "        9, 4, 7, 3, 8, 4, 3, 4]), tensor([2, 1, 0, 2, 4, 3, 7, 8, 3, 9, 5, 9, 0, 4, 3, 4, 5, 5, 5, 7, 6, 1, 3, 3,\n",
            "        7, 6, 5, 7, 6, 8, 3, 5]), tensor([5, 8, 1, 9, 2, 0, 4, 2, 3, 6, 3, 3, 2, 5, 3, 8, 1, 1, 7, 8, 2, 5, 9, 0,\n",
            "        8, 3, 4, 4, 2, 7, 0, 7]), tensor([3, 3, 2, 3, 7, 3, 6, 2, 3, 3, 0, 0, 6, 4, 8, 5, 0, 3, 0, 4, 7, 3, 3, 6,\n",
            "        0, 2, 4, 4, 1, 8, 2, 9]), tensor([3, 2, 6, 4, 2, 5, 3, 3, 5, 3, 5, 8, 3, 9, 7, 6, 0, 8, 1, 0, 1, 0, 7, 7,\n",
            "        2, 8, 9, 6, 1, 5, 4, 9]), tensor([4, 7, 9, 7, 7, 0, 1, 0, 9, 9, 5, 3, 7, 2, 9, 3, 5, 6, 8, 3, 7, 4, 3, 8,\n",
            "        2, 7, 8, 8, 9, 6, 2, 4]), tensor([5, 6, 4, 5, 9, 1, 0, 5, 3, 7, 7, 4, 2, 7, 1, 5, 8, 3, 7, 2, 7, 1, 8, 8,\n",
            "        8, 7, 8, 6, 0, 5, 7, 9]), tensor([8, 5, 6, 0, 6, 2, 3, 2, 3, 9, 9, 1, 9, 5, 8, 4, 2, 6, 4, 6, 7, 2, 8, 3,\n",
            "        0, 7, 8, 8, 3, 9, 9, 5]), tensor([9, 8, 6, 9, 7, 8, 7, 4, 7, 7, 0, 3, 7, 8, 3, 5, 3, 1, 2, 9, 1, 6, 8, 5,\n",
            "        1, 7, 8, 0, 3, 3, 0, 9]), tensor([3, 4, 3, 3, 0, 2, 9, 7, 3, 9, 8, 5, 6, 8, 5, 7, 5, 2, 4, 2, 5, 3, 2, 5,\n",
            "        4, 2, 7, 1, 6, 3, 4, 4]), tensor([8, 6, 4, 0, 7, 8, 5, 1, 7, 2, 6, 3, 2, 4, 0, 9, 0, 7, 2, 7, 3, 2, 9, 7,\n",
            "        2, 2, 6, 3, 7, 1, 4, 7]), tensor([6, 3, 7, 3, 6, 3, 8, 6, 8, 0, 4, 3, 7, 9, 6, 2, 9, 2, 3, 7, 1, 7, 5, 2,\n",
            "        9, 8, 2, 2, 0, 3, 3, 2]), tensor([2, 8, 3, 6, 8, 1, 8, 3, 0, 1, 6, 7, 3, 7, 7, 3, 3, 9, 9, 6, 2, 2, 5, 8,\n",
            "        9, 6, 3, 5, 4, 1, 6, 9]), tensor([4, 3, 2, 6, 1, 8, 3, 3, 4, 0, 6, 1, 9, 0, 5, 3, 5, 3, 6, 4, 1, 6, 0, 7,\n",
            "        6, 6, 2, 3, 6, 3, 5, 2]), tensor([9, 6, 8, 0, 3, 6, 3, 1, 7, 8, 3, 3, 3, 2, 6, 3, 8, 6, 6, 2, 5, 1, 4, 2,\n",
            "        2, 1, 7, 3, 8, 6, 9, 8]), tensor([8, 0, 6, 3, 6, 6, 8, 1, 2, 3, 3, 1, 9, 5, 3, 2, 6, 7, 4, 3, 6, 3, 0, 3,\n",
            "        2, 4, 8, 6, 8, 4, 7, 0]), tensor([3, 2, 3, 6, 3, 4, 1, 2, 6, 3, 6, 7, 7, 8, 3, 2, 9, 5, 6, 0, 9, 5, 2, 3,\n",
            "        8, 7, 3, 8, 3, 7, 9, 0]), tensor([2, 5, 3, 0, 5, 6, 3, 8, 7, 9, 6, 6, 7, 1, 8, 0, 8, 6, 2, 2, 7, 8, 3, 2,\n",
            "        4, 6, 9, 7, 3, 4, 5, 4]), tensor([5, 3, 9, 5, 6, 5, 8, 4, 1, 7, 9, 3, 3, 3, 6, 9, 1, 3, 3, 9, 5, 6, 8, 2,\n",
            "        2, 1, 4, 0, 6, 7, 8, 6]), tensor([0, 7, 2, 3, 6, 9, 8, 0, 3, 7, 3, 7, 9, 7, 4, 2, 3, 6, 8, 8, 5, 5, 1, 8,\n",
            "        8, 5, 7, 9, 7, 3, 4, 4]), tensor([6, 5, 9, 4, 8, 7, 5, 4, 7, 6, 1, 4, 6, 2, 0, 9, 6, 6, 5, 1, 1, 8, 8, 3,\n",
            "        6, 6, 2, 0, 6, 4, 5, 5]), tensor([2, 4, 6, 4, 6, 1, 5, 2, 7, 8, 6, 7, 7, 0, 8, 4, 3, 6, 9, 1, 2, 1, 7, 4,\n",
            "        3, 4, 9, 9, 6, 6, 4, 3]), tensor([3, 7, 7, 5, 2, 7, 8, 9, 9, 2, 7, 8, 7, 7, 7, 8, 7, 6, 6, 9, 0, 1, 8, 7,\n",
            "        5, 2, 5, 3, 7, 4, 6, 5]), tensor([5, 6, 7, 9, 0, 9, 5, 9, 4, 4, 1, 7, 8, 3, 5, 1, 0, 6, 5, 0, 2, 3, 7, 1,\n",
            "        0, 1, 8, 7, 7, 4, 0, 2]), tensor([7, 0, 0, 5, 1, 4, 8, 1, 7, 2, 7, 3, 2, 3, 4, 7, 8, 0, 7, 6, 9, 5, 8, 6,\n",
            "        7, 3, 5, 0, 9, 7, 1, 1]), tensor([6, 5, 7, 8, 4, 3, 3, 9, 0, 2, 9, 1, 3, 4, 3, 3, 8, 6, 2, 3, 8, 6, 2, 9,\n",
            "        5, 3, 1, 8, 6, 4, 3, 2]), tensor([2, 9, 4, 3, 7, 7, 8, 3, 8, 4, 7, 7, 8, 8, 3, 0, 1, 2, 6, 6, 1, 9, 4, 3,\n",
            "        3, 5, 5, 4, 3, 2, 0, 1]), tensor([4, 9, 9, 7, 6, 1, 2, 2, 0, 6, 6, 2, 5, 9, 4, 8, 2, 6, 1, 5, 9, 2, 3, 8,\n",
            "        9, 3, 1, 7, 1, 3, 3, 9]), tensor([1, 3, 8, 9, 9, 4, 9, 4, 0, 5, 8, 5, 5, 5, 3, 4, 9, 4, 7, 8, 4, 7, 2, 6,\n",
            "        3, 5, 0, 7, 3, 6, 3, 7]), tensor([1, 1, 8, 2, 8, 7, 2, 6, 5, 2, 3, 0, 5, 3, 6, 8, 2, 3, 7, 6, 3, 9, 7, 6,\n",
            "        1, 3, 7, 2, 4, 6, 3, 7]), tensor([8, 3, 1, 9, 5, 3, 8, 4, 6, 6, 1, 8, 2, 3, 6, 2, 8, 9, 9, 4, 8, 4, 1, 7,\n",
            "        9, 0, 8, 7, 3, 3, 8, 4]), tensor([1, 8, 2, 7, 6, 6, 8, 9, 2, 9, 3, 2, 6, 1, 1, 0, 4, 1, 6, 7, 8, 5, 9, 1,\n",
            "        5, 0, 9, 4, 2, 1, 7, 2]), tensor([9, 8, 8, 9, 8, 5, 3, 8, 2, 0, 3, 6, 1, 1, 9, 0, 9, 7, 5, 3, 2, 5, 5, 5,\n",
            "        4, 2, 9, 9, 3, 0, 6, 4]), tensor([1, 7, 4, 7, 2, 6, 5, 8, 6, 0, 1, 3, 2, 2, 3, 6, 6, 6, 6, 8, 3, 2, 4, 6,\n",
            "        3, 6, 3, 5, 4, 2, 3, 9]), tensor([0, 2, 3, 4, 5, 6, 2, 7, 0, 7, 3, 3, 6, 9, 6, 8, 5, 6, 0, 3, 6, 7, 2, 5,\n",
            "        3, 1, 1, 9, 7, 5, 2, 2]), tensor([3, 6, 4, 5, 9, 2, 5, 5, 8, 1, 0, 9, 6, 3, 8, 3, 8, 4, 7, 4, 3, 3, 3, 2,\n",
            "        0, 4, 1, 3, 7, 2, 6, 2]), tensor([2, 3, 4, 4, 0, 8, 4, 5, 1, 4, 8, 8, 2, 3, 2, 1, 4, 9, 6, 5, 9, 6, 8, 0,\n",
            "        3, 4, 3, 8, 4, 7, 5, 4]), tensor([1, 3, 2, 6, 5, 5, 0, 1, 0, 5, 2, 8, 9, 7, 9, 3, 3, 3, 4, 5, 6, 7, 9, 9,\n",
            "        4, 9, 3, 3, 6, 2, 8, 7]), tensor([2, 5, 9, 8, 3, 8, 1, 0, 3, 3, 5, 2, 5, 6, 4, 9, 6, 7, 1, 6, 8, 3, 7, 7,\n",
            "        6, 5, 9, 2, 5, 7, 0, 1]), tensor([6, 1, 2, 8, 6, 4, 7, 2, 7, 1, 8, 7, 5, 3, 3, 1, 0, 3, 6, 5, 3, 8, 6, 3,\n",
            "        4, 9, 3, 1, 5, 3, 0, 7]), tensor([0, 3, 4, 5, 3, 6, 6, 3, 8, 3, 9, 8, 3, 7, 2, 6, 2, 5, 1, 9, 8, 3, 8, 7,\n",
            "        1, 8, 3, 2, 0, 7, 2, 4]), tensor([3, 4, 6, 3, 3, 5, 2, 9, 7, 9, 3, 7, 5, 5, 6, 4, 8, 0, 7, 6, 8, 6, 2, 1,\n",
            "        7, 7, 7, 3, 8, 0, 3, 0]), tensor([9, 8, 5, 6, 2, 8, 1, 7, 7, 7, 0, 3, 6, 3, 3, 4, 6, 4, 6, 1, 7, 6, 2, 2,\n",
            "        6, 3, 8, 2, 6, 6, 3, 0]), tensor([8, 8, 4, 6, 2, 0, 7, 0, 8, 9, 1, 4, 6, 7, 6, 8, 3, 8, 6, 6, 6, 7, 5, 5,\n",
            "        9, 5, 3, 9, 4, 4, 3, 6]), tensor([1, 3, 2, 4, 2, 5, 6, 2, 2, 9, 1, 8, 0, 6, 2, 2, 6, 3, 6, 6, 1, 3, 2, 3,\n",
            "        3, 1, 5, 8, 1, 0, 7, 3]), tensor([7, 0, 3, 2, 8, 9, 8, 7, 8, 4, 5, 9, 8, 5, 1, 2, 2, 7, 2, 9, 7, 8, 6, 7,\n",
            "        4, 6, 3, 8, 8, 4, 7, 3]), tensor([8, 2, 4, 2, 2, 7, 8, 9, 0, 2, 7, 9, 1, 5, 7, 8, 4, 3, 9, 5, 9, 3, 0, 8,\n",
            "        6, 3, 6, 1, 5, 8, 0, 0]), tensor([3, 8, 2, 9, 0, 6, 5, 6, 6, 6, 7, 4, 8, 8, 2, 6, 3, 6, 7, 1, 4, 7, 4, 3,\n",
            "        7, 1, 3, 5, 2, 3, 7, 9]), tensor([6, 2, 8, 6, 0, 1, 8, 8, 3, 8, 7, 8, 2, 7, 4, 3, 9, 3, 8, 9, 0, 6, 2, 4,\n",
            "        5, 7, 0, 2, 3, 9, 7, 7]), tensor([4, 2, 5, 8, 3, 1, 3, 7, 4, 9, 4, 3, 9, 7, 2, 0, 8, 6, 9, 1, 9, 9, 6, 7,\n",
            "        3, 4, 7, 0, 3, 8, 7, 4]), tensor([3, 8, 9, 4, 2, 0, 6, 9, 4, 5, 6, 4, 3, 7, 9, 1, 8, 9, 4, 0, 8, 7, 2, 9,\n",
            "        2, 1, 2, 7, 5, 4, 0, 8]), tensor([3, 4, 7, 2, 2, 2, 8, 5, 7, 9, 5, 7, 3, 2, 3, 9, 3, 2, 1, 5, 6, 9, 7, 4,\n",
            "        2, 2, 5, 8, 0, 7, 7, 3]), tensor([2, 6, 4, 8, 2, 0, 6, 9, 8, 9, 2, 8, 0, 6, 6, 2, 3, 3, 3, 8, 7, 2, 3, 9,\n",
            "        1, 2, 2, 5, 6, 3, 2, 0]), tensor([2, 6, 0, 7, 2, 1, 8, 2, 8, 7, 9, 4, 1, 2, 8, 7, 7, 4, 2, 5, 7, 0, 4, 7,\n",
            "        3, 2, 0, 9, 6, 7, 3, 9]), tensor([1, 2, 1, 9, 7, 2, 3, 4, 8, 1, 8, 3, 5, 0, 5, 3, 8, 2, 7, 2, 9, 0, 6, 8,\n",
            "        4, 2, 4, 4, 4, 3, 7, 8]), tensor([7, 1, 3, 7, 6, 9, 5, 5, 2, 4, 4, 5, 0, 8, 3, 3, 6, 6, 8, 8, 7, 6, 9, 1,\n",
            "        5, 1, 2, 1, 3, 2, 2, 2]), tensor([2, 5, 7, 5, 9, 2, 0, 5, 7, 0, 5, 6, 5, 3, 3, 4, 0, 7, 1, 5, 6, 9, 6, 1,\n",
            "        7, 3, 2, 4, 0, 7, 1, 8]), tensor([5, 7, 8, 8, 5, 1, 8, 7, 7, 7, 7, 6, 5, 2, 2, 3, 2, 3, 2, 1, 0, 0, 9, 3,\n",
            "        8, 2, 3, 7, 4, 9, 5, 7]), tensor([4, 3, 9, 8, 6, 8, 2, 7, 3, 8, 3, 0, 8, 8, 0, 9, 6, 0, 8, 5, 7, 1, 6, 8,\n",
            "        2, 0, 2, 3, 3, 1, 1, 7]), tensor([6, 2, 2, 5, 9, 8, 7, 7, 3, 4, 7, 9, 2, 0, 1, 3, 1, 4, 8, 3, 8, 6, 9, 5,\n",
            "        6, 7, 6, 8, 2, 3, 6, 4]), tensor([6, 2, 5, 7, 4, 9, 7, 6, 2, 2, 0, 7, 4, 5, 2, 3, 3, 1, 9, 8, 1, 8, 6, 2,\n",
            "        3, 9, 1, 9, 7, 6, 9, 0]), tensor([9, 3, 0, 2, 8, 3, 4, 3, 6, 9, 2, 1, 1, 0, 5, 6, 7, 0, 4, 1, 1, 7, 0, 6,\n",
            "        3, 9, 8, 7, 3, 8, 4, 3]), tensor([6, 6, 8, 0, 3, 0, 2, 3, 5, 9, 5, 8, 9, 3, 3, 7, 8, 9, 4, 1, 3, 7, 0, 7,\n",
            "        6, 0, 9, 6, 0, 2, 9, 6]), tensor([8, 5, 5, 9, 3, 3, 5, 7, 1, 3, 3, 3, 5, 6, 6, 4, 1, 1, 9, 1, 4, 6, 6, 2,\n",
            "        2, 6, 6, 0, 2, 5, 0, 3]), tensor([0, 5, 3, 3, 8, 4, 5, 3, 5, 1, 6, 6, 3, 2, 2, 7, 9, 6, 3, 8, 7, 6, 4, 9,\n",
            "        1, 9, 7, 7, 4, 2, 6, 7]), tensor([5, 3, 1, 5, 7, 7, 8, 2, 8, 3, 7, 6, 6, 8, 9, 9, 0, 6, 7, 3, 1, 6, 8, 2,\n",
            "        4, 4, 4, 7, 3, 8, 4, 6]), tensor([3, 4, 6, 3, 7, 8, 0, 3, 8, 3, 9, 2, 1, 5, 6, 5, 6, 8, 4, 2, 5, 9, 3, 6,\n",
            "        4, 7, 8, 5, 7, 5, 0, 0]), tensor([6, 9, 7, 2, 9, 2, 2, 2, 8, 6, 1, 6, 3, 9, 4, 0, 3, 8, 2, 6, 8, 2, 7, 2,\n",
            "        5, 6, 3, 8, 8, 7, 0, 2]), tensor([1, 1, 8, 7, 3, 2, 0, 5, 4, 3, 8, 8, 8, 9, 2, 6, 9, 2, 0, 3, 0, 8, 6, 8,\n",
            "        8, 5, 9, 6, 7, 3, 7, 0]), tensor([3, 3, 0, 6, 0, 9, 9, 8, 1, 0, 4, 2, 4, 6, 6, 5, 3, 4, 9, 8, 7, 8, 3, 6,\n",
            "        1, 4, 8, 7, 2, 6, 2, 3]), tensor([7, 6, 3, 5, 2, 7, 3, 9, 1, 2, 7, 8, 7, 3, 8, 8, 7, 5, 8, 4, 4, 6, 8, 3,\n",
            "        3, 4, 9, 6, 1, 0, 7, 1]), tensor([2, 0, 9, 2, 6, 3, 6, 7, 6, 6, 4, 3, 8, 5, 1, 8, 3, 4, 4, 5, 0, 0, 9, 8,\n",
            "        7, 4, 2, 2, 0, 9, 3, 5]), tensor([0, 9, 9, 0, 1, 3, 7, 3, 9, 4, 5, 2, 4, 5, 5, 7, 9, 4, 2, 8, 3, 1, 7, 8,\n",
            "        8, 6, 8, 0, 5, 5, 7, 3]), tensor([7, 6, 2, 1, 5, 1, 5, 0, 3, 2, 3, 2, 7, 3, 9, 3, 5, 4, 0, 6, 7, 7, 2, 2,\n",
            "        3, 8, 5, 8, 3, 6, 4, 1]), tensor([2, 9, 5, 8, 9, 0, 3, 2, 9, 5, 9, 3, 1, 0, 8, 6, 1, 4, 6, 9, 9, 8, 7, 7,\n",
            "        4, 3, 3, 9, 7, 1, 9, 0]), tensor([2, 3, 9, 3, 1, 4, 6, 8, 3, 4, 3, 3, 8, 3, 7, 1, 3, 3, 8, 4, 7, 9, 6, 6,\n",
            "        3, 0, 4, 5, 7, 6, 7, 2]), tensor([5, 0, 2, 6, 3, 3, 0, 3, 4, 4, 4, 2, 6, 9, 9, 6, 7, 4, 3, 2, 2, 1, 9, 5,\n",
            "        7, 9, 0, 5, 8, 2, 7, 3]), tensor([9, 5, 2, 8, 9, 5, 8, 0, 0, 3, 0, 6, 3, 7, 8, 0, 1, 2, 2, 6, 1, 1, 6, 2,\n",
            "        6, 5, 4, 3, 9, 3, 6, 2]), tensor([3, 7, 2, 9, 2, 1, 6, 7, 5, 5, 9, 2, 0, 9, 7, 9, 7, 4, 1, 8, 3, 3, 8, 0,\n",
            "        8, 7, 6, 7, 7, 9, 6, 4]), tensor([3, 3, 7, 6, 3, 5, 2, 0, 5, 8, 6, 7, 0, 3, 6, 5, 2, 2, 1, 4, 1, 8, 7, 9,\n",
            "        9, 7, 3, 2, 2, 2, 7, 2]), tensor([3, 9, 6, 3, 9, 5, 1, 0, 7, 8, 7, 2, 3, 9, 7, 2, 7, 6, 8, 7, 7, 4, 9, 9,\n",
            "        4, 3, 8, 0, 2, 8, 5, 3]), tensor([1, 9, 3, 7, 3, 6, 3, 4, 4, 4, 5, 7, 2, 3, 1, 7, 7, 7, 0, 3, 4, 8, 5, 2,\n",
            "        5, 3, 7, 8, 7, 7, 0, 8]), tensor([5, 3, 0, 7, 5, 2, 7, 7, 9, 7, 1, 0, 0, 8, 6, 3, 2, 2, 4, 5, 5, 6, 5, 3,\n",
            "        3, 4, 5, 2, 7, 3, 8, 7]), tensor([1, 6, 2, 8, 6, 7, 3, 7, 6, 8, 6, 3, 8, 4, 6, 6, 6, 8, 7, 3, 3, 0, 5, 6,\n",
            "        1, 5, 0, 9, 9, 3, 3, 0]), tensor([6, 1, 2, 0, 5, 5, 2, 4, 0, 9, 2, 6, 8, 6, 8, 3, 7, 7, 3, 3, 9, 5, 7, 3,\n",
            "        0, 9, 4, 5, 6, 7, 2, 9]), tensor([5, 5, 8, 8, 4, 9, 5, 2, 3, 6, 3, 0, 2, 7, 6, 4, 6, 5, 2, 1, 5, 7, 9, 7,\n",
            "        3, 9, 8, 8, 5, 1, 8, 3]), tensor([3, 0, 4, 8, 0, 5, 6, 9, 8, 8, 4, 4, 4, 1, 7, 5, 1, 2, 6, 7, 0, 3, 2, 8,\n",
            "        7, 8, 5, 7, 1, 1, 3, 8]), tensor([7, 5, 9, 3, 3, 6, 3, 6, 4, 4, 7, 1, 6, 0, 1, 5, 3, 4, 9, 2, 4, 2, 2, 6,\n",
            "        7, 9, 6, 7, 3, 2, 0, 8]), tensor([3, 3, 5, 6, 0, 8, 3, 0, 6, 0, 1, 8, 4, 3, 2, 9, 7, 4, 3, 7, 6, 1, 6, 4,\n",
            "        4, 7, 6, 6, 7, 3, 0, 6]), tensor([7, 2, 2, 3, 6, 4, 2, 6, 3, 8, 8, 1, 7, 5, 2, 8, 7, 7, 9, 9, 9, 2, 6, 8,\n",
            "        4, 0, 8, 8, 8, 0, 5, 3]), tensor([6, 6, 6, 6, 9, 7, 2, 3, 5, 6, 3, 1, 0, 8, 9, 5, 7, 3, 3, 2, 4, 3, 3, 8,\n",
            "        1, 8, 2, 6, 6, 9, 8, 5]), tensor([1, 4, 2, 0, 7, 6, 5, 5, 0, 7, 3, 6, 5, 8, 5, 7, 4, 9, 6, 3, 3, 2, 5, 0,\n",
            "        8, 6, 4, 2, 3, 6, 0, 6]), tensor([3, 3, 5, 9, 4, 7, 1, 5, 6, 0, 6, 1, 7, 9, 4, 0, 4, 5, 2, 9, 2, 9, 8, 8,\n",
            "        7, 6, 2, 0, 9, 3, 6, 7]), tensor([6, 2, 7, 0, 6, 1, 0, 5, 7, 3, 5, 9, 2, 3, 4, 8, 5, 8, 1, 9, 2, 7, 6, 7,\n",
            "        3, 6, 2, 5, 6, 8, 8, 8]), tensor([7, 4, 0, 5, 1, 5, 9, 6, 0, 9, 5, 8, 5, 7, 3, 9, 8, 3, 2, 0, 5, 7, 5, 1,\n",
            "        1, 5, 4, 3, 8, 5, 8, 2]), tensor([9, 6, 1, 3, 4, 6, 2, 4, 1, 1, 4, 7, 8, 5, 0, 2, 8, 8, 8, 8, 7, 7, 1, 2,\n",
            "        6, 2, 1, 6, 6, 2, 5, 8]), tensor([2, 4, 2, 3, 1, 7, 8, 4, 4, 0, 8, 6, 8, 0, 3, 2, 5, 8, 7, 5, 7, 6, 1, 3,\n",
            "        9, 7, 8, 6, 1, 9, 6, 3]), tensor([6, 9, 4, 0, 4, 9, 7, 2, 2, 2, 0, 7, 6, 6, 3, 7, 8, 3, 2, 6, 1, 3, 9, 9,\n",
            "        6, 5, 3, 6, 8, 7, 8, 6]), tensor([6, 1, 2, 0, 7, 2, 9, 0, 4, 8, 2, 3, 6, 9, 5, 5, 8, 4, 0, 6, 1, 0, 8, 9,\n",
            "        6, 2, 2, 3, 3, 0, 7, 1]), tensor([8, 8, 5, 3, 3, 7, 7, 3, 0, 3, 4, 1, 9, 0, 2, 1, 3, 0, 7, 3, 7, 2, 9, 0,\n",
            "        1, 8, 9, 2, 6, 6, 0, 9]), tensor([1, 3, 1, 2, 7, 8, 0, 5, 6, 8, 2, 9, 5, 3, 5, 9, 1, 8, 5, 3, 1, 2, 4, 3,\n",
            "        7, 3, 7, 4, 8, 0, 7, 1]), tensor([2, 3, 9, 8, 3, 8, 7, 7, 5, 7, 0, 5, 2, 5, 9, 6, 1, 9, 8, 6, 3, 7, 6, 9,\n",
            "        5, 4, 5, 1, 2, 1, 2, 6]), tensor([9, 6, 0, 7, 0, 0, 7, 5, 2, 6, 9, 9, 1, 6, 7, 7, 7, 2, 5, 1, 4, 0, 6, 3,\n",
            "        8, 7, 8, 2, 1, 0, 8, 3]), tensor([9, 8, 8, 7, 8, 3, 6, 0, 7, 6, 8, 6, 9, 9, 4, 7, 7, 2, 2, 1, 5, 3, 4, 3,\n",
            "        5, 5, 6, 8, 2, 7, 8, 9]), tensor([4, 2, 1, 7, 4, 6, 6, 7, 4, 3, 6, 0, 7, 7, 8, 0, 9, 1, 2, 6, 2, 9, 7, 1,\n",
            "        5, 7, 3, 3, 1, 4, 3, 5]), tensor([3, 3, 9, 4, 1, 4, 4, 2, 7, 5, 4, 6, 7, 9, 8, 3, 8, 1, 2, 2, 5, 5, 3, 1,\n",
            "        2, 6, 6, 1, 2, 0, 7, 6]), tensor([8, 8, 2, 8, 2, 5, 0, 6, 1, 7, 9, 7, 3, 5, 4, 6, 4, 8, 7, 3, 6, 8, 9, 6,\n",
            "        2, 4, 8, 2, 8, 0, 1, 5]), tensor([3, 8, 1, 7, 2, 9, 3, 7, 9, 5, 1, 8, 3, 0, 9, 6, 6, 6, 4, 2, 7, 6, 6, 9,\n",
            "        8, 8, 1, 5, 7, 7, 3, 7]), tensor([5, 4, 4, 6, 7, 8, 7, 3, 7, 0, 6, 5, 5, 2, 6, 9, 2, 6, 3, 2, 0, 4, 7, 8,\n",
            "        2, 2, 3, 1, 9, 3, 8, 3]), tensor([9, 7, 3, 7, 1, 3, 3, 8, 8, 6, 0, 6, 4, 1, 3, 2, 9, 0, 3, 2, 1, 3, 2, 7,\n",
            "        3, 1, 8, 8, 7, 3, 6, 5]), tensor([0, 4, 6, 2, 2, 5, 2, 3, 8, 2, 1, 7, 3, 6, 8, 9, 5, 0, 0, 8, 1, 2, 9, 0,\n",
            "        3, 3, 1, 6, 7, 8, 3, 6]), tensor([9, 6, 2, 8, 3, 8, 4, 9, 4, 7, 7, 3, 3, 2, 4, 5, 7, 3, 7, 6, 6, 6, 9, 3,\n",
            "        0, 5, 4, 1, 2, 1, 8, 1]), tensor([7, 4, 8, 7, 9, 3, 3, 7, 0, 6, 6, 1, 6, 6, 6, 4, 6, 2, 7, 6, 6, 3, 4, 0,\n",
            "        0, 1, 3, 8, 6, 5, 7, 9]), tensor([4, 6, 3, 7, 5, 1, 2, 7, 7, 5, 8, 0, 9, 1, 6, 1, 4, 5, 1, 2, 5, 3, 3, 0,\n",
            "        7, 1, 2, 7, 9, 3, 7, 6]), tensor([4, 6, 6, 7, 2, 7, 3, 3, 7, 8, 8, 7, 6, 3, 2, 0, 9, 7, 7, 9, 1, 2, 6, 4,\n",
            "        7, 4, 3, 3, 1, 7, 5, 7]), tensor([6, 5, 2, 6, 3, 1, 4, 7, 5, 3, 2, 7, 8, 4, 7, 4, 6, 8, 3, 6, 1, 7, 9, 6,\n",
            "        9, 1, 6, 6, 5, 1, 0, 6]), tensor([3, 7, 6, 1, 8, 6, 5, 7, 5, 8, 1, 0, 9, 6, 3, 6, 3, 1, 4, 7, 3, 0, 7, 5,\n",
            "        6, 9, 5, 4, 0, 4, 7, 2]), tensor([3, 8, 3, 8, 1, 1, 2, 6, 8, 1, 0, 8, 1, 8, 5, 3, 2, 7, 0, 2, 4, 9, 4, 2,\n",
            "        4, 9, 5, 6, 9, 9, 6, 7]), tensor([3, 2, 3, 3, 9, 6, 7, 7, 8, 1, 3, 0, 6, 5, 7, 9, 4, 7, 6, 7, 0, 6, 2, 9,\n",
            "        7, 7, 7, 5, 0, 1, 6, 3]), tensor([4, 4, 2, 0, 5, 8, 7, 8, 4, 2, 8, 5, 7, 1, 6, 7, 9, 9, 0, 1, 5, 3, 1, 3,\n",
            "        6, 7, 9, 8, 3, 4, 8, 5]), tensor([2, 4, 3, 6, 8, 0, 9, 0, 6, 9, 0, 1, 2, 8, 3, 8, 2, 3, 8, 1, 7, 3, 9, 1,\n",
            "        8, 3, 5, 4, 1, 0, 8, 6]), tensor([6, 4, 8, 2, 2, 8, 7, 0, 2, 6, 9, 8, 6, 1, 0, 0, 6, 8, 3, 4, 7, 7, 5, 9,\n",
            "        2, 5, 3, 6, 9, 9, 4, 8]), tensor([7, 6, 9, 0, 6, 0, 2, 8, 3, 1, 9, 2, 3, 5, 7, 0, 8, 7, 0, 6, 6, 4, 1, 3,\n",
            "        7, 8, 8, 5, 0, 2, 6, 0]), tensor([5, 6, 7, 3, 8, 3, 2, 4, 8, 6, 1, 5, 3, 3, 3, 1, 7, 2, 8, 7, 8, 4, 3, 6,\n",
            "        2, 5, 4, 9, 0, 7, 1, 1]), tensor([7, 9, 6, 1, 6, 7, 7, 6, 6, 3, 3, 2, 3, 0, 3, 9, 9, 8, 4, 9, 6, 2, 5, 4,\n",
            "        7, 2, 6, 8, 2, 3, 9, 3]), tensor([7, 0, 6, 3, 5, 8, 4, 3, 6, 6, 9, 8, 8, 3, 6, 0, 3, 3, 7, 4, 2, 8, 1, 7,\n",
            "        2, 8, 9, 1, 6, 6, 6, 8]), tensor([7, 3, 5, 0, 6, 3, 1, 3, 0, 5, 5, 4, 3, 7, 6, 6, 6, 9, 6, 7, 6, 5, 6, 8,\n",
            "        2, 1, 3, 3, 6, 5, 5, 3]), tensor([5, 0, 2, 0, 7, 4, 6, 8, 1, 1, 8, 2, 3, 8, 7, 4, 2, 2, 8, 3, 8, 2, 7, 7,\n",
            "        0, 3, 6, 8, 1, 5, 9, 4]), tensor([2, 8, 9, 6, 1, 0, 5, 8, 4, 2, 8, 2, 6, 0, 7, 6, 7, 3, 7, 4, 8, 6, 8, 3,\n",
            "        9, 9, 0, 6, 8, 6, 3, 6]), tensor([4, 7, 2, 5, 6, 5, 6, 3, 1, 7, 8, 6, 4, 7, 3, 3, 8, 3, 3, 9, 2, 8, 5, 4,\n",
            "        9, 6, 3, 2, 6, 0, 3, 1]), tensor([7, 3, 8, 2, 1, 9, 5, 8, 4, 8, 2, 3, 7, 3, 6, 4, 9, 6, 6, 2, 9, 8, 0, 5,\n",
            "        7, 4, 4, 5, 2, 3, 0, 7]), tensor([2, 4, 2, 7, 6, 6, 3, 3, 1, 7, 4, 0, 3, 9, 7, 8, 6, 8, 3, 7, 2, 6, 3, 5,\n",
            "        2, 8, 9, 0, 9, 7, 5, 7]), tensor([7, 9, 3, 6, 8, 4, 3, 9, 3, 1, 0, 2, 5, 2, 8, 7, 9, 7, 7, 7, 9, 2, 6, 0,\n",
            "        6, 7, 6, 1, 8, 0, 3, 8]), tensor([5, 6, 5, 6, 9, 1, 1, 2, 6, 8, 9, 7, 7, 5, 8, 6, 3, 4, 0, 1, 8, 6, 3, 4,\n",
            "        7, 9, 3, 7, 5, 5, 6, 9]), tensor([1, 4, 1, 2, 7, 4, 6, 9, 3, 4, 6, 1, 7, 2, 1, 2, 5, 9, 0, 6, 5, 5, 3, 8,\n",
            "        8, 2, 8, 5, 7, 0, 7, 0]), tensor([9, 6, 5, 2, 9, 4, 8, 5, 3, 6, 1, 6, 2, 4, 7, 3, 1, 7, 7, 8, 5, 7, 0, 6,\n",
            "        4, 2, 1, 3, 8, 3, 3, 4]), tensor([7, 5, 9, 1, 0, 4, 3, 7, 6, 6, 3, 1, 8, 4, 7, 6, 5, 7, 3, 1, 7, 1, 9, 2,\n",
            "        9, 6, 2, 6, 1, 8, 3, 9]), tensor([8, 4, 0, 6, 8, 4, 5, 1, 6, 4, 6, 2, 2, 8, 5, 7, 7, 7, 6, 5, 5, 7, 9, 7,\n",
            "        8, 2, 8, 2, 3, 3, 3, 4]), tensor([8, 9, 4, 0, 7, 3, 6, 8, 1, 0, 6, 1, 0, 5, 4, 9, 7, 2, 8, 7, 3, 7, 2, 3,\n",
            "        2, 1, 7, 4, 8, 8, 5, 0]), tensor([2, 0, 0, 1, 6, 6, 5, 0, 1, 5, 5, 2, 5, 1, 7, 8, 7, 1, 6, 7, 0, 9, 3, 3,\n",
            "        9, 0, 4, 6, 6, 5, 9, 9]), tensor([2, 2, 7, 3, 8, 1, 4, 2, 3, 7, 8, 4, 0, 4, 8, 4, 2, 9, 3, 5, 8, 0, 1, 9,\n",
            "        6, 7, 3, 7, 6, 4, 6, 0]), tensor([2, 3, 3, 3, 6, 7, 0, 5, 9, 8, 5, 3, 7, 9, 9, 6, 8, 8, 3, 1, 4, 4, 0, 2,\n",
            "        8, 3, 2, 3, 3, 3, 2, 7]), tensor([8, 7, 0, 4, 3, 4, 4, 8, 7, 9, 2, 8, 2, 6, 8, 6, 1, 7, 6, 7, 6, 0, 0, 3,\n",
            "        5, 3, 1, 2, 3, 6, 9, 8]), tensor([1, 0, 1, 6, 8, 5, 6, 6, 4, 0, 4, 9, 3, 8, 7, 4, 8, 6, 2, 8, 6, 4, 4, 3,\n",
            "        8, 7, 7, 2, 8, 7, 2, 9]), tensor([5, 9, 6, 1, 0, 4, 3, 7, 7, 1, 7, 3, 5, 8, 7, 2, 5, 3, 5, 2, 0, 6, 0, 1,\n",
            "        6, 4, 4, 8, 0, 3, 2, 8]), tensor([3, 5, 4, 6, 3, 6, 5, 1, 8, 3, 1, 6, 7, 8, 4, 2, 0, 3, 7, 8, 1, 4, 9, 6,\n",
            "        2, 8, 1, 4, 8, 8, 3, 6]), tensor([8, 8, 7, 8, 4, 7, 7, 6, 3, 8, 1, 7, 7, 0, 3, 1, 6, 8, 8, 3, 8, 9, 6, 6,\n",
            "        9, 5, 3, 7, 2, 1, 8, 2]), tensor([0, 3, 2, 0, 7, 1, 3, 2, 4, 5, 7, 0, 2, 7, 3, 3, 7, 8, 8, 2, 8, 6, 9, 7,\n",
            "        0, 2, 9, 3, 0, 5, 5, 0]), tensor([9, 1, 2, 3, 5, 2, 4, 1, 4, 0, 3, 3, 6, 3, 6, 8, 4, 7, 5, 5, 7, 0, 7, 9,\n",
            "        4, 3, 2, 9, 2, 7, 1, 8]), tensor([8, 8, 5, 8, 3, 8, 9, 3, 6, 0, 2, 1, 8, 4, 4, 6, 6, 7, 5, 4, 1, 5, 1, 3,\n",
            "        5, 6, 4, 2, 3, 7, 3, 6]), tensor([8, 2, 9, 3, 9, 6, 0, 4, 1, 2, 6, 6, 9, 1, 3, 9, 7, 2, 2, 6, 2, 7, 7, 8,\n",
            "        5, 0, 9, 0, 0, 6, 8, 1]), tensor([3, 0, 7, 5, 8, 2, 5, 6, 8, 9, 1, 9, 3, 0, 3, 7])]\n"
          ]
        }
      ]
    },
    {
      "cell_type": "code",
      "source": [
        "# See if required packages are installed and if not, install them\n",
        "try:\n",
        "  import torchmetrics,mlxtend\n",
        "  print(f\"mlxtend version: {mlxtend.__version__}\")\n",
        "  assert int(mlxtend.__version__.split(\".\")[1]) >= 19, \"mlxtend version should be 0.19.0 or higher\"\n",
        "except:\n",
        "  ! pip install -q torchmetrics -U mlxtend\n",
        "  import torchmetrics, mlxtend\n",
        "  print(f\"mlxtend version: {mlxtend.__version__}\")"
      ],
      "metadata": {
        "id": "kf2fuTGrkgKW",
        "outputId": "0356b63b-16e0-4239-98d3-39d016a907f0",
        "colab": {
          "base_uri": "https://localhost:8080/"
        }
      },
      "execution_count": 91,
      "outputs": [
        {
          "output_type": "stream",
          "name": "stdout",
          "text": [
            "\u001b[?25l     \u001b[90m━━━━━━━━━━━━━━━━━━━━━━━━━━━━━━━━━━━━━━━━\u001b[0m \u001b[32m0.0/805.2 kB\u001b[0m \u001b[31m?\u001b[0m eta \u001b[36m-:--:--\u001b[0m\r\u001b[2K     \u001b[91m━━━━━━\u001b[0m\u001b[90m╺\u001b[0m\u001b[90m━━━━━━━━━━━━━━━━━━━━━━━━━━━━━━━━━\u001b[0m \u001b[32m122.9/805.2 kB\u001b[0m \u001b[31m3.5 MB/s\u001b[0m eta \u001b[36m0:00:01\u001b[0m\r\u001b[2K     \u001b[91m━━━━━━━━━━━━━━━━━━━━━━━━━━━━━━━━━━━━━━━\u001b[0m\u001b[91m╸\u001b[0m \u001b[32m798.7/805.2 kB\u001b[0m \u001b[31m12.2 MB/s\u001b[0m eta \u001b[36m0:00:01\u001b[0m\r\u001b[2K     \u001b[90m━━━━━━━━━━━━━━━━━━━━━━━━━━━━━━━━━━━━━━━━\u001b[0m \u001b[32m805.2/805.2 kB\u001b[0m \u001b[31m10.7 MB/s\u001b[0m eta \u001b[36m0:00:00\u001b[0m\n",
            "\u001b[?25h\u001b[?25l     \u001b[90m━━━━━━━━━━━━━━━━━━━━━━━━━━━━━━━━━━━━━━━━\u001b[0m \u001b[32m0.0/1.4 MB\u001b[0m \u001b[31m?\u001b[0m eta \u001b[36m-:--:--\u001b[0m\r\u001b[2K     \u001b[90m━━━━━━━━━━━━━━━━━━━━━━━━━━━━━━━━━━━━━━━━\u001b[0m \u001b[32m1.4/1.4 MB\u001b[0m \u001b[31m58.4 MB/s\u001b[0m eta \u001b[36m0:00:00\u001b[0m\n",
            "\u001b[?25hmlxtend version: 0.23.0\n"
          ]
        }
      ]
    },
    {
      "cell_type": "code",
      "source": [
        "from torchmetrics import ConfusionMatrix\n",
        "from mlxtend.plotting import plot_confusion_matrix\n",
        "\n",
        "# 2. Setup confusion instance and compare predictions to targets\n",
        "\n",
        "confmat = ConfusionMatrix(num_classes = len(class_names),task = \"multiclass\")\n",
        "confmat_tensor = confmat(preds = y_pred_tensor,\n",
        "                         target = test_data.targets)\n",
        "\n",
        "# 3.  Plot the confusion matrix\n",
        "fig,ax = plot_confusion_matrix(\n",
        "    conf_mat = confmat_tensor.numpy(),\n",
        "    class_names = class_names,\n",
        "    figsize=(10,7)\n",
        ")"
      ],
      "metadata": {
        "id": "PDkMdW-KmC60",
        "outputId": "57af86b5-2104-4473-d807-2f1ac5c49731",
        "colab": {
          "base_uri": "https://localhost:8080/",
          "height": 667
        }
      },
      "execution_count": 95,
      "outputs": [
        {
          "output_type": "display_data",
          "data": {
            "text/plain": [
              "<Figure size 1000x700 with 1 Axes>"
            ],
            "image/png": "[encoded data removed]"
          },
          "metadata": {}
        }
      ]
    },
    {
      "cell_type": "code",
      "source": [
        "confmat_tensor"
      ],
      "metadata": {
        "id": "Ykpn_SOXndMx",
        "outputId": "6685c1c3-f6e4-4211-f98f-3ef048eb0d9d",
        "colab": {
          "base_uri": "https://localhost:8080/"
        }
      },
      "execution_count": 94,
      "outputs": [
        {
          "output_type": "execute_result",
          "data": {
            "text/plain": [
              "tensor([[555,   6,  30, 103,   6,   3, 281,   0,  16,   0],\n",
              "        [ 23, 697,  13, 246,  13,   1,   3,   1,   3,   0],\n",
              "        [ 12,   3, 711,  24, 110,   0, 125,   0,  15,   0],\n",
              "        [ 25,  14,  12, 868,  30,   0,  39,   1,  11,   0],\n",
              "        [  4,   9, 174,  65, 564,   0, 167,   0,  17,   0],\n",
              "        [  4,   1,   1,   3,   0, 745,   1, 109, 109,  27],\n",
              "        [ 90,   5, 129,  84,  74,   1, 595,   0,  22,   0],\n",
              "        [  1,   0,   0,   0,   0,  37,   0, 919,  14,  29],\n",
              "        [  6,   4,  13,   9,   5,   5,  27,   5, 926,   0],\n",
              "        [  0,   0,   0,   1,   1,  65,   1, 143,  21, 768]])"
            ]
          },
          "metadata": {},
          "execution_count": 94
        }
      ]
    },
    {
      "cell_type": "code",
      "source": [],
      "metadata": {
        "id": "MkJkYGkEnnEU"
      },
      "execution_count": null,
      "outputs": []
    }
  ]
}